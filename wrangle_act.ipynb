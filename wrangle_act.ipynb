{
 "cells": [
  {
   "cell_type": "markdown",
   "metadata": {},
   "source": [
    "<a id='top_of_page'></a>\n",
    "# GoodDoggo - Wrangling and Assessing 'WeRateDogs' Twitter Data\n",
    "\n",
    "<a id='top_of_page'></a>\n",
    "## Table of Contents\n",
    "\n",
    "- **[Gather](#gather)**\n",
    "  - [Retrieve Local Data (manually)](#retrieve_local)\n",
    "  - [Retrieve Image Data from a url (programmatically)](#retrieve_via_url)\n",
    "  - [Retrieve Twitter Data (via API)](#retrieve_via_API)<br>\n",
    "\n",
    "- **[Assess](#assess)**\n",
    "  - [Quality](#assess_quality)\n",
    "    - [Completeness](#assess_completeness)\n",
    "    - [Validity](#assess_validity)\n",
    "    - [Accuracy](#assess_accuracy)\n",
    "    - [Consistency](#assess_consistency)\n",
    "  - [Tidiness](#assess_tidiness)<br>\n",
    "  - [Summary of Initial Observations](#assess_summary_initial)<br>\n",
    "\n",
    "- **[Clean](#clean)**\n",
    "  - [Quality](#clean_quality)\n",
    "    - [Number of records](#clean_num_records)\n",
    "    - [High numerators](#clean_high_numerator)\n",
    "    - [High denominators](#clean_high_denominator)\n",
    "    - [Zero values in numerators and denominators](#clean_numerator_zeros)\n",
    "    - [Converting columns to type 'datetime'](#clean_datetime)\n",
    "    - [Converting columns to type 'int64' (archive data)](#clean_int64)\n",
    "    - [_(No Cleaning)_ Assess Updated Columns](#assess_updated_columns)\n",
    "    - [Remove retweets](#clean_retweets)\n",
    "    - [Converting columns to type 'int64' (JSON data)](#clean_int64_JSON_data)  \n",
    "    - [Remove entries with multiple dog stages](#clean_number_of_dog_stages)\n",
    "  - [Tidiness](#clean_tidiness)\n",
    "    - [Remove columns associated with retweets](#clean_retweet_columns)\n",
    "    - [Combine dog descriptions into a single column](#clean_dog_categories)\n",
    "    - [Extract urls from 'text' column](#clean_text_urls)\n",
    "    - [Merge Dataframes](#clean_tables)\n",
    "    - [Update the Number of Records](#clean_update_records)\n",
    "    \n",
    "- **[Analysis & Visualizations](#analysis_visualizations)**\n",
    "  - [(add explanation) Favorites vs. Day](#analysis_favorite_count_vs_day)\n",
    "  - [(add explanation) Tweets vs. Breed Type](#analysis_tweets_grouped_by_breed)\n",
    "  - [(in progress) Histogram of Favorites](#analysis_histogram_favorites)\n",
    "  - [(in progress) Tweets per week](#analysis_tweets_per_week)\n",
    "  - [(redact?) Retweet_count vs. Day](#analysis_retweet_count_vs_day)\n",
    "\n",
    "- **[Code Snippets](#code_snippets)**\n",
    "  - [Dropping Rows](#code_snippets_dropping_rows)\n",
    "  - [Merging Dataframes](#code_snippets_merging)\n",
    "  \n",
    "- **[Open Items](#open_items)**\n",
    "  - [To Check / Potentially Fix](#open_items_to_check)\n",
    "    - [Accuracy of 'doggo' entries](#open_items_prelimCode_doggo_accuracy)\n",
    "  - [To Be Aware of (don't necessarily have to fix)](#open_items_to_be_aware_of)"
   ]
  },
  {
   "cell_type": "code",
   "execution_count": 1,
   "metadata": {},
   "outputs": [],
   "source": [
    "# for data wrangling and sampling\n",
    "import pandas as pd\n",
    "import numpy as np\n",
    "import random\n",
    "\n",
    "import requests       # to download files programmatically\n",
    "import os             # to save/open files and for terminal-like commands to navigate local machine\n",
    "import tweepy\n",
    "import pprint as pp   # data pretty printer - https://docs.python.org/2/library/pprint.html\n",
    "import json           # for json I/O and parsing\n",
    "import time           # for timing code and dealing with Twitter's rate limit\n",
    "\n",
    "# Set the random seed to assure the same answers are returned each time \n",
    "random.seed(42)\n",
    "\n",
    "# for plotting\n",
    "import matplotlib.pyplot as plt\n",
    "%matplotlib inline\n",
    "import seaborn as sb\n",
    "\n",
    "# for (potential) regression modeling of data\n",
    "import statsmodels.api as sm;\n",
    "from patsy import dmatrices\n",
    "from statsmodels.stats.outliers_influence import variance_inflation_factor"
   ]
  },
  {
   "cell_type": "markdown",
   "metadata": {},
   "source": [
    "<a id='gather'></a>\n",
    "([Top of Page](#top_of_page))\n",
    "## Gather"
   ]
  },
  {
   "cell_type": "markdown",
   "metadata": {},
   "source": [
    "<a id='retrieve_local'></a>\n",
    "([Top of Page](#top_of_page))\n",
    "### Retrieve Local Data (Read in a Previously Provided Twitter Archive)"
   ]
  },
  {
   "cell_type": "code",
   "execution_count": 2,
   "metadata": {},
   "outputs": [
    {
     "data": {
      "text/html": [
       "<div>\n",
       "<style scoped>\n",
       "    .dataframe tbody tr th:only-of-type {\n",
       "        vertical-align: middle;\n",
       "    }\n",
       "\n",
       "    .dataframe tbody tr th {\n",
       "        vertical-align: top;\n",
       "    }\n",
       "\n",
       "    .dataframe thead th {\n",
       "        text-align: right;\n",
       "    }\n",
       "</style>\n",
       "<table border=\"1\" class=\"dataframe\">\n",
       "  <thead>\n",
       "    <tr style=\"text-align: right;\">\n",
       "      <th></th>\n",
       "      <th>tweet_id</th>\n",
       "      <th>in_reply_to_status_id</th>\n",
       "      <th>in_reply_to_user_id</th>\n",
       "      <th>timestamp</th>\n",
       "      <th>source</th>\n",
       "      <th>text</th>\n",
       "      <th>retweeted_status_id</th>\n",
       "      <th>retweeted_status_user_id</th>\n",
       "      <th>retweeted_status_timestamp</th>\n",
       "      <th>expanded_urls</th>\n",
       "      <th>rating_numerator</th>\n",
       "      <th>rating_denominator</th>\n",
       "      <th>name</th>\n",
       "      <th>doggo</th>\n",
       "      <th>floofer</th>\n",
       "      <th>pupper</th>\n",
       "      <th>puppo</th>\n",
       "    </tr>\n",
       "  </thead>\n",
       "  <tbody>\n",
       "    <tr>\n",
       "      <th>0</th>\n",
       "      <td>892420643555336193</td>\n",
       "      <td>NaN</td>\n",
       "      <td>NaN</td>\n",
       "      <td>2017-08-01 16:23:56 +0000</td>\n",
       "      <td>&lt;a href=\"http://twitter.com/download/iphone\" r...</td>\n",
       "      <td>This is Phineas. He's a mystical boy. Only eve...</td>\n",
       "      <td>NaN</td>\n",
       "      <td>NaN</td>\n",
       "      <td>NaN</td>\n",
       "      <td>https://twitter.com/dog_rates/status/892420643...</td>\n",
       "      <td>13</td>\n",
       "      <td>10</td>\n",
       "      <td>Phineas</td>\n",
       "      <td>None</td>\n",
       "      <td>None</td>\n",
       "      <td>None</td>\n",
       "      <td>None</td>\n",
       "    </tr>\n",
       "  </tbody>\n",
       "</table>\n",
       "</div>"
      ],
      "text/plain": [
       "             tweet_id  in_reply_to_status_id  in_reply_to_user_id  \\\n",
       "0  892420643555336193                    NaN                  NaN   \n",
       "\n",
       "                   timestamp  \\\n",
       "0  2017-08-01 16:23:56 +0000   \n",
       "\n",
       "                                              source  \\\n",
       "0  <a href=\"http://twitter.com/download/iphone\" r...   \n",
       "\n",
       "                                                text  retweeted_status_id  \\\n",
       "0  This is Phineas. He's a mystical boy. Only eve...                  NaN   \n",
       "\n",
       "   retweeted_status_user_id retweeted_status_timestamp  \\\n",
       "0                       NaN                        NaN   \n",
       "\n",
       "                                       expanded_urls  rating_numerator  \\\n",
       "0  https://twitter.com/dog_rates/status/892420643...                13   \n",
       "\n",
       "   rating_denominator     name doggo floofer pupper puppo  \n",
       "0                  10  Phineas  None    None   None  None  "
      ]
     },
     "execution_count": 2,
     "metadata": {},
     "output_type": "execute_result"
    }
   ],
   "source": [
    "df_archive = pd.read_csv(\"twitter-archive-enhanced.csv\")\n",
    "df_archive.head(1)"
   ]
  },
  {
   "cell_type": "markdown",
   "metadata": {},
   "source": [
    "<a id='retrieve_via_url'></a>\n",
    "([Top of Page](#top_of_page))\n",
    "### Retrieve Image Data from a URL (programmatically)"
   ]
  },
  {
   "cell_type": "code",
   "execution_count": 3,
   "metadata": {},
   "outputs": [
    {
     "data": {
      "text/html": [
       "<div>\n",
       "<style scoped>\n",
       "    .dataframe tbody tr th:only-of-type {\n",
       "        vertical-align: middle;\n",
       "    }\n",
       "\n",
       "    .dataframe tbody tr th {\n",
       "        vertical-align: top;\n",
       "    }\n",
       "\n",
       "    .dataframe thead th {\n",
       "        text-align: right;\n",
       "    }\n",
       "</style>\n",
       "<table border=\"1\" class=\"dataframe\">\n",
       "  <thead>\n",
       "    <tr style=\"text-align: right;\">\n",
       "      <th></th>\n",
       "      <th>tweet_id</th>\n",
       "      <th>jpg_url</th>\n",
       "      <th>img_num</th>\n",
       "      <th>p1</th>\n",
       "      <th>p1_conf</th>\n",
       "      <th>p1_dog</th>\n",
       "      <th>p2</th>\n",
       "      <th>p2_conf</th>\n",
       "      <th>p2_dog</th>\n",
       "      <th>p3</th>\n",
       "      <th>p3_conf</th>\n",
       "      <th>p3_dog</th>\n",
       "    </tr>\n",
       "  </thead>\n",
       "  <tbody>\n",
       "    <tr>\n",
       "      <th>0</th>\n",
       "      <td>666020888022790149</td>\n",
       "      <td>https://pbs.twimg.com/media/CT4udn0WwAA0aMy.jpg</td>\n",
       "      <td>1</td>\n",
       "      <td>Welsh_springer_spaniel</td>\n",
       "      <td>0.465074</td>\n",
       "      <td>True</td>\n",
       "      <td>collie</td>\n",
       "      <td>0.156665</td>\n",
       "      <td>True</td>\n",
       "      <td>Shetland_sheepdog</td>\n",
       "      <td>0.061428</td>\n",
       "      <td>True</td>\n",
       "    </tr>\n",
       "    <tr>\n",
       "      <th>1</th>\n",
       "      <td>666029285002620928</td>\n",
       "      <td>https://pbs.twimg.com/media/CT42GRgUYAA5iDo.jpg</td>\n",
       "      <td>1</td>\n",
       "      <td>redbone</td>\n",
       "      <td>0.506826</td>\n",
       "      <td>True</td>\n",
       "      <td>miniature_pinscher</td>\n",
       "      <td>0.074192</td>\n",
       "      <td>True</td>\n",
       "      <td>Rhodesian_ridgeback</td>\n",
       "      <td>0.072010</td>\n",
       "      <td>True</td>\n",
       "    </tr>\n",
       "    <tr>\n",
       "      <th>2</th>\n",
       "      <td>666033412701032449</td>\n",
       "      <td>https://pbs.twimg.com/media/CT4521TWwAEvMyu.jpg</td>\n",
       "      <td>1</td>\n",
       "      <td>German_shepherd</td>\n",
       "      <td>0.596461</td>\n",
       "      <td>True</td>\n",
       "      <td>malinois</td>\n",
       "      <td>0.138584</td>\n",
       "      <td>True</td>\n",
       "      <td>bloodhound</td>\n",
       "      <td>0.116197</td>\n",
       "      <td>True</td>\n",
       "    </tr>\n",
       "    <tr>\n",
       "      <th>3</th>\n",
       "      <td>666044226329800704</td>\n",
       "      <td>https://pbs.twimg.com/media/CT5Dr8HUEAA-lEu.jpg</td>\n",
       "      <td>1</td>\n",
       "      <td>Rhodesian_ridgeback</td>\n",
       "      <td>0.408143</td>\n",
       "      <td>True</td>\n",
       "      <td>redbone</td>\n",
       "      <td>0.360687</td>\n",
       "      <td>True</td>\n",
       "      <td>miniature_pinscher</td>\n",
       "      <td>0.222752</td>\n",
       "      <td>True</td>\n",
       "    </tr>\n",
       "    <tr>\n",
       "      <th>4</th>\n",
       "      <td>666049248165822465</td>\n",
       "      <td>https://pbs.twimg.com/media/CT5IQmsXIAAKY4A.jpg</td>\n",
       "      <td>1</td>\n",
       "      <td>miniature_pinscher</td>\n",
       "      <td>0.560311</td>\n",
       "      <td>True</td>\n",
       "      <td>Rottweiler</td>\n",
       "      <td>0.243682</td>\n",
       "      <td>True</td>\n",
       "      <td>Doberman</td>\n",
       "      <td>0.154629</td>\n",
       "      <td>True</td>\n",
       "    </tr>\n",
       "  </tbody>\n",
       "</table>\n",
       "</div>"
      ],
      "text/plain": [
       "             tweet_id                                          jpg_url  \\\n",
       "0  666020888022790149  https://pbs.twimg.com/media/CT4udn0WwAA0aMy.jpg   \n",
       "1  666029285002620928  https://pbs.twimg.com/media/CT42GRgUYAA5iDo.jpg   \n",
       "2  666033412701032449  https://pbs.twimg.com/media/CT4521TWwAEvMyu.jpg   \n",
       "3  666044226329800704  https://pbs.twimg.com/media/CT5Dr8HUEAA-lEu.jpg   \n",
       "4  666049248165822465  https://pbs.twimg.com/media/CT5IQmsXIAAKY4A.jpg   \n",
       "\n",
       "   img_num                      p1   p1_conf  p1_dog                  p2  \\\n",
       "0        1  Welsh_springer_spaniel  0.465074    True              collie   \n",
       "1        1                 redbone  0.506826    True  miniature_pinscher   \n",
       "2        1         German_shepherd  0.596461    True            malinois   \n",
       "3        1     Rhodesian_ridgeback  0.408143    True             redbone   \n",
       "4        1      miniature_pinscher  0.560311    True          Rottweiler   \n",
       "\n",
       "    p2_conf  p2_dog                   p3   p3_conf  p3_dog  \n",
       "0  0.156665    True    Shetland_sheepdog  0.061428    True  \n",
       "1  0.074192    True  Rhodesian_ridgeback  0.072010    True  \n",
       "2  0.138584    True           bloodhound  0.116197    True  \n",
       "3  0.360687    True   miniature_pinscher  0.222752    True  \n",
       "4  0.243682    True             Doberman  0.154629    True  "
      ]
     },
     "execution_count": 3,
     "metadata": {},
     "output_type": "execute_result"
    }
   ],
   "source": [
    "# get file from a url\n",
    "url = 'https://d17h27t6h515a5.cloudfront.net/topher/2017/August/599fd2ad_image-predictions/image-predictions.tsv'\n",
    "response = requests.get(url)\n",
    "\n",
    "# get the current working directory\n",
    "folder_name = os.getcwd()\n",
    "\n",
    "# get the filename\n",
    "file_name = url.split('/')[-1]\n",
    "\n",
    "# save the retrieved file to local storage\n",
    "with open(os.path.join(folder_name,\n",
    "                      file_name), mode='wb') as file:\n",
    "    file.write(response.content)\n",
    "\n",
    "# read in the downloaded file\n",
    "df_images = pd.read_csv(file_name, sep='\\t')\n",
    "df_images.head()"
   ]
  },
  {
   "cell_type": "markdown",
   "metadata": {},
   "source": [
    "NOTE:\n",
    "* The response variable is in bytes format, not text format.\n",
    "* As such, the 'wb' flag is used when writing the file locally\n",
    "* [Link to a StackOverflow post](https://stackoverflow.com/questions/2665866/what-does-wb-mean-in-this-code-using-python) on the subject<br><br>\n",
    "\n",
    "Template code for future reference:"
   ]
  },
  {
   "cell_type": "code",
   "execution_count": 4,
   "metadata": {},
   "outputs": [],
   "source": [
    "# template code to make a directory if it doesn't already exist\n",
    "#folder_name = 'my_new_folder'\n",
    "#if not os.path.exists(folder_name):\n",
    "#    os.makedirs(folder_name)\n",
    "\n",
    "# command to list the current directory's contents\n",
    "#os.listdir()"
   ]
  },
  {
   "cell_type": "markdown",
   "metadata": {},
   "source": [
    "<a id='retrieve_via_API'></a>\n",
    "([Top of Page](#top_of_page))\n",
    "### Retrieve Twitter Data (via API)\n",
    "\n",
    "#### Create an API object to gather Twitter data"
   ]
  },
  {
   "cell_type": "code",
   "execution_count": 5,
   "metadata": {},
   "outputs": [],
   "source": [
    "# get the API Access Token and Acces Token Secret\n",
    "from twAPI_tokens_GoodDoggo import API_KEY, API_KEY_SECRET, API_TOKEN, API_TOKEN_SECRET\n",
    "\n",
    "CONSUMER_KEY = API_KEY\n",
    "CONSUMER_SECRET = API_KEY_SECRET\n",
    "ACCESS_TOKEN = API_TOKEN\n",
    "ACCESS_SECRET = API_TOKEN_SECRET\n",
    "\n",
    "auth = tweepy.OAuthHandler(CONSUMER_KEY, CONSUMER_SECRET)\n",
    "auth.set_access_token(ACCESS_TOKEN, ACCESS_SECRET)\n",
    "\n",
    "# api = tweepy.API(auth)\n",
    "\n",
    "# code snippet for getting around the twitter rate limit:\n",
    "api = tweepy.API(auth, \n",
    "                 wait_on_rate_limit=True,\n",
    "                 wait_on_rate_limit_notify=True)"
   ]
  },
  {
   "cell_type": "markdown",
   "metadata": {},
   "source": [
    "#### Get a list of tweet IDs:"
   ]
  },
  {
   "cell_type": "code",
   "execution_count": 6,
   "metadata": {},
   "outputs": [
    {
     "name": "stdout",
     "output_type": "stream",
     "text": [
      "Number of tweets: 2356\n",
      "Number of repeated tweets: 0\n"
     ]
    }
   ],
   "source": [
    "# Check if there are any repeated tweets in the archive\n",
    "numUniqueValues = df_archive.tweet_id.nunique()\n",
    "print('Number of tweets: ' + str(len(df_archive)))\n",
    "print('Number of repeated tweets: ' + str(len(df_archive) - numUniqueValues))\n",
    "\n",
    "# Create list of tweet IDs\n",
    "tweet_id_list = df_archive.tweet_id.tolist()"
   ]
  },
  {
   "cell_type": "markdown",
   "metadata": {},
   "source": [
    "### Use the API to get info for each tweet\n",
    "\n",
    "* ___Retrieve json data for the first tweet and write it to local storage___\n",
    "* [StackOverflow article](https://stackoverflow.com/questions/28384588/twitter-api-get-tweets-with-specific-id) on getting JSON data for a specific tweet\n",
    "* [StackAbuse article](https://stackabuse.com/reading-and-writing-json-to-a-file-in-python/) on reading and writing JSON to a file in Python"
   ]
  },
  {
   "cell_type": "code",
   "execution_count": 7,
   "metadata": {},
   "outputs": [
    {
     "name": "stdout",
     "output_type": "stream",
     "text": [
      "- Tweet retrieval (for 2356 tweets) took 30 minutes to complete, due to Twitter's rate limit.\n",
      "- As a result, it was performed once, then commented out to allow restarting the kernel / debugging\n",
      "the rest of the analysis.\n"
     ]
    }
   ],
   "source": [
    "print('- Tweet retrieval (for 2356 tweets) took 30 minutes to complete, due to Twitter\\'s rate limit.\\n' +\n",
    "      '- As a result, it was performed once, then commented out to allow restarting the kernel / debugging\\n' + \n",
    "      'the rest of the analysis.')\n",
    "\n",
    "# loop through multiple tweet_id's, retrieving and writing their json data to 'tweet_json.txt' \n",
    "# with open('tweet_json.txt', mode = 'w') as textFile:\n",
    "#     count = 0\n",
    "#     for tweet_id in tweet_id_list:\n",
    "#         count = count + 1\n",
    "#         start = time.time()\n",
    "#         try:\n",
    "#             status = api.get_status(tweet_id)\n",
    "#             jsonStr = json.dumps(status._json)\n",
    "#         except:\n",
    "#             continue     # tweet no longer exists\n",
    "#         textFile.write(jsonStr + '\\n')\n",
    "#         end = time.time()\n",
    "#         currTime = str(time.localtime().tm_hour) + ':' + str(time.localtime().tm_min) + ':' + str(time.localtime().tm_sec)\n",
    "#         print('count: ' + str(count) + ', time elapsed: ' + str(end - start) + ', current time: ' + currTime)"
   ]
  },
  {
   "cell_type": "markdown",
   "metadata": {},
   "source": [
    "__Print first line of 'tweet_json.txt' to check that the above worked__"
   ]
  },
  {
   "cell_type": "code",
   "execution_count": 8,
   "metadata": {},
   "outputs": [],
   "source": [
    "# print first line of 'tweet_json.txt' to check that the above worked\n",
    "# with open('tweet_json.txt') as jsonFile:\n",
    "#     line = jsonFile.readline()\n",
    "#     tweet = json.loads(line)\n",
    "#     pp.pprint(tweet)"
   ]
  },
  {
   "cell_type": "markdown",
   "metadata": {},
   "source": [
    "**Add the tweet data to a dataframe**"
   ]
  },
  {
   "cell_type": "code",
   "execution_count": 9,
   "metadata": {},
   "outputs": [
    {
     "name": "stdout",
     "output_type": "stream",
     "text": [
      "count: 200, time elapsed: 0.3373579978942871, current time: 23:7:12\n",
      "count: 400, time elapsed: 0.660027027130127, current time: 23:7:13\n",
      "count: 600, time elapsed: 0.9729709625244141, current time: 23:7:13\n",
      "count: 800, time elapsed: 1.282757043838501, current time: 23:7:13\n",
      "count: 1000, time elapsed: 1.5813260078430176, current time: 23:7:14\n",
      "count: 1200, time elapsed: 1.8648500442504883, current time: 23:7:14\n",
      "count: 1400, time elapsed: 2.1591060161590576, current time: 23:7:14\n",
      "count: 1600, time elapsed: 2.53519606590271, current time: 23:7:15\n",
      "count: 1800, time elapsed: 2.8166661262512207, current time: 23:7:15\n",
      "count: 2000, time elapsed: 3.1734869480133057, current time: 23:7:15\n",
      "count: 2200, time elapsed: 3.4698469638824463, current time: 23:7:15\n"
     ]
    }
   ],
   "source": [
    "# create a local dataframe for storing tweet data\n",
    "df_tweetInfo = pd.DataFrame(columns = ['tweet_id', 'retweet_count', 'favorite_count'])\n",
    "\n",
    "# store tweet data to the dataframe\n",
    "with open('tweet_json.txt') as jsonFile:\n",
    "    count = 0\n",
    "    start = time.time()\n",
    "    for line in jsonFile:\n",
    "        count = count + 1\n",
    "        tweet = json.loads(line)\n",
    "        df_tweetInfo = df_tweetInfo.append({\n",
    "            'tweet_id': tweet['id'],\n",
    "            'retweet_count': tweet['retweet_count'],\n",
    "            'favorite_count': tweet['favorite_count']\n",
    "        }, ignore_index=True)\n",
    "        end = time.time()\n",
    "        if (np.remainder(count, 200) == 0):\n",
    "            currTime = str(time.localtime().tm_hour) + ':' + str(time.localtime().tm_min) + ':' + str(time.localtime().tm_sec)\n",
    "            print('count: ' + str(count) + ', time elapsed: ' + str(end - start) + ', current time: ' + currTime)\n",
    "        \n",
    "# # add a single tweet's data to the dataframe\n",
    "# df_tweetInfo = df_tweetInfo.append({\n",
    "#     'tweetID': tweet['id'],\n",
    "#     'retweet_count': tweet['favorite_count'],\n",
    "#     'favorite_count': tweet['retweet_count']\n",
    "# },ignore_index=True)\n",
    "\n",
    "#tweetInfo.head()"
   ]
  },
  {
   "cell_type": "markdown",
   "metadata": {},
   "source": [
    "**Here are two simple changes to make, in order to repeat the above actions for every tweet:**\n",
    "* Loop through all tweet ID's and retrieve / store their JSON info to a new line of 'tweet_json.txt'\n",
    "* Loop through each line of 'tweet_json.txt', retrieve the tweet data of interest, and append it to the dataframe\n",
    "* ___NOTE:___ watch out for deleted tweets and/or missing tweet data. Use try-except blocks as appropriate"
   ]
  },
  {
   "cell_type": "code",
   "execution_count": 10,
   "metadata": {},
   "outputs": [
    {
     "data": {
      "text/html": [
       "<div>\n",
       "<style scoped>\n",
       "    .dataframe tbody tr th:only-of-type {\n",
       "        vertical-align: middle;\n",
       "    }\n",
       "\n",
       "    .dataframe tbody tr th {\n",
       "        vertical-align: top;\n",
       "    }\n",
       "\n",
       "    .dataframe thead th {\n",
       "        text-align: right;\n",
       "    }\n",
       "</style>\n",
       "<table border=\"1\" class=\"dataframe\">\n",
       "  <thead>\n",
       "    <tr style=\"text-align: right;\">\n",
       "      <th></th>\n",
       "      <th>tweet_id</th>\n",
       "      <th>retweet_count</th>\n",
       "      <th>favorite_count</th>\n",
       "    </tr>\n",
       "  </thead>\n",
       "  <tbody>\n",
       "    <tr>\n",
       "      <th>0</th>\n",
       "      <td>892420643555336193</td>\n",
       "      <td>8159</td>\n",
       "      <td>37468</td>\n",
       "    </tr>\n",
       "    <tr>\n",
       "      <th>1</th>\n",
       "      <td>892177421306343426</td>\n",
       "      <td>6039</td>\n",
       "      <td>32198</td>\n",
       "    </tr>\n",
       "    <tr>\n",
       "      <th>2</th>\n",
       "      <td>891815181378084864</td>\n",
       "      <td>3997</td>\n",
       "      <td>24271</td>\n",
       "    </tr>\n",
       "    <tr>\n",
       "      <th>3</th>\n",
       "      <td>891689557279858688</td>\n",
       "      <td>8304</td>\n",
       "      <td>40780</td>\n",
       "    </tr>\n",
       "    <tr>\n",
       "      <th>4</th>\n",
       "      <td>891327558926688256</td>\n",
       "      <td>9007</td>\n",
       "      <td>39001</td>\n",
       "    </tr>\n",
       "  </tbody>\n",
       "</table>\n",
       "</div>"
      ],
      "text/plain": [
       "             tweet_id retweet_count favorite_count\n",
       "0  892420643555336193          8159          37468\n",
       "1  892177421306343426          6039          32198\n",
       "2  891815181378084864          3997          24271\n",
       "3  891689557279858688          8304          40780\n",
       "4  891327558926688256          9007          39001"
      ]
     },
     "execution_count": 10,
     "metadata": {},
     "output_type": "execute_result"
    }
   ],
   "source": [
    "df_tweetInfo.head()\n",
    "#len(df_tweetInfo)"
   ]
  },
  {
   "cell_type": "markdown",
   "metadata": {},
   "source": [
    "<a id='assess'></a>\n",
    "([Top of Page](#top_of_page))\n",
    "## Assess\n",
    "Assess the data for Quality and Tidiness. Per Udacity course notes, Quality and Tidiness are defined as follows:\n",
    "\n",
    "**Quality** issues refers to problems with content, such as missing, duplicate, or incorrect data. Low quality data is sometimes referred to as 'dirty' data. Quality issues generally fall into one of four categories or 'dimensions':\n",
    "* **Completeness**\n",
    "  * Have all ___records that should have been obtained___ actually been obtained?\n",
    "  * Are there any ___missing records___?\n",
    "  * Are ___specific rows, columns or cells missing___?\n",
    "  \n",
    "* **Validity:**\n",
    "  * Perhaps the records exist, but they're ___not valid___?\n",
    "    * i.e., they ___don't conform to a defined schema___.\n",
    "    * A schema is a defined set of rules for data. \n",
    "    * These rules can be real-world constraints (e.g. negative height is impossible) and table-specific constraints (e.g. unique key constraints in tables).\n",
    "    \n",
    "* **Accuracy:**\n",
    "  * Inaccurate data:\n",
    "    * is ___wrong data that is valid___. \n",
    "    * ___adheres to the defined schema, but is still incorrect___\n",
    "    * Example: a patient's weight that is 5 lbs too heavy because the scale was faulty.\n",
    "    \n",
    "* **Consistency:**\n",
    "  * Inconsistent data is both valid and accurate, but ___there are multiple correct ways of referring to the same thing___.\n",
    "  * Consistency means the data has a **standard format**. For instance, columns that represent the same data across tables and/or within tables is desired.\n",
    "\n",
    "**Tidiness** refers to the data's structure. Untidy data has structural issues that can slow down or prevent easy analysis. Untidy data is sometimes referred to as 'messy' data. Traits of tidy data include:\n",
    "* Each variable forms a column.\n",
    "* Each observation forms a row.\n",
    "* Each type of observational unit forms a table."
   ]
  },
  {
   "cell_type": "markdown",
   "metadata": {},
   "source": [
    "<a id='assess_quality'></a>\n",
    "([Top of Page](#top_of_page))\n",
    "## Assess - Quality\n",
    "* Assess the data for issues with content, such as missing, duplicate, or incorrect data.\n",
    "  * Start by briefly viewing the data to get a sense of it.\n",
    "  * Then assess the data with respect to completeness, validity, accuracy, and consistency"
   ]
  },
  {
   "cell_type": "code",
   "execution_count": 11,
   "metadata": {},
   "outputs": [
    {
     "data": {
      "text/html": [
       "<div>\n",
       "<style scoped>\n",
       "    .dataframe tbody tr th:only-of-type {\n",
       "        vertical-align: middle;\n",
       "    }\n",
       "\n",
       "    .dataframe tbody tr th {\n",
       "        vertical-align: top;\n",
       "    }\n",
       "\n",
       "    .dataframe thead th {\n",
       "        text-align: right;\n",
       "    }\n",
       "</style>\n",
       "<table border=\"1\" class=\"dataframe\">\n",
       "  <thead>\n",
       "    <tr style=\"text-align: right;\">\n",
       "      <th></th>\n",
       "      <th>tweet_id</th>\n",
       "      <th>retweet_count</th>\n",
       "      <th>favorite_count</th>\n",
       "    </tr>\n",
       "  </thead>\n",
       "  <tbody>\n",
       "    <tr>\n",
       "      <th>0</th>\n",
       "      <td>892420643555336193</td>\n",
       "      <td>8159</td>\n",
       "      <td>37468</td>\n",
       "    </tr>\n",
       "    <tr>\n",
       "      <th>1</th>\n",
       "      <td>892177421306343426</td>\n",
       "      <td>6039</td>\n",
       "      <td>32198</td>\n",
       "    </tr>\n",
       "    <tr>\n",
       "      <th>2</th>\n",
       "      <td>891815181378084864</td>\n",
       "      <td>3997</td>\n",
       "      <td>24271</td>\n",
       "    </tr>\n",
       "    <tr>\n",
       "      <th>3</th>\n",
       "      <td>891689557279858688</td>\n",
       "      <td>8304</td>\n",
       "      <td>40780</td>\n",
       "    </tr>\n",
       "    <tr>\n",
       "      <th>4</th>\n",
       "      <td>891327558926688256</td>\n",
       "      <td>9007</td>\n",
       "      <td>39001</td>\n",
       "    </tr>\n",
       "  </tbody>\n",
       "</table>\n",
       "</div>"
      ],
      "text/plain": [
       "             tweet_id retweet_count favorite_count\n",
       "0  892420643555336193          8159          37468\n",
       "1  892177421306343426          6039          32198\n",
       "2  891815181378084864          3997          24271\n",
       "3  891689557279858688          8304          40780\n",
       "4  891327558926688256          9007          39001"
      ]
     },
     "execution_count": 11,
     "metadata": {},
     "output_type": "execute_result"
    }
   ],
   "source": [
    "df_tweetInfo.head()"
   ]
  },
  {
   "cell_type": "code",
   "execution_count": 12,
   "metadata": {},
   "outputs": [
    {
     "data": {
      "text/html": [
       "<div>\n",
       "<style scoped>\n",
       "    .dataframe tbody tr th:only-of-type {\n",
       "        vertical-align: middle;\n",
       "    }\n",
       "\n",
       "    .dataframe tbody tr th {\n",
       "        vertical-align: top;\n",
       "    }\n",
       "\n",
       "    .dataframe thead th {\n",
       "        text-align: right;\n",
       "    }\n",
       "</style>\n",
       "<table border=\"1\" class=\"dataframe\">\n",
       "  <thead>\n",
       "    <tr style=\"text-align: right;\">\n",
       "      <th></th>\n",
       "      <th>tweet_id</th>\n",
       "      <th>in_reply_to_status_id</th>\n",
       "      <th>in_reply_to_user_id</th>\n",
       "      <th>timestamp</th>\n",
       "      <th>source</th>\n",
       "      <th>text</th>\n",
       "      <th>retweeted_status_id</th>\n",
       "      <th>retweeted_status_user_id</th>\n",
       "      <th>retweeted_status_timestamp</th>\n",
       "      <th>expanded_urls</th>\n",
       "      <th>rating_numerator</th>\n",
       "      <th>rating_denominator</th>\n",
       "      <th>name</th>\n",
       "      <th>doggo</th>\n",
       "      <th>floofer</th>\n",
       "      <th>pupper</th>\n",
       "      <th>puppo</th>\n",
       "    </tr>\n",
       "  </thead>\n",
       "  <tbody>\n",
       "    <tr>\n",
       "      <th>0</th>\n",
       "      <td>892420643555336193</td>\n",
       "      <td>NaN</td>\n",
       "      <td>NaN</td>\n",
       "      <td>2017-08-01 16:23:56 +0000</td>\n",
       "      <td>&lt;a href=\"http://twitter.com/download/iphone\" r...</td>\n",
       "      <td>This is Phineas. He's a mystical boy. Only eve...</td>\n",
       "      <td>NaN</td>\n",
       "      <td>NaN</td>\n",
       "      <td>NaN</td>\n",
       "      <td>https://twitter.com/dog_rates/status/892420643...</td>\n",
       "      <td>13</td>\n",
       "      <td>10</td>\n",
       "      <td>Phineas</td>\n",
       "      <td>None</td>\n",
       "      <td>None</td>\n",
       "      <td>None</td>\n",
       "      <td>None</td>\n",
       "    </tr>\n",
       "    <tr>\n",
       "      <th>1</th>\n",
       "      <td>892177421306343426</td>\n",
       "      <td>NaN</td>\n",
       "      <td>NaN</td>\n",
       "      <td>2017-08-01 00:17:27 +0000</td>\n",
       "      <td>&lt;a href=\"http://twitter.com/download/iphone\" r...</td>\n",
       "      <td>This is Tilly. She's just checking pup on you....</td>\n",
       "      <td>NaN</td>\n",
       "      <td>NaN</td>\n",
       "      <td>NaN</td>\n",
       "      <td>https://twitter.com/dog_rates/status/892177421...</td>\n",
       "      <td>13</td>\n",
       "      <td>10</td>\n",
       "      <td>Tilly</td>\n",
       "      <td>None</td>\n",
       "      <td>None</td>\n",
       "      <td>None</td>\n",
       "      <td>None</td>\n",
       "    </tr>\n",
       "  </tbody>\n",
       "</table>\n",
       "</div>"
      ],
      "text/plain": [
       "             tweet_id  in_reply_to_status_id  in_reply_to_user_id  \\\n",
       "0  892420643555336193                    NaN                  NaN   \n",
       "1  892177421306343426                    NaN                  NaN   \n",
       "\n",
       "                   timestamp  \\\n",
       "0  2017-08-01 16:23:56 +0000   \n",
       "1  2017-08-01 00:17:27 +0000   \n",
       "\n",
       "                                              source  \\\n",
       "0  <a href=\"http://twitter.com/download/iphone\" r...   \n",
       "1  <a href=\"http://twitter.com/download/iphone\" r...   \n",
       "\n",
       "                                                text  retweeted_status_id  \\\n",
       "0  This is Phineas. He's a mystical boy. Only eve...                  NaN   \n",
       "1  This is Tilly. She's just checking pup on you....                  NaN   \n",
       "\n",
       "   retweeted_status_user_id retweeted_status_timestamp  \\\n",
       "0                       NaN                        NaN   \n",
       "1                       NaN                        NaN   \n",
       "\n",
       "                                       expanded_urls  rating_numerator  \\\n",
       "0  https://twitter.com/dog_rates/status/892420643...                13   \n",
       "1  https://twitter.com/dog_rates/status/892177421...                13   \n",
       "\n",
       "   rating_denominator     name doggo floofer pupper puppo  \n",
       "0                  10  Phineas  None    None   None  None  \n",
       "1                  10    Tilly  None    None   None  None  "
      ]
     },
     "execution_count": 12,
     "metadata": {},
     "output_type": "execute_result"
    }
   ],
   "source": [
    "df_archive.head(2)"
   ]
  },
  {
   "cell_type": "code",
   "execution_count": 13,
   "metadata": {},
   "outputs": [
    {
     "data": {
      "text/html": [
       "<div>\n",
       "<style scoped>\n",
       "    .dataframe tbody tr th:only-of-type {\n",
       "        vertical-align: middle;\n",
       "    }\n",
       "\n",
       "    .dataframe tbody tr th {\n",
       "        vertical-align: top;\n",
       "    }\n",
       "\n",
       "    .dataframe thead th {\n",
       "        text-align: right;\n",
       "    }\n",
       "</style>\n",
       "<table border=\"1\" class=\"dataframe\">\n",
       "  <thead>\n",
       "    <tr style=\"text-align: right;\">\n",
       "      <th></th>\n",
       "      <th>tweet_id</th>\n",
       "      <th>jpg_url</th>\n",
       "      <th>img_num</th>\n",
       "      <th>p1</th>\n",
       "      <th>p1_conf</th>\n",
       "      <th>p1_dog</th>\n",
       "      <th>p2</th>\n",
       "      <th>p2_conf</th>\n",
       "      <th>p2_dog</th>\n",
       "      <th>p3</th>\n",
       "      <th>p3_conf</th>\n",
       "      <th>p3_dog</th>\n",
       "    </tr>\n",
       "  </thead>\n",
       "  <tbody>\n",
       "    <tr>\n",
       "      <th>0</th>\n",
       "      <td>666020888022790149</td>\n",
       "      <td>https://pbs.twimg.com/media/CT4udn0WwAA0aMy.jpg</td>\n",
       "      <td>1</td>\n",
       "      <td>Welsh_springer_spaniel</td>\n",
       "      <td>0.465074</td>\n",
       "      <td>True</td>\n",
       "      <td>collie</td>\n",
       "      <td>0.156665</td>\n",
       "      <td>True</td>\n",
       "      <td>Shetland_sheepdog</td>\n",
       "      <td>0.061428</td>\n",
       "      <td>True</td>\n",
       "    </tr>\n",
       "    <tr>\n",
       "      <th>1</th>\n",
       "      <td>666029285002620928</td>\n",
       "      <td>https://pbs.twimg.com/media/CT42GRgUYAA5iDo.jpg</td>\n",
       "      <td>1</td>\n",
       "      <td>redbone</td>\n",
       "      <td>0.506826</td>\n",
       "      <td>True</td>\n",
       "      <td>miniature_pinscher</td>\n",
       "      <td>0.074192</td>\n",
       "      <td>True</td>\n",
       "      <td>Rhodesian_ridgeback</td>\n",
       "      <td>0.072010</td>\n",
       "      <td>True</td>\n",
       "    </tr>\n",
       "    <tr>\n",
       "      <th>2</th>\n",
       "      <td>666033412701032449</td>\n",
       "      <td>https://pbs.twimg.com/media/CT4521TWwAEvMyu.jpg</td>\n",
       "      <td>1</td>\n",
       "      <td>German_shepherd</td>\n",
       "      <td>0.596461</td>\n",
       "      <td>True</td>\n",
       "      <td>malinois</td>\n",
       "      <td>0.138584</td>\n",
       "      <td>True</td>\n",
       "      <td>bloodhound</td>\n",
       "      <td>0.116197</td>\n",
       "      <td>True</td>\n",
       "    </tr>\n",
       "    <tr>\n",
       "      <th>3</th>\n",
       "      <td>666044226329800704</td>\n",
       "      <td>https://pbs.twimg.com/media/CT5Dr8HUEAA-lEu.jpg</td>\n",
       "      <td>1</td>\n",
       "      <td>Rhodesian_ridgeback</td>\n",
       "      <td>0.408143</td>\n",
       "      <td>True</td>\n",
       "      <td>redbone</td>\n",
       "      <td>0.360687</td>\n",
       "      <td>True</td>\n",
       "      <td>miniature_pinscher</td>\n",
       "      <td>0.222752</td>\n",
       "      <td>True</td>\n",
       "    </tr>\n",
       "    <tr>\n",
       "      <th>4</th>\n",
       "      <td>666049248165822465</td>\n",
       "      <td>https://pbs.twimg.com/media/CT5IQmsXIAAKY4A.jpg</td>\n",
       "      <td>1</td>\n",
       "      <td>miniature_pinscher</td>\n",
       "      <td>0.560311</td>\n",
       "      <td>True</td>\n",
       "      <td>Rottweiler</td>\n",
       "      <td>0.243682</td>\n",
       "      <td>True</td>\n",
       "      <td>Doberman</td>\n",
       "      <td>0.154629</td>\n",
       "      <td>True</td>\n",
       "    </tr>\n",
       "  </tbody>\n",
       "</table>\n",
       "</div>"
      ],
      "text/plain": [
       "             tweet_id                                          jpg_url  \\\n",
       "0  666020888022790149  https://pbs.twimg.com/media/CT4udn0WwAA0aMy.jpg   \n",
       "1  666029285002620928  https://pbs.twimg.com/media/CT42GRgUYAA5iDo.jpg   \n",
       "2  666033412701032449  https://pbs.twimg.com/media/CT4521TWwAEvMyu.jpg   \n",
       "3  666044226329800704  https://pbs.twimg.com/media/CT5Dr8HUEAA-lEu.jpg   \n",
       "4  666049248165822465  https://pbs.twimg.com/media/CT5IQmsXIAAKY4A.jpg   \n",
       "\n",
       "   img_num                      p1   p1_conf  p1_dog                  p2  \\\n",
       "0        1  Welsh_springer_spaniel  0.465074    True              collie   \n",
       "1        1                 redbone  0.506826    True  miniature_pinscher   \n",
       "2        1         German_shepherd  0.596461    True            malinois   \n",
       "3        1     Rhodesian_ridgeback  0.408143    True             redbone   \n",
       "4        1      miniature_pinscher  0.560311    True          Rottweiler   \n",
       "\n",
       "    p2_conf  p2_dog                   p3   p3_conf  p3_dog  \n",
       "0  0.156665    True    Shetland_sheepdog  0.061428    True  \n",
       "1  0.074192    True  Rhodesian_ridgeback  0.072010    True  \n",
       "2  0.138584    True           bloodhound  0.116197    True  \n",
       "3  0.360687    True   miniature_pinscher  0.222752    True  \n",
       "4  0.243682    True             Doberman  0.154629    True  "
      ]
     },
     "execution_count": 13,
     "metadata": {},
     "output_type": "execute_result"
    }
   ],
   "source": [
    "df_images.head()"
   ]
  },
  {
   "cell_type": "markdown",
   "metadata": {},
   "source": [
    "<a id='assess_completeness'></a>\n",
    "([Top of Page](#top_of_page))\n",
    "### Completeness\n",
    "* Have all ___records that should have been obtained___ actually been obtained?\n",
    "* Are there any ___missing records___?\n",
    "* Are ___specific rows, columns or cells missing___?"
   ]
  },
  {
   "cell_type": "code",
   "execution_count": 14,
   "metadata": {},
   "outputs": [
    {
     "name": "stdout",
     "output_type": "stream",
     "text": [
      "# of records in df_tweetInfo (i.e., JSON data retrieved via API): 2335\n",
      "# of records in df_archive (i.e., weRateDogs Tweet archive):      2356\n",
      "# of records in df_images (i.e., image analysis):                 2075\n"
     ]
    }
   ],
   "source": [
    "print('# of records in df_tweetInfo (i.e., JSON data retrieved via API): ' + str(len(df_tweetInfo)))\n",
    "print('# of records in df_archive (i.e., weRateDogs Tweet archive):      ' + str(len(df_archive)))\n",
    "print('# of records in df_images (i.e., image analysis):                 ' + str(len(df_images)))\n",
    "#tweetInfo.head()"
   ]
  },
  {
   "cell_type": "markdown",
   "metadata": {},
   "source": [
    "<span style=\"color:blue\">The dataframes have a different number of records.</span>\n",
    "* The slight difference between df_tweetInfo and df_archive is probably due to tweets that have been deleted\n",
    "* The difference betweeen df_archive and df_images is probably due to not all tweets having images"
   ]
  },
  {
   "cell_type": "code",
   "execution_count": 15,
   "metadata": {},
   "outputs": [
    {
     "name": "stdout",
     "output_type": "stream",
     "text": [
      "# of tweet_id's in df_images that are also in df_archive: 2075\n",
      "# of tweet_id's in df_images that are also in df_tweetInfo: 2075\n"
     ]
    }
   ],
   "source": [
    "print('# of tweet_id\\'s in df_images that are also in df_archive: ' + \n",
    "     str(len(df_images.tweet_id.isin(df_archive.tweet_id))))\n",
    "print('# of tweet_id\\'s in df_images that are also in df_tweetInfo: ' + \n",
    "     str(len(df_images.tweet_id.isin(df_tweetInfo.tweet_id))))"
   ]
  },
  {
   "cell_type": "markdown",
   "metadata": {},
   "source": [
    "<span style=\"color:blue\">\n",
    "    Since all tweet_id's in df_images are also in df_archive and df_tweetInfo, the appropriate set to use is the intersection of the three df's.\n",
    "</span>"
   ]
  },
  {
   "cell_type": "markdown",
   "metadata": {},
   "source": [
    "<a id='assess_validity'></a>\n",
    "([Top of Page](#top_of_page))\n",
    "### Validity\n",
    "* Perhaps the records exist, but they're ___not valid___?\n",
    "  * i.e., they ___don't conform to a defined schema___.\n",
    "  * A schema is a defined set of rules for data. \n",
    "  * These rules can be real-world constraints (e.g. negative height is impossible) and table-specific constraints (e.g. unique key constraints in tables)."
   ]
  },
  {
   "cell_type": "code",
   "execution_count": 16,
   "metadata": {},
   "outputs": [
    {
     "data": {
      "text/html": [
       "<div>\n",
       "<style scoped>\n",
       "    .dataframe tbody tr th:only-of-type {\n",
       "        vertical-align: middle;\n",
       "    }\n",
       "\n",
       "    .dataframe tbody tr th {\n",
       "        vertical-align: top;\n",
       "    }\n",
       "\n",
       "    .dataframe thead th {\n",
       "        text-align: right;\n",
       "    }\n",
       "</style>\n",
       "<table border=\"1\" class=\"dataframe\">\n",
       "  <thead>\n",
       "    <tr style=\"text-align: right;\">\n",
       "      <th></th>\n",
       "      <th>tweet_id</th>\n",
       "      <th>in_reply_to_status_id</th>\n",
       "      <th>in_reply_to_user_id</th>\n",
       "      <th>retweeted_status_id</th>\n",
       "      <th>retweeted_status_user_id</th>\n",
       "      <th>rating_numerator</th>\n",
       "      <th>rating_denominator</th>\n",
       "    </tr>\n",
       "  </thead>\n",
       "  <tbody>\n",
       "    <tr>\n",
       "      <th>count</th>\n",
       "      <td>2.356000e+03</td>\n",
       "      <td>7.800000e+01</td>\n",
       "      <td>7.800000e+01</td>\n",
       "      <td>1.810000e+02</td>\n",
       "      <td>1.810000e+02</td>\n",
       "      <td>2356.000000</td>\n",
       "      <td>2356.000000</td>\n",
       "    </tr>\n",
       "    <tr>\n",
       "      <th>mean</th>\n",
       "      <td>7.427716e+17</td>\n",
       "      <td>7.455079e+17</td>\n",
       "      <td>2.014171e+16</td>\n",
       "      <td>7.720400e+17</td>\n",
       "      <td>1.241698e+16</td>\n",
       "      <td>13.126486</td>\n",
       "      <td>10.455433</td>\n",
       "    </tr>\n",
       "    <tr>\n",
       "      <th>std</th>\n",
       "      <td>6.856705e+16</td>\n",
       "      <td>7.582492e+16</td>\n",
       "      <td>1.252797e+17</td>\n",
       "      <td>6.236928e+16</td>\n",
       "      <td>9.599254e+16</td>\n",
       "      <td>45.876648</td>\n",
       "      <td>6.745237</td>\n",
       "    </tr>\n",
       "    <tr>\n",
       "      <th>min</th>\n",
       "      <td>6.660209e+17</td>\n",
       "      <td>6.658147e+17</td>\n",
       "      <td>1.185634e+07</td>\n",
       "      <td>6.661041e+17</td>\n",
       "      <td>7.832140e+05</td>\n",
       "      <td>0.000000</td>\n",
       "      <td>0.000000</td>\n",
       "    </tr>\n",
       "    <tr>\n",
       "      <th>25%</th>\n",
       "      <td>6.783989e+17</td>\n",
       "      <td>6.757419e+17</td>\n",
       "      <td>3.086374e+08</td>\n",
       "      <td>7.186315e+17</td>\n",
       "      <td>4.196984e+09</td>\n",
       "      <td>10.000000</td>\n",
       "      <td>10.000000</td>\n",
       "    </tr>\n",
       "    <tr>\n",
       "      <th>50%</th>\n",
       "      <td>7.196279e+17</td>\n",
       "      <td>7.038708e+17</td>\n",
       "      <td>4.196984e+09</td>\n",
       "      <td>7.804657e+17</td>\n",
       "      <td>4.196984e+09</td>\n",
       "      <td>11.000000</td>\n",
       "      <td>10.000000</td>\n",
       "    </tr>\n",
       "    <tr>\n",
       "      <th>75%</th>\n",
       "      <td>7.993373e+17</td>\n",
       "      <td>8.257804e+17</td>\n",
       "      <td>4.196984e+09</td>\n",
       "      <td>8.203146e+17</td>\n",
       "      <td>4.196984e+09</td>\n",
       "      <td>12.000000</td>\n",
       "      <td>10.000000</td>\n",
       "    </tr>\n",
       "    <tr>\n",
       "      <th>max</th>\n",
       "      <td>8.924206e+17</td>\n",
       "      <td>8.862664e+17</td>\n",
       "      <td>8.405479e+17</td>\n",
       "      <td>8.874740e+17</td>\n",
       "      <td>7.874618e+17</td>\n",
       "      <td>1776.000000</td>\n",
       "      <td>170.000000</td>\n",
       "    </tr>\n",
       "  </tbody>\n",
       "</table>\n",
       "</div>"
      ],
      "text/plain": [
       "           tweet_id  in_reply_to_status_id  in_reply_to_user_id  \\\n",
       "count  2.356000e+03           7.800000e+01         7.800000e+01   \n",
       "mean   7.427716e+17           7.455079e+17         2.014171e+16   \n",
       "std    6.856705e+16           7.582492e+16         1.252797e+17   \n",
       "min    6.660209e+17           6.658147e+17         1.185634e+07   \n",
       "25%    6.783989e+17           6.757419e+17         3.086374e+08   \n",
       "50%    7.196279e+17           7.038708e+17         4.196984e+09   \n",
       "75%    7.993373e+17           8.257804e+17         4.196984e+09   \n",
       "max    8.924206e+17           8.862664e+17         8.405479e+17   \n",
       "\n",
       "       retweeted_status_id  retweeted_status_user_id  rating_numerator  \\\n",
       "count         1.810000e+02              1.810000e+02       2356.000000   \n",
       "mean          7.720400e+17              1.241698e+16         13.126486   \n",
       "std           6.236928e+16              9.599254e+16         45.876648   \n",
       "min           6.661041e+17              7.832140e+05          0.000000   \n",
       "25%           7.186315e+17              4.196984e+09         10.000000   \n",
       "50%           7.804657e+17              4.196984e+09         11.000000   \n",
       "75%           8.203146e+17              4.196984e+09         12.000000   \n",
       "max           8.874740e+17              7.874618e+17       1776.000000   \n",
       "\n",
       "       rating_denominator  \n",
       "count         2356.000000  \n",
       "mean            10.455433  \n",
       "std              6.745237  \n",
       "min              0.000000  \n",
       "25%             10.000000  \n",
       "50%             10.000000  \n",
       "75%             10.000000  \n",
       "max            170.000000  "
      ]
     },
     "execution_count": 16,
     "metadata": {},
     "output_type": "execute_result"
    }
   ],
   "source": [
    "df_archive.describe()"
   ]
  },
  {
   "cell_type": "markdown",
   "metadata": {},
   "source": [
    "<span style=\"color:blue\">\n",
    "    \n",
    "<span style=\"color:black\"> Investigate / clean the following issues: </span>\n",
    "* In **df_archive**, the maximum value for rating_numerator may be unrealistically high.\n",
    "* In **df_archive**, the maximum value for rating_denominator may be unrealistically high.\n",
    "* In **df_archive**, the minimum value for rating_numerator probably should not be zero.\n",
    "* In **df_archive**, the minimum value for rating_denominator should not be zero.\n",
    "</span>"
   ]
  },
  {
   "cell_type": "markdown",
   "metadata": {},
   "source": [
    "#### Check other dataframes for any obvious validity issues"
   ]
  },
  {
   "cell_type": "code",
   "execution_count": 17,
   "metadata": {},
   "outputs": [
    {
     "data": {
      "text/html": [
       "<div>\n",
       "<style scoped>\n",
       "    .dataframe tbody tr th:only-of-type {\n",
       "        vertical-align: middle;\n",
       "    }\n",
       "\n",
       "    .dataframe tbody tr th {\n",
       "        vertical-align: top;\n",
       "    }\n",
       "\n",
       "    .dataframe thead th {\n",
       "        text-align: right;\n",
       "    }\n",
       "</style>\n",
       "<table border=\"1\" class=\"dataframe\">\n",
       "  <thead>\n",
       "    <tr style=\"text-align: right;\">\n",
       "      <th></th>\n",
       "      <th>tweet_id</th>\n",
       "      <th>img_num</th>\n",
       "      <th>p1_conf</th>\n",
       "      <th>p2_conf</th>\n",
       "      <th>p3_conf</th>\n",
       "    </tr>\n",
       "  </thead>\n",
       "  <tbody>\n",
       "    <tr>\n",
       "      <th>count</th>\n",
       "      <td>2.075000e+03</td>\n",
       "      <td>2075.000000</td>\n",
       "      <td>2075.000000</td>\n",
       "      <td>2.075000e+03</td>\n",
       "      <td>2.075000e+03</td>\n",
       "    </tr>\n",
       "    <tr>\n",
       "      <th>mean</th>\n",
       "      <td>7.384514e+17</td>\n",
       "      <td>1.203855</td>\n",
       "      <td>0.594548</td>\n",
       "      <td>1.345886e-01</td>\n",
       "      <td>6.032417e-02</td>\n",
       "    </tr>\n",
       "    <tr>\n",
       "      <th>std</th>\n",
       "      <td>6.785203e+16</td>\n",
       "      <td>0.561875</td>\n",
       "      <td>0.271174</td>\n",
       "      <td>1.006657e-01</td>\n",
       "      <td>5.090593e-02</td>\n",
       "    </tr>\n",
       "    <tr>\n",
       "      <th>min</th>\n",
       "      <td>6.660209e+17</td>\n",
       "      <td>1.000000</td>\n",
       "      <td>0.044333</td>\n",
       "      <td>1.011300e-08</td>\n",
       "      <td>1.740170e-10</td>\n",
       "    </tr>\n",
       "    <tr>\n",
       "      <th>25%</th>\n",
       "      <td>6.764835e+17</td>\n",
       "      <td>1.000000</td>\n",
       "      <td>0.364412</td>\n",
       "      <td>5.388625e-02</td>\n",
       "      <td>1.622240e-02</td>\n",
       "    </tr>\n",
       "    <tr>\n",
       "      <th>50%</th>\n",
       "      <td>7.119988e+17</td>\n",
       "      <td>1.000000</td>\n",
       "      <td>0.588230</td>\n",
       "      <td>1.181810e-01</td>\n",
       "      <td>4.944380e-02</td>\n",
       "    </tr>\n",
       "    <tr>\n",
       "      <th>75%</th>\n",
       "      <td>7.932034e+17</td>\n",
       "      <td>1.000000</td>\n",
       "      <td>0.843855</td>\n",
       "      <td>1.955655e-01</td>\n",
       "      <td>9.180755e-02</td>\n",
       "    </tr>\n",
       "    <tr>\n",
       "      <th>max</th>\n",
       "      <td>8.924206e+17</td>\n",
       "      <td>4.000000</td>\n",
       "      <td>1.000000</td>\n",
       "      <td>4.880140e-01</td>\n",
       "      <td>2.734190e-01</td>\n",
       "    </tr>\n",
       "  </tbody>\n",
       "</table>\n",
       "</div>"
      ],
      "text/plain": [
       "           tweet_id      img_num      p1_conf       p2_conf       p3_conf\n",
       "count  2.075000e+03  2075.000000  2075.000000  2.075000e+03  2.075000e+03\n",
       "mean   7.384514e+17     1.203855     0.594548  1.345886e-01  6.032417e-02\n",
       "std    6.785203e+16     0.561875     0.271174  1.006657e-01  5.090593e-02\n",
       "min    6.660209e+17     1.000000     0.044333  1.011300e-08  1.740170e-10\n",
       "25%    6.764835e+17     1.000000     0.364412  5.388625e-02  1.622240e-02\n",
       "50%    7.119988e+17     1.000000     0.588230  1.181810e-01  4.944380e-02\n",
       "75%    7.932034e+17     1.000000     0.843855  1.955655e-01  9.180755e-02\n",
       "max    8.924206e+17     4.000000     1.000000  4.880140e-01  2.734190e-01"
      ]
     },
     "execution_count": 17,
     "metadata": {},
     "output_type": "execute_result"
    }
   ],
   "source": [
    "df_images.describe()"
   ]
  },
  {
   "cell_type": "code",
   "execution_count": 18,
   "metadata": {},
   "outputs": [
    {
     "data": {
      "text/html": [
       "<div>\n",
       "<style scoped>\n",
       "    .dataframe tbody tr th:only-of-type {\n",
       "        vertical-align: middle;\n",
       "    }\n",
       "\n",
       "    .dataframe tbody tr th {\n",
       "        vertical-align: top;\n",
       "    }\n",
       "\n",
       "    .dataframe thead th {\n",
       "        text-align: right;\n",
       "    }\n",
       "</style>\n",
       "<table border=\"1\" class=\"dataframe\">\n",
       "  <thead>\n",
       "    <tr style=\"text-align: right;\">\n",
       "      <th></th>\n",
       "      <th>tweet_id</th>\n",
       "      <th>retweet_count</th>\n",
       "      <th>favorite_count</th>\n",
       "    </tr>\n",
       "  </thead>\n",
       "  <tbody>\n",
       "    <tr>\n",
       "      <th>count</th>\n",
       "      <td>2335</td>\n",
       "      <td>2335</td>\n",
       "      <td>2335</td>\n",
       "    </tr>\n",
       "    <tr>\n",
       "      <th>unique</th>\n",
       "      <td>2335</td>\n",
       "      <td>1712</td>\n",
       "      <td>1979</td>\n",
       "    </tr>\n",
       "    <tr>\n",
       "      <th>top</th>\n",
       "      <td>667495797102141441</td>\n",
       "      <td>88</td>\n",
       "      <td>0</td>\n",
       "    </tr>\n",
       "    <tr>\n",
       "      <th>freq</th>\n",
       "      <td>1</td>\n",
       "      <td>5</td>\n",
       "      <td>165</td>\n",
       "    </tr>\n",
       "  </tbody>\n",
       "</table>\n",
       "</div>"
      ],
      "text/plain": [
       "                  tweet_id  retweet_count  favorite_count\n",
       "count                 2335           2335            2335\n",
       "unique                2335           1712            1979\n",
       "top     667495797102141441             88               0\n",
       "freq                     1              5             165"
      ]
     },
     "execution_count": 18,
     "metadata": {},
     "output_type": "execute_result"
    }
   ],
   "source": [
    "df_tweetInfo.describe()"
   ]
  },
  {
   "cell_type": "code",
   "execution_count": 19,
   "metadata": {},
   "outputs": [
    {
     "data": {
      "text/plain": [
       "tweet_id                      2356\n",
       "in_reply_to_status_id           77\n",
       "in_reply_to_user_id             31\n",
       "timestamp                     2356\n",
       "source                           4\n",
       "text                          2356\n",
       "retweeted_status_id            181\n",
       "retweeted_status_user_id        25\n",
       "retweeted_status_timestamp     181\n",
       "expanded_urls                 2218\n",
       "rating_numerator                40\n",
       "rating_denominator              18\n",
       "name                           957\n",
       "doggo                            2\n",
       "floofer                          2\n",
       "pupper                           2\n",
       "puppo                            2\n",
       "dtype: int64"
      ]
     },
     "execution_count": 19,
     "metadata": {},
     "output_type": "execute_result"
    }
   ],
   "source": [
    "df_archive.nunique()"
   ]
  },
  {
   "cell_type": "code",
   "execution_count": 20,
   "metadata": {},
   "outputs": [
    {
     "data": {
      "text/plain": [
       "rating_numerator\n",
       "0         2\n",
       "1         9\n",
       "2         9\n",
       "3        19\n",
       "4        17\n",
       "5        37\n",
       "6        32\n",
       "7        55\n",
       "8       102\n",
       "9       158\n",
       "10      461\n",
       "11      464\n",
       "12      558\n",
       "13      351\n",
       "14       54\n",
       "15        2\n",
       "17        1\n",
       "20        1\n",
       "24        1\n",
       "26        1\n",
       "27        1\n",
       "44        1\n",
       "45        1\n",
       "50        1\n",
       "60        1\n",
       "75        2\n",
       "80        1\n",
       "84        1\n",
       "88        1\n",
       "99        1\n",
       "121       1\n",
       "143       1\n",
       "144       1\n",
       "165       1\n",
       "182       1\n",
       "204       1\n",
       "420       2\n",
       "666       1\n",
       "960       1\n",
       "1776      1\n",
       "Name: rating_numerator, dtype: int64"
      ]
     },
     "execution_count": 20,
     "metadata": {},
     "output_type": "execute_result"
    }
   ],
   "source": [
    "df_archive.groupby('rating_numerator').rating_numerator.count()"
   ]
  },
  {
   "cell_type": "markdown",
   "metadata": {},
   "source": [
    "<span style=\"color:blue\">\n",
    "\n",
    "In **df_archive**, some **rating_numerator** values are quite large. Investigate whether this is an issue / consider removing numerators over a certain threshold.\n",
    "\n",
    "</span>"
   ]
  },
  {
   "cell_type": "code",
   "execution_count": 21,
   "metadata": {},
   "outputs": [
    {
     "data": {
      "text/html": [
       "<div>\n",
       "<style scoped>\n",
       "    .dataframe tbody tr th:only-of-type {\n",
       "        vertical-align: middle;\n",
       "    }\n",
       "\n",
       "    .dataframe tbody tr th {\n",
       "        vertical-align: top;\n",
       "    }\n",
       "\n",
       "    .dataframe thead th {\n",
       "        text-align: right;\n",
       "    }\n",
       "</style>\n",
       "<table border=\"1\" class=\"dataframe\">\n",
       "  <thead>\n",
       "    <tr style=\"text-align: right;\">\n",
       "      <th></th>\n",
       "      <th>tweet_id</th>\n",
       "      <th>in_reply_to_status_id</th>\n",
       "      <th>in_reply_to_user_id</th>\n",
       "      <th>timestamp</th>\n",
       "      <th>source</th>\n",
       "      <th>text</th>\n",
       "      <th>retweeted_status_id</th>\n",
       "      <th>retweeted_status_user_id</th>\n",
       "      <th>retweeted_status_timestamp</th>\n",
       "      <th>expanded_urls</th>\n",
       "      <th>rating_numerator</th>\n",
       "      <th>rating_denominator</th>\n",
       "      <th>name</th>\n",
       "      <th>doggo</th>\n",
       "      <th>floofer</th>\n",
       "      <th>pupper</th>\n",
       "      <th>puppo</th>\n",
       "    </tr>\n",
       "  </thead>\n",
       "  <tbody>\n",
       "    <tr>\n",
       "      <th>0</th>\n",
       "      <td>892420643555336193</td>\n",
       "      <td>NaN</td>\n",
       "      <td>NaN</td>\n",
       "      <td>2017-08-01 16:23:56 +0000</td>\n",
       "      <td>&lt;a href=\"http://twitter.com/download/iphone\" r...</td>\n",
       "      <td>This is Phineas. He's a mystical boy. Only eve...</td>\n",
       "      <td>NaN</td>\n",
       "      <td>NaN</td>\n",
       "      <td>NaN</td>\n",
       "      <td>https://twitter.com/dog_rates/status/892420643...</td>\n",
       "      <td>13</td>\n",
       "      <td>10</td>\n",
       "      <td>Phineas</td>\n",
       "      <td>None</td>\n",
       "      <td>None</td>\n",
       "      <td>None</td>\n",
       "      <td>None</td>\n",
       "    </tr>\n",
       "    <tr>\n",
       "      <th>1</th>\n",
       "      <td>892177421306343426</td>\n",
       "      <td>NaN</td>\n",
       "      <td>NaN</td>\n",
       "      <td>2017-08-01 00:17:27 +0000</td>\n",
       "      <td>&lt;a href=\"http://twitter.com/download/iphone\" r...</td>\n",
       "      <td>This is Tilly. She's just checking pup on you....</td>\n",
       "      <td>NaN</td>\n",
       "      <td>NaN</td>\n",
       "      <td>NaN</td>\n",
       "      <td>https://twitter.com/dog_rates/status/892177421...</td>\n",
       "      <td>13</td>\n",
       "      <td>10</td>\n",
       "      <td>Tilly</td>\n",
       "      <td>None</td>\n",
       "      <td>None</td>\n",
       "      <td>None</td>\n",
       "      <td>None</td>\n",
       "    </tr>\n",
       "  </tbody>\n",
       "</table>\n",
       "</div>"
      ],
      "text/plain": [
       "             tweet_id  in_reply_to_status_id  in_reply_to_user_id  \\\n",
       "0  892420643555336193                    NaN                  NaN   \n",
       "1  892177421306343426                    NaN                  NaN   \n",
       "\n",
       "                   timestamp  \\\n",
       "0  2017-08-01 16:23:56 +0000   \n",
       "1  2017-08-01 00:17:27 +0000   \n",
       "\n",
       "                                              source  \\\n",
       "0  <a href=\"http://twitter.com/download/iphone\" r...   \n",
       "1  <a href=\"http://twitter.com/download/iphone\" r...   \n",
       "\n",
       "                                                text  retweeted_status_id  \\\n",
       "0  This is Phineas. He's a mystical boy. Only eve...                  NaN   \n",
       "1  This is Tilly. She's just checking pup on you....                  NaN   \n",
       "\n",
       "   retweeted_status_user_id retweeted_status_timestamp  \\\n",
       "0                       NaN                        NaN   \n",
       "1                       NaN                        NaN   \n",
       "\n",
       "                                       expanded_urls  rating_numerator  \\\n",
       "0  https://twitter.com/dog_rates/status/892420643...                13   \n",
       "1  https://twitter.com/dog_rates/status/892177421...                13   \n",
       "\n",
       "   rating_denominator     name doggo floofer pupper puppo  \n",
       "0                  10  Phineas  None    None   None  None  \n",
       "1                  10    Tilly  None    None   None  None  "
      ]
     },
     "execution_count": 21,
     "metadata": {},
     "output_type": "execute_result"
    }
   ],
   "source": [
    "df_archive.head(2)"
   ]
  },
  {
   "cell_type": "code",
   "execution_count": 22,
   "metadata": {},
   "outputs": [
    {
     "data": {
      "text/html": [
       "<div>\n",
       "<style scoped>\n",
       "    .dataframe tbody tr th:only-of-type {\n",
       "        vertical-align: middle;\n",
       "    }\n",
       "\n",
       "    .dataframe tbody tr th {\n",
       "        vertical-align: top;\n",
       "    }\n",
       "\n",
       "    .dataframe thead th {\n",
       "        text-align: right;\n",
       "    }\n",
       "</style>\n",
       "<table border=\"1\" class=\"dataframe\">\n",
       "  <thead>\n",
       "    <tr style=\"text-align: right;\">\n",
       "      <th></th>\n",
       "      <th>tweet_id</th>\n",
       "      <th>in_reply_to_status_id</th>\n",
       "      <th>in_reply_to_user_id</th>\n",
       "      <th>timestamp</th>\n",
       "      <th>source</th>\n",
       "      <th>text</th>\n",
       "      <th>retweeted_status_id</th>\n",
       "      <th>retweeted_status_user_id</th>\n",
       "      <th>retweeted_status_timestamp</th>\n",
       "      <th>expanded_urls</th>\n",
       "      <th>rating_numerator</th>\n",
       "      <th>rating_denominator</th>\n",
       "      <th>name</th>\n",
       "      <th>doggo</th>\n",
       "      <th>floofer</th>\n",
       "      <th>pupper</th>\n",
       "      <th>puppo</th>\n",
       "    </tr>\n",
       "  </thead>\n",
       "  <tbody>\n",
       "    <tr>\n",
       "      <th>30</th>\n",
       "      <td>886267009285017600</td>\n",
       "      <td>8.862664e+17</td>\n",
       "      <td>2.281182e+09</td>\n",
       "      <td>2017-07-15 16:51:35 +0000</td>\n",
       "      <td>&lt;a href=\"http://twitter.com/download/iphone\" r...</td>\n",
       "      <td>@NonWhiteHat @MayhewMayhem omg hello tanner yo...</td>\n",
       "      <td>NaN</td>\n",
       "      <td>NaN</td>\n",
       "      <td>NaN</td>\n",
       "      <td>NaN</td>\n",
       "      <td>12</td>\n",
       "      <td>10</td>\n",
       "      <td>None</td>\n",
       "      <td>None</td>\n",
       "      <td>None</td>\n",
       "      <td>None</td>\n",
       "      <td>None</td>\n",
       "    </tr>\n",
       "    <tr>\n",
       "      <th>55</th>\n",
       "      <td>881633300179243008</td>\n",
       "      <td>8.816070e+17</td>\n",
       "      <td>4.738443e+07</td>\n",
       "      <td>2017-07-02 21:58:53 +0000</td>\n",
       "      <td>&lt;a href=\"http://twitter.com/download/iphone\" r...</td>\n",
       "      <td>@roushfenway These are good dogs but 17/10 is ...</td>\n",
       "      <td>NaN</td>\n",
       "      <td>NaN</td>\n",
       "      <td>NaN</td>\n",
       "      <td>NaN</td>\n",
       "      <td>17</td>\n",
       "      <td>10</td>\n",
       "      <td>None</td>\n",
       "      <td>None</td>\n",
       "      <td>None</td>\n",
       "      <td>None</td>\n",
       "      <td>None</td>\n",
       "    </tr>\n",
       "  </tbody>\n",
       "</table>\n",
       "</div>"
      ],
      "text/plain": [
       "              tweet_id  in_reply_to_status_id  in_reply_to_user_id  \\\n",
       "30  886267009285017600           8.862664e+17         2.281182e+09   \n",
       "55  881633300179243008           8.816070e+17         4.738443e+07   \n",
       "\n",
       "                    timestamp  \\\n",
       "30  2017-07-15 16:51:35 +0000   \n",
       "55  2017-07-02 21:58:53 +0000   \n",
       "\n",
       "                                               source  \\\n",
       "30  <a href=\"http://twitter.com/download/iphone\" r...   \n",
       "55  <a href=\"http://twitter.com/download/iphone\" r...   \n",
       "\n",
       "                                                 text  retweeted_status_id  \\\n",
       "30  @NonWhiteHat @MayhewMayhem omg hello tanner yo...                  NaN   \n",
       "55  @roushfenway These are good dogs but 17/10 is ...                  NaN   \n",
       "\n",
       "    retweeted_status_user_id retweeted_status_timestamp expanded_urls  \\\n",
       "30                       NaN                        NaN           NaN   \n",
       "55                       NaN                        NaN           NaN   \n",
       "\n",
       "    rating_numerator  rating_denominator  name doggo floofer pupper puppo  \n",
       "30                12                  10  None  None    None   None  None  \n",
       "55                17                  10  None  None    None   None  None  "
      ]
     },
     "execution_count": 22,
     "metadata": {},
     "output_type": "execute_result"
    }
   ],
   "source": [
    "searchString = 'NaN'\n",
    "df_archive.query(\"in_reply_to_status_id != 'NaN'\").head(2)\n",
    "\n",
    "# # example syntax\n",
    "# #df_images.query('p1_conf > 0.2').head()\n",
    "# searchString = 'German_shepherd'\n",
    "# df_images.query(\"p1 != @searchString\").head(3)"
   ]
  },
  {
   "cell_type": "code",
   "execution_count": 23,
   "metadata": {},
   "outputs": [
    {
     "data": {
      "text/plain": [
       "tweet_id          2335\n",
       "retweet_count     1712\n",
       "favorite_count    1979\n",
       "dtype: int64"
      ]
     },
     "execution_count": 23,
     "metadata": {},
     "output_type": "execute_result"
    }
   ],
   "source": [
    "df_tweetInfo.nunique()"
   ]
  },
  {
   "cell_type": "code",
   "execution_count": 24,
   "metadata": {},
   "outputs": [
    {
     "data": {
      "text/plain": [
       "tweet_id    2075\n",
       "jpg_url     2009\n",
       "img_num        4\n",
       "p1           378\n",
       "p1_conf     2006\n",
       "p1_dog         2\n",
       "p2           405\n",
       "p2_conf     2004\n",
       "p2_dog         2\n",
       "p3           408\n",
       "p3_conf     2006\n",
       "p3_dog         2\n",
       "dtype: int64"
      ]
     },
     "execution_count": 24,
     "metadata": {},
     "output_type": "execute_result"
    }
   ],
   "source": [
    "df_images.nunique()"
   ]
  },
  {
   "cell_type": "markdown",
   "metadata": {},
   "source": [
    "<span style=\"color:blue\">\n",
    "\n",
    "In **df_images**, the number of jpg_urls does not match the number of tweet_id's. Investigate whether this is an issue. If so, correct it.\n",
    "\n",
    "</span>"
   ]
  },
  {
   "cell_type": "markdown",
   "metadata": {},
   "source": [
    "Explore dog stages"
   ]
  },
  {
   "cell_type": "code",
   "execution_count": 25,
   "metadata": {},
   "outputs": [
    {
     "data": {
      "text/plain": [
       "Index(['tweet_id', 'in_reply_to_status_id', 'in_reply_to_user_id', 'timestamp',\n",
       "       'source', 'text', 'retweeted_status_id', 'retweeted_status_user_id',\n",
       "       'retweeted_status_timestamp', 'expanded_urls', 'rating_numerator',\n",
       "       'rating_denominator', 'name', 'doggo', 'floofer', 'pupper', 'puppo'],\n",
       "      dtype='object')"
      ]
     },
     "execution_count": 25,
     "metadata": {},
     "output_type": "execute_result"
    }
   ],
   "source": [
    "df_archive.columns"
   ]
  },
  {
   "cell_type": "code",
   "execution_count": 26,
   "metadata": {},
   "outputs": [
    {
     "name": "stdout",
     "output_type": "stream",
     "text": [
      "doggo\n",
      "None     2259\n",
      "doggo      97\n",
      "Name: doggo, dtype: int64\n",
      "---------------------------------\n",
      "floofer\n",
      "None       2346\n",
      "floofer      10\n",
      "Name: floofer, dtype: int64\n",
      "---------------------------------\n",
      "pupper\n",
      "None      2099\n",
      "pupper     257\n",
      "Name: pupper, dtype: int64\n",
      "---------------------------------\n",
      "puppo\n",
      "None     2326\n",
      "puppo      30\n",
      "Name: puppo, dtype: int64\n",
      "---------------------------------\n",
      "(2356, 17)\n"
     ]
    }
   ],
   "source": [
    "print(str(df_archive.groupby('doggo').doggo.count()) + '\\n---------------------------------' )\n",
    "print(str(df_archive.groupby('floofer').floofer.count()) + '\\n---------------------------------' )\n",
    "print(str(df_archive.groupby('pupper').pupper.count()) + '\\n---------------------------------' )\n",
    "print(str(df_archive.groupby('puppo').puppo.count()) + '\\n---------------------------------' )\n",
    "print(df_archive.shape)\n",
    "# df_archive.groupby('rating_numerator').rating_numerator.count()\n",
    "# ## Make sure all tweets have only one dog stage\n",
    "# \n",
    "# ## Add a 'none' column for tweets that do not have a dog stage"
   ]
  },
  {
   "cell_type": "markdown",
   "metadata": {},
   "source": [
    "<span style=\"color:blue\">\n",
    "\n",
    "* In **df_archive**, add a 'none' category for tweets that do not have a dog stage\n",
    "* In **df_archive**, make sure all tweets have only one dog stage\n",
    "\n",
    "</span>"
   ]
  },
  {
   "cell_type": "markdown",
   "metadata": {},
   "source": [
    "<a id='assess_accuracy'></a>\n",
    "([Top of Page](#top_of_page))\n",
    "### Accuracy\n",
    "* Inaccurate data:\n",
    "  * is ___wrong data that is valid___. \n",
    "  * ___adheres to the defined schema, but is still incorrect___\n",
    "  * Example: a patient's weight that is 5 lbs too heavy because the scale was faulty."
   ]
  },
  {
   "cell_type": "code",
   "execution_count": 27,
   "metadata": {},
   "outputs": [
    {
     "data": {
      "text/html": [
       "<div>\n",
       "<style scoped>\n",
       "    .dataframe tbody tr th:only-of-type {\n",
       "        vertical-align: middle;\n",
       "    }\n",
       "\n",
       "    .dataframe tbody tr th {\n",
       "        vertical-align: top;\n",
       "    }\n",
       "\n",
       "    .dataframe thead th {\n",
       "        text-align: right;\n",
       "    }\n",
       "</style>\n",
       "<table border=\"1\" class=\"dataframe\">\n",
       "  <thead>\n",
       "    <tr style=\"text-align: right;\">\n",
       "      <th></th>\n",
       "      <th>tweet_id</th>\n",
       "      <th>in_reply_to_status_id</th>\n",
       "      <th>in_reply_to_user_id</th>\n",
       "      <th>retweeted_status_id</th>\n",
       "      <th>retweeted_status_user_id</th>\n",
       "      <th>rating_numerator</th>\n",
       "      <th>rating_denominator</th>\n",
       "    </tr>\n",
       "  </thead>\n",
       "  <tbody>\n",
       "    <tr>\n",
       "      <th>count</th>\n",
       "      <td>2.356000e+03</td>\n",
       "      <td>7.800000e+01</td>\n",
       "      <td>7.800000e+01</td>\n",
       "      <td>1.810000e+02</td>\n",
       "      <td>1.810000e+02</td>\n",
       "      <td>2356.000000</td>\n",
       "      <td>2356.000000</td>\n",
       "    </tr>\n",
       "    <tr>\n",
       "      <th>mean</th>\n",
       "      <td>7.427716e+17</td>\n",
       "      <td>7.455079e+17</td>\n",
       "      <td>2.014171e+16</td>\n",
       "      <td>7.720400e+17</td>\n",
       "      <td>1.241698e+16</td>\n",
       "      <td>13.126486</td>\n",
       "      <td>10.455433</td>\n",
       "    </tr>\n",
       "    <tr>\n",
       "      <th>std</th>\n",
       "      <td>6.856705e+16</td>\n",
       "      <td>7.582492e+16</td>\n",
       "      <td>1.252797e+17</td>\n",
       "      <td>6.236928e+16</td>\n",
       "      <td>9.599254e+16</td>\n",
       "      <td>45.876648</td>\n",
       "      <td>6.745237</td>\n",
       "    </tr>\n",
       "    <tr>\n",
       "      <th>min</th>\n",
       "      <td>6.660209e+17</td>\n",
       "      <td>6.658147e+17</td>\n",
       "      <td>1.185634e+07</td>\n",
       "      <td>6.661041e+17</td>\n",
       "      <td>7.832140e+05</td>\n",
       "      <td>0.000000</td>\n",
       "      <td>0.000000</td>\n",
       "    </tr>\n",
       "    <tr>\n",
       "      <th>25%</th>\n",
       "      <td>6.783989e+17</td>\n",
       "      <td>6.757419e+17</td>\n",
       "      <td>3.086374e+08</td>\n",
       "      <td>7.186315e+17</td>\n",
       "      <td>4.196984e+09</td>\n",
       "      <td>10.000000</td>\n",
       "      <td>10.000000</td>\n",
       "    </tr>\n",
       "    <tr>\n",
       "      <th>50%</th>\n",
       "      <td>7.196279e+17</td>\n",
       "      <td>7.038708e+17</td>\n",
       "      <td>4.196984e+09</td>\n",
       "      <td>7.804657e+17</td>\n",
       "      <td>4.196984e+09</td>\n",
       "      <td>11.000000</td>\n",
       "      <td>10.000000</td>\n",
       "    </tr>\n",
       "    <tr>\n",
       "      <th>75%</th>\n",
       "      <td>7.993373e+17</td>\n",
       "      <td>8.257804e+17</td>\n",
       "      <td>4.196984e+09</td>\n",
       "      <td>8.203146e+17</td>\n",
       "      <td>4.196984e+09</td>\n",
       "      <td>12.000000</td>\n",
       "      <td>10.000000</td>\n",
       "    </tr>\n",
       "    <tr>\n",
       "      <th>max</th>\n",
       "      <td>8.924206e+17</td>\n",
       "      <td>8.862664e+17</td>\n",
       "      <td>8.405479e+17</td>\n",
       "      <td>8.874740e+17</td>\n",
       "      <td>7.874618e+17</td>\n",
       "      <td>1776.000000</td>\n",
       "      <td>170.000000</td>\n",
       "    </tr>\n",
       "  </tbody>\n",
       "</table>\n",
       "</div>"
      ],
      "text/plain": [
       "           tweet_id  in_reply_to_status_id  in_reply_to_user_id  \\\n",
       "count  2.356000e+03           7.800000e+01         7.800000e+01   \n",
       "mean   7.427716e+17           7.455079e+17         2.014171e+16   \n",
       "std    6.856705e+16           7.582492e+16         1.252797e+17   \n",
       "min    6.660209e+17           6.658147e+17         1.185634e+07   \n",
       "25%    6.783989e+17           6.757419e+17         3.086374e+08   \n",
       "50%    7.196279e+17           7.038708e+17         4.196984e+09   \n",
       "75%    7.993373e+17           8.257804e+17         4.196984e+09   \n",
       "max    8.924206e+17           8.862664e+17         8.405479e+17   \n",
       "\n",
       "       retweeted_status_id  retweeted_status_user_id  rating_numerator  \\\n",
       "count         1.810000e+02              1.810000e+02       2356.000000   \n",
       "mean          7.720400e+17              1.241698e+16         13.126486   \n",
       "std           6.236928e+16              9.599254e+16         45.876648   \n",
       "min           6.661041e+17              7.832140e+05          0.000000   \n",
       "25%           7.186315e+17              4.196984e+09         10.000000   \n",
       "50%           7.804657e+17              4.196984e+09         11.000000   \n",
       "75%           8.203146e+17              4.196984e+09         12.000000   \n",
       "max           8.874740e+17              7.874618e+17       1776.000000   \n",
       "\n",
       "       rating_denominator  \n",
       "count         2356.000000  \n",
       "mean            10.455433  \n",
       "std              6.745237  \n",
       "min              0.000000  \n",
       "25%             10.000000  \n",
       "50%             10.000000  \n",
       "75%             10.000000  \n",
       "max            170.000000  "
      ]
     },
     "execution_count": 27,
     "metadata": {},
     "output_type": "execute_result"
    }
   ],
   "source": [
    "df_archive.describe()"
   ]
  },
  {
   "cell_type": "code",
   "execution_count": 28,
   "metadata": {},
   "outputs": [
    {
     "data": {
      "text/html": [
       "<div>\n",
       "<style scoped>\n",
       "    .dataframe tbody tr th:only-of-type {\n",
       "        vertical-align: middle;\n",
       "    }\n",
       "\n",
       "    .dataframe tbody tr th {\n",
       "        vertical-align: top;\n",
       "    }\n",
       "\n",
       "    .dataframe thead th {\n",
       "        text-align: right;\n",
       "    }\n",
       "</style>\n",
       "<table border=\"1\" class=\"dataframe\">\n",
       "  <thead>\n",
       "    <tr style=\"text-align: right;\">\n",
       "      <th></th>\n",
       "      <th>tweet_id</th>\n",
       "      <th>in_reply_to_status_id</th>\n",
       "      <th>in_reply_to_user_id</th>\n",
       "      <th>timestamp</th>\n",
       "      <th>source</th>\n",
       "      <th>text</th>\n",
       "      <th>retweeted_status_id</th>\n",
       "      <th>retweeted_status_user_id</th>\n",
       "      <th>retweeted_status_timestamp</th>\n",
       "      <th>expanded_urls</th>\n",
       "      <th>rating_numerator</th>\n",
       "      <th>rating_denominator</th>\n",
       "      <th>name</th>\n",
       "      <th>doggo</th>\n",
       "      <th>floofer</th>\n",
       "      <th>pupper</th>\n",
       "      <th>puppo</th>\n",
       "    </tr>\n",
       "  </thead>\n",
       "  <tbody>\n",
       "    <tr>\n",
       "      <th>0</th>\n",
       "      <td>892420643555336193</td>\n",
       "      <td>NaN</td>\n",
       "      <td>NaN</td>\n",
       "      <td>2017-08-01 16:23:56 +0000</td>\n",
       "      <td>&lt;a href=\"http://twitter.com/download/iphone\" r...</td>\n",
       "      <td>This is Phineas. He's a mystical boy. Only eve...</td>\n",
       "      <td>NaN</td>\n",
       "      <td>NaN</td>\n",
       "      <td>NaN</td>\n",
       "      <td>https://twitter.com/dog_rates/status/892420643...</td>\n",
       "      <td>13</td>\n",
       "      <td>10</td>\n",
       "      <td>Phineas</td>\n",
       "      <td>None</td>\n",
       "      <td>None</td>\n",
       "      <td>None</td>\n",
       "      <td>None</td>\n",
       "    </tr>\n",
       "    <tr>\n",
       "      <th>1</th>\n",
       "      <td>892177421306343426</td>\n",
       "      <td>NaN</td>\n",
       "      <td>NaN</td>\n",
       "      <td>2017-08-01 00:17:27 +0000</td>\n",
       "      <td>&lt;a href=\"http://twitter.com/download/iphone\" r...</td>\n",
       "      <td>This is Tilly. She's just checking pup on you....</td>\n",
       "      <td>NaN</td>\n",
       "      <td>NaN</td>\n",
       "      <td>NaN</td>\n",
       "      <td>https://twitter.com/dog_rates/status/892177421...</td>\n",
       "      <td>13</td>\n",
       "      <td>10</td>\n",
       "      <td>Tilly</td>\n",
       "      <td>None</td>\n",
       "      <td>None</td>\n",
       "      <td>None</td>\n",
       "      <td>None</td>\n",
       "    </tr>\n",
       "    <tr>\n",
       "      <th>2</th>\n",
       "      <td>891815181378084864</td>\n",
       "      <td>NaN</td>\n",
       "      <td>NaN</td>\n",
       "      <td>2017-07-31 00:18:03 +0000</td>\n",
       "      <td>&lt;a href=\"http://twitter.com/download/iphone\" r...</td>\n",
       "      <td>This is Archie. He is a rare Norwegian Pouncin...</td>\n",
       "      <td>NaN</td>\n",
       "      <td>NaN</td>\n",
       "      <td>NaN</td>\n",
       "      <td>https://twitter.com/dog_rates/status/891815181...</td>\n",
       "      <td>12</td>\n",
       "      <td>10</td>\n",
       "      <td>Archie</td>\n",
       "      <td>None</td>\n",
       "      <td>None</td>\n",
       "      <td>None</td>\n",
       "      <td>None</td>\n",
       "    </tr>\n",
       "  </tbody>\n",
       "</table>\n",
       "</div>"
      ],
      "text/plain": [
       "             tweet_id  in_reply_to_status_id  in_reply_to_user_id  \\\n",
       "0  892420643555336193                    NaN                  NaN   \n",
       "1  892177421306343426                    NaN                  NaN   \n",
       "2  891815181378084864                    NaN                  NaN   \n",
       "\n",
       "                   timestamp  \\\n",
       "0  2017-08-01 16:23:56 +0000   \n",
       "1  2017-08-01 00:17:27 +0000   \n",
       "2  2017-07-31 00:18:03 +0000   \n",
       "\n",
       "                                              source  \\\n",
       "0  <a href=\"http://twitter.com/download/iphone\" r...   \n",
       "1  <a href=\"http://twitter.com/download/iphone\" r...   \n",
       "2  <a href=\"http://twitter.com/download/iphone\" r...   \n",
       "\n",
       "                                                text  retweeted_status_id  \\\n",
       "0  This is Phineas. He's a mystical boy. Only eve...                  NaN   \n",
       "1  This is Tilly. She's just checking pup on you....                  NaN   \n",
       "2  This is Archie. He is a rare Norwegian Pouncin...                  NaN   \n",
       "\n",
       "   retweeted_status_user_id retweeted_status_timestamp  \\\n",
       "0                       NaN                        NaN   \n",
       "1                       NaN                        NaN   \n",
       "2                       NaN                        NaN   \n",
       "\n",
       "                                       expanded_urls  rating_numerator  \\\n",
       "0  https://twitter.com/dog_rates/status/892420643...                13   \n",
       "1  https://twitter.com/dog_rates/status/892177421...                13   \n",
       "2  https://twitter.com/dog_rates/status/891815181...                12   \n",
       "\n",
       "   rating_denominator     name doggo floofer pupper puppo  \n",
       "0                  10  Phineas  None    None   None  None  \n",
       "1                  10    Tilly  None    None   None  None  \n",
       "2                  10   Archie  None    None   None  None  "
      ]
     },
     "execution_count": 28,
     "metadata": {},
     "output_type": "execute_result"
    }
   ],
   "source": [
    "df_archive.head(3)"
   ]
  },
  {
   "cell_type": "code",
   "execution_count": 29,
   "metadata": {},
   "outputs": [
    {
     "data": {
      "text/html": [
       "<div>\n",
       "<style scoped>\n",
       "    .dataframe tbody tr th:only-of-type {\n",
       "        vertical-align: middle;\n",
       "    }\n",
       "\n",
       "    .dataframe tbody tr th {\n",
       "        vertical-align: top;\n",
       "    }\n",
       "\n",
       "    .dataframe thead th {\n",
       "        text-align: right;\n",
       "    }\n",
       "</style>\n",
       "<table border=\"1\" class=\"dataframe\">\n",
       "  <thead>\n",
       "    <tr style=\"text-align: right;\">\n",
       "      <th></th>\n",
       "      <th>tweet_id</th>\n",
       "      <th>jpg_url</th>\n",
       "      <th>img_num</th>\n",
       "      <th>p1</th>\n",
       "      <th>p1_conf</th>\n",
       "      <th>p1_dog</th>\n",
       "      <th>p2</th>\n",
       "      <th>p2_conf</th>\n",
       "      <th>p2_dog</th>\n",
       "      <th>p3</th>\n",
       "      <th>p3_conf</th>\n",
       "      <th>p3_dog</th>\n",
       "    </tr>\n",
       "  </thead>\n",
       "  <tbody>\n",
       "    <tr>\n",
       "      <th>0</th>\n",
       "      <td>666020888022790149</td>\n",
       "      <td>https://pbs.twimg.com/media/CT4udn0WwAA0aMy.jpg</td>\n",
       "      <td>1</td>\n",
       "      <td>Welsh_springer_spaniel</td>\n",
       "      <td>0.465074</td>\n",
       "      <td>True</td>\n",
       "      <td>collie</td>\n",
       "      <td>0.156665</td>\n",
       "      <td>True</td>\n",
       "      <td>Shetland_sheepdog</td>\n",
       "      <td>0.061428</td>\n",
       "      <td>True</td>\n",
       "    </tr>\n",
       "    <tr>\n",
       "      <th>1</th>\n",
       "      <td>666029285002620928</td>\n",
       "      <td>https://pbs.twimg.com/media/CT42GRgUYAA5iDo.jpg</td>\n",
       "      <td>1</td>\n",
       "      <td>redbone</td>\n",
       "      <td>0.506826</td>\n",
       "      <td>True</td>\n",
       "      <td>miniature_pinscher</td>\n",
       "      <td>0.074192</td>\n",
       "      <td>True</td>\n",
       "      <td>Rhodesian_ridgeback</td>\n",
       "      <td>0.072010</td>\n",
       "      <td>True</td>\n",
       "    </tr>\n",
       "    <tr>\n",
       "      <th>2</th>\n",
       "      <td>666033412701032449</td>\n",
       "      <td>https://pbs.twimg.com/media/CT4521TWwAEvMyu.jpg</td>\n",
       "      <td>1</td>\n",
       "      <td>German_shepherd</td>\n",
       "      <td>0.596461</td>\n",
       "      <td>True</td>\n",
       "      <td>malinois</td>\n",
       "      <td>0.138584</td>\n",
       "      <td>True</td>\n",
       "      <td>bloodhound</td>\n",
       "      <td>0.116197</td>\n",
       "      <td>True</td>\n",
       "    </tr>\n",
       "    <tr>\n",
       "      <th>3</th>\n",
       "      <td>666044226329800704</td>\n",
       "      <td>https://pbs.twimg.com/media/CT5Dr8HUEAA-lEu.jpg</td>\n",
       "      <td>1</td>\n",
       "      <td>Rhodesian_ridgeback</td>\n",
       "      <td>0.408143</td>\n",
       "      <td>True</td>\n",
       "      <td>redbone</td>\n",
       "      <td>0.360687</td>\n",
       "      <td>True</td>\n",
       "      <td>miniature_pinscher</td>\n",
       "      <td>0.222752</td>\n",
       "      <td>True</td>\n",
       "    </tr>\n",
       "    <tr>\n",
       "      <th>4</th>\n",
       "      <td>666049248165822465</td>\n",
       "      <td>https://pbs.twimg.com/media/CT5IQmsXIAAKY4A.jpg</td>\n",
       "      <td>1</td>\n",
       "      <td>miniature_pinscher</td>\n",
       "      <td>0.560311</td>\n",
       "      <td>True</td>\n",
       "      <td>Rottweiler</td>\n",
       "      <td>0.243682</td>\n",
       "      <td>True</td>\n",
       "      <td>Doberman</td>\n",
       "      <td>0.154629</td>\n",
       "      <td>True</td>\n",
       "    </tr>\n",
       "  </tbody>\n",
       "</table>\n",
       "</div>"
      ],
      "text/plain": [
       "             tweet_id                                          jpg_url  \\\n",
       "0  666020888022790149  https://pbs.twimg.com/media/CT4udn0WwAA0aMy.jpg   \n",
       "1  666029285002620928  https://pbs.twimg.com/media/CT42GRgUYAA5iDo.jpg   \n",
       "2  666033412701032449  https://pbs.twimg.com/media/CT4521TWwAEvMyu.jpg   \n",
       "3  666044226329800704  https://pbs.twimg.com/media/CT5Dr8HUEAA-lEu.jpg   \n",
       "4  666049248165822465  https://pbs.twimg.com/media/CT5IQmsXIAAKY4A.jpg   \n",
       "\n",
       "   img_num                      p1   p1_conf  p1_dog                  p2  \\\n",
       "0        1  Welsh_springer_spaniel  0.465074    True              collie   \n",
       "1        1                 redbone  0.506826    True  miniature_pinscher   \n",
       "2        1         German_shepherd  0.596461    True            malinois   \n",
       "3        1     Rhodesian_ridgeback  0.408143    True             redbone   \n",
       "4        1      miniature_pinscher  0.560311    True          Rottweiler   \n",
       "\n",
       "    p2_conf  p2_dog                   p3   p3_conf  p3_dog  \n",
       "0  0.156665    True    Shetland_sheepdog  0.061428    True  \n",
       "1  0.074192    True  Rhodesian_ridgeback  0.072010    True  \n",
       "2  0.138584    True           bloodhound  0.116197    True  \n",
       "3  0.360687    True   miniature_pinscher  0.222752    True  \n",
       "4  0.243682    True             Doberman  0.154629    True  "
      ]
     },
     "execution_count": 29,
     "metadata": {},
     "output_type": "execute_result"
    }
   ],
   "source": [
    "df_images.head()"
   ]
  },
  {
   "cell_type": "code",
   "execution_count": 30,
   "metadata": {},
   "outputs": [
    {
     "data": {
      "text/html": [
       "<div>\n",
       "<style scoped>\n",
       "    .dataframe tbody tr th:only-of-type {\n",
       "        vertical-align: middle;\n",
       "    }\n",
       "\n",
       "    .dataframe tbody tr th {\n",
       "        vertical-align: top;\n",
       "    }\n",
       "\n",
       "    .dataframe thead th {\n",
       "        text-align: right;\n",
       "    }\n",
       "</style>\n",
       "<table border=\"1\" class=\"dataframe\">\n",
       "  <thead>\n",
       "    <tr style=\"text-align: right;\">\n",
       "      <th></th>\n",
       "      <th>tweet_id</th>\n",
       "      <th>retweet_count</th>\n",
       "      <th>favorite_count</th>\n",
       "    </tr>\n",
       "  </thead>\n",
       "  <tbody>\n",
       "    <tr>\n",
       "      <th>0</th>\n",
       "      <td>892420643555336193</td>\n",
       "      <td>8159</td>\n",
       "      <td>37468</td>\n",
       "    </tr>\n",
       "    <tr>\n",
       "      <th>1</th>\n",
       "      <td>892177421306343426</td>\n",
       "      <td>6039</td>\n",
       "      <td>32198</td>\n",
       "    </tr>\n",
       "    <tr>\n",
       "      <th>2</th>\n",
       "      <td>891815181378084864</td>\n",
       "      <td>3997</td>\n",
       "      <td>24271</td>\n",
       "    </tr>\n",
       "    <tr>\n",
       "      <th>3</th>\n",
       "      <td>891689557279858688</td>\n",
       "      <td>8304</td>\n",
       "      <td>40780</td>\n",
       "    </tr>\n",
       "    <tr>\n",
       "      <th>4</th>\n",
       "      <td>891327558926688256</td>\n",
       "      <td>9007</td>\n",
       "      <td>39001</td>\n",
       "    </tr>\n",
       "  </tbody>\n",
       "</table>\n",
       "</div>"
      ],
      "text/plain": [
       "             tweet_id retweet_count favorite_count\n",
       "0  892420643555336193          8159          37468\n",
       "1  892177421306343426          6039          32198\n",
       "2  891815181378084864          3997          24271\n",
       "3  891689557279858688          8304          40780\n",
       "4  891327558926688256          9007          39001"
      ]
     },
     "execution_count": 30,
     "metadata": {},
     "output_type": "execute_result"
    }
   ],
   "source": [
    "df_tweetInfo.head()"
   ]
  },
  {
   "cell_type": "markdown",
   "metadata": {},
   "source": [
    "#### There do not appear to be any obvious accuracy issues"
   ]
  },
  {
   "cell_type": "markdown",
   "metadata": {},
   "source": [
    "<a id='assess_consistency'></a>\n",
    "([Top of Page](#top_of_page))\n",
    "### Consistency\n",
    "* Inconsistent data is both valid and accurate, but _there are multiple __correct__ ways of referring to the same thing_.\n",
    "* Consistency, i.e., a standard format, in columns that represent the same data across tables and/or within tables is desired."
   ]
  },
  {
   "cell_type": "code",
   "execution_count": 31,
   "metadata": {},
   "outputs": [
    {
     "name": "stdout",
     "output_type": "stream",
     "text": [
      "<class 'pandas.core.frame.DataFrame'>\n",
      "RangeIndex: 2335 entries, 0 to 2334\n",
      "Data columns (total 3 columns):\n",
      "tweet_id          2335 non-null object\n",
      "retweet_count     2335 non-null object\n",
      "favorite_count    2335 non-null object\n",
      "dtypes: object(3)\n",
      "memory usage: 54.8+ KB\n",
      "None\n"
     ]
    }
   ],
   "source": [
    "print(df_tweetInfo.info())"
   ]
  },
  {
   "cell_type": "code",
   "execution_count": 32,
   "metadata": {},
   "outputs": [
    {
     "name": "stdout",
     "output_type": "stream",
     "text": [
      "<class 'pandas.core.frame.DataFrame'>\n",
      "RangeIndex: 2356 entries, 0 to 2355\n",
      "Data columns (total 17 columns):\n",
      "tweet_id                      2356 non-null int64\n",
      "in_reply_to_status_id         78 non-null float64\n",
      "in_reply_to_user_id           78 non-null float64\n",
      "timestamp                     2356 non-null object\n",
      "source                        2356 non-null object\n",
      "text                          2356 non-null object\n",
      "retweeted_status_id           181 non-null float64\n",
      "retweeted_status_user_id      181 non-null float64\n",
      "retweeted_status_timestamp    181 non-null object\n",
      "expanded_urls                 2297 non-null object\n",
      "rating_numerator              2356 non-null int64\n",
      "rating_denominator            2356 non-null int64\n",
      "name                          2356 non-null object\n",
      "doggo                         2356 non-null object\n",
      "floofer                       2356 non-null object\n",
      "pupper                        2356 non-null object\n",
      "puppo                         2356 non-null object\n",
      "dtypes: float64(4), int64(3), object(10)\n",
      "memory usage: 313.0+ KB\n"
     ]
    }
   ],
   "source": [
    "df_archive.info()"
   ]
  },
  {
   "cell_type": "markdown",
   "metadata": {},
   "source": [
    "<span style=\"color:blue\">\n",
    "\n",
    "* In **df_archive**, 'timestamp' and 'retweeted_status_timestamp' should have type 'datetime'.\n",
    "* In **df_archive**, the following columns should have type 'int64':\n",
    "   * 'in_reply_to_status_id'\n",
    "   * 'in_reply_to_user_id',\n",
    "   * 'retweeted_status_id'\n",
    "   * 'retweeted_status_user_id'\n",
    "\n",
    "</span>"
   ]
  },
  {
   "cell_type": "code",
   "execution_count": 33,
   "metadata": {},
   "outputs": [
    {
     "name": "stdout",
     "output_type": "stream",
     "text": [
      "<class 'pandas.core.frame.DataFrame'>\n",
      "RangeIndex: 2075 entries, 0 to 2074\n",
      "Data columns (total 12 columns):\n",
      "tweet_id    2075 non-null int64\n",
      "jpg_url     2075 non-null object\n",
      "img_num     2075 non-null int64\n",
      "p1          2075 non-null object\n",
      "p1_conf     2075 non-null float64\n",
      "p1_dog      2075 non-null bool\n",
      "p2          2075 non-null object\n",
      "p2_conf     2075 non-null float64\n",
      "p2_dog      2075 non-null bool\n",
      "p3          2075 non-null object\n",
      "p3_conf     2075 non-null float64\n",
      "p3_dog      2075 non-null bool\n",
      "dtypes: bool(3), float64(3), int64(2), object(4)\n",
      "memory usage: 152.1+ KB\n"
     ]
    }
   ],
   "source": [
    "df_images.info()"
   ]
  },
  {
   "cell_type": "code",
   "execution_count": 34,
   "metadata": {},
   "outputs": [
    {
     "name": "stdout",
     "output_type": "stream",
     "text": [
      "<class 'pandas.core.frame.DataFrame'>\n",
      "RangeIndex: 2335 entries, 0 to 2334\n",
      "Data columns (total 3 columns):\n",
      "tweet_id          2335 non-null object\n",
      "retweet_count     2335 non-null object\n",
      "favorite_count    2335 non-null object\n",
      "dtypes: object(3)\n",
      "memory usage: 54.8+ KB\n"
     ]
    }
   ],
   "source": [
    "df_tweetInfo.info()"
   ]
  },
  {
   "cell_type": "markdown",
   "metadata": {},
   "source": [
    "<span style=\"color:blue\">\n",
    "\n",
    "In **df_tweetInfo**, 'tweet_id' should have type 'int64' for consistency across the dataframes.\n",
    "\n",
    "</span>"
   ]
  },
  {
   "cell_type": "markdown",
   "metadata": {},
   "source": [
    "<a id='assess_tidiness'></a>\n",
    "([Top of Page](#top_of_page))\n",
    "\n",
    "## Assess - Tidiness\n",
    "Tidiness refers to the data's structure. Untidy data has structural issues that can slow down or prevent easy analysis. Untidy data is sometimes referred to as 'messy' data. Traits of tidy data include:\n",
    "* Each variable forms a column.\n",
    "* Each observation forms a row.\n",
    "* Each type of observational unit forms a table."
   ]
  },
  {
   "cell_type": "markdown",
   "metadata": {},
   "source": [
    "### Preview the Dataframes Again (Looking for Tidiness Issues This Time)"
   ]
  },
  {
   "cell_type": "code",
   "execution_count": 35,
   "metadata": {},
   "outputs": [
    {
     "data": {
      "text/html": [
       "<div>\n",
       "<style scoped>\n",
       "    .dataframe tbody tr th:only-of-type {\n",
       "        vertical-align: middle;\n",
       "    }\n",
       "\n",
       "    .dataframe tbody tr th {\n",
       "        vertical-align: top;\n",
       "    }\n",
       "\n",
       "    .dataframe thead th {\n",
       "        text-align: right;\n",
       "    }\n",
       "</style>\n",
       "<table border=\"1\" class=\"dataframe\">\n",
       "  <thead>\n",
       "    <tr style=\"text-align: right;\">\n",
       "      <th></th>\n",
       "      <th>tweet_id</th>\n",
       "      <th>retweet_count</th>\n",
       "      <th>favorite_count</th>\n",
       "    </tr>\n",
       "  </thead>\n",
       "  <tbody>\n",
       "    <tr>\n",
       "      <th>0</th>\n",
       "      <td>892420643555336193</td>\n",
       "      <td>8159</td>\n",
       "      <td>37468</td>\n",
       "    </tr>\n",
       "    <tr>\n",
       "      <th>1</th>\n",
       "      <td>892177421306343426</td>\n",
       "      <td>6039</td>\n",
       "      <td>32198</td>\n",
       "    </tr>\n",
       "  </tbody>\n",
       "</table>\n",
       "</div>"
      ],
      "text/plain": [
       "             tweet_id retweet_count favorite_count\n",
       "0  892420643555336193          8159          37468\n",
       "1  892177421306343426          6039          32198"
      ]
     },
     "execution_count": 35,
     "metadata": {},
     "output_type": "execute_result"
    }
   ],
   "source": [
    "df_tweetInfo.head(2)"
   ]
  },
  {
   "cell_type": "code",
   "execution_count": 36,
   "metadata": {},
   "outputs": [
    {
     "data": {
      "text/html": [
       "<div>\n",
       "<style scoped>\n",
       "    .dataframe tbody tr th:only-of-type {\n",
       "        vertical-align: middle;\n",
       "    }\n",
       "\n",
       "    .dataframe tbody tr th {\n",
       "        vertical-align: top;\n",
       "    }\n",
       "\n",
       "    .dataframe thead th {\n",
       "        text-align: right;\n",
       "    }\n",
       "</style>\n",
       "<table border=\"1\" class=\"dataframe\">\n",
       "  <thead>\n",
       "    <tr style=\"text-align: right;\">\n",
       "      <th></th>\n",
       "      <th>tweet_id</th>\n",
       "      <th>in_reply_to_status_id</th>\n",
       "      <th>in_reply_to_user_id</th>\n",
       "      <th>timestamp</th>\n",
       "      <th>source</th>\n",
       "      <th>text</th>\n",
       "      <th>retweeted_status_id</th>\n",
       "      <th>retweeted_status_user_id</th>\n",
       "      <th>retweeted_status_timestamp</th>\n",
       "      <th>expanded_urls</th>\n",
       "      <th>rating_numerator</th>\n",
       "      <th>rating_denominator</th>\n",
       "      <th>name</th>\n",
       "      <th>doggo</th>\n",
       "      <th>floofer</th>\n",
       "      <th>pupper</th>\n",
       "      <th>puppo</th>\n",
       "    </tr>\n",
       "  </thead>\n",
       "  <tbody>\n",
       "    <tr>\n",
       "      <th>0</th>\n",
       "      <td>892420643555336193</td>\n",
       "      <td>NaN</td>\n",
       "      <td>NaN</td>\n",
       "      <td>2017-08-01 16:23:56 +0000</td>\n",
       "      <td>&lt;a href=\"http://twitter.com/download/iphone\" r...</td>\n",
       "      <td>This is Phineas. He's a mystical boy. Only eve...</td>\n",
       "      <td>NaN</td>\n",
       "      <td>NaN</td>\n",
       "      <td>NaN</td>\n",
       "      <td>https://twitter.com/dog_rates/status/892420643...</td>\n",
       "      <td>13</td>\n",
       "      <td>10</td>\n",
       "      <td>Phineas</td>\n",
       "      <td>None</td>\n",
       "      <td>None</td>\n",
       "      <td>None</td>\n",
       "      <td>None</td>\n",
       "    </tr>\n",
       "    <tr>\n",
       "      <th>1</th>\n",
       "      <td>892177421306343426</td>\n",
       "      <td>NaN</td>\n",
       "      <td>NaN</td>\n",
       "      <td>2017-08-01 00:17:27 +0000</td>\n",
       "      <td>&lt;a href=\"http://twitter.com/download/iphone\" r...</td>\n",
       "      <td>This is Tilly. She's just checking pup on you....</td>\n",
       "      <td>NaN</td>\n",
       "      <td>NaN</td>\n",
       "      <td>NaN</td>\n",
       "      <td>https://twitter.com/dog_rates/status/892177421...</td>\n",
       "      <td>13</td>\n",
       "      <td>10</td>\n",
       "      <td>Tilly</td>\n",
       "      <td>None</td>\n",
       "      <td>None</td>\n",
       "      <td>None</td>\n",
       "      <td>None</td>\n",
       "    </tr>\n",
       "  </tbody>\n",
       "</table>\n",
       "</div>"
      ],
      "text/plain": [
       "             tweet_id  in_reply_to_status_id  in_reply_to_user_id  \\\n",
       "0  892420643555336193                    NaN                  NaN   \n",
       "1  892177421306343426                    NaN                  NaN   \n",
       "\n",
       "                   timestamp  \\\n",
       "0  2017-08-01 16:23:56 +0000   \n",
       "1  2017-08-01 00:17:27 +0000   \n",
       "\n",
       "                                              source  \\\n",
       "0  <a href=\"http://twitter.com/download/iphone\" r...   \n",
       "1  <a href=\"http://twitter.com/download/iphone\" r...   \n",
       "\n",
       "                                                text  retweeted_status_id  \\\n",
       "0  This is Phineas. He's a mystical boy. Only eve...                  NaN   \n",
       "1  This is Tilly. She's just checking pup on you....                  NaN   \n",
       "\n",
       "   retweeted_status_user_id retweeted_status_timestamp  \\\n",
       "0                       NaN                        NaN   \n",
       "1                       NaN                        NaN   \n",
       "\n",
       "                                       expanded_urls  rating_numerator  \\\n",
       "0  https://twitter.com/dog_rates/status/892420643...                13   \n",
       "1  https://twitter.com/dog_rates/status/892177421...                13   \n",
       "\n",
       "   rating_denominator     name doggo floofer pupper puppo  \n",
       "0                  10  Phineas  None    None   None  None  \n",
       "1                  10    Tilly  None    None   None  None  "
      ]
     },
     "execution_count": 36,
     "metadata": {},
     "output_type": "execute_result"
    }
   ],
   "source": [
    "df_archive.head(2)"
   ]
  },
  {
   "cell_type": "markdown",
   "metadata": {},
   "source": [
    "<span style=\"color:blue\">\n",
    "    \n",
    "* 'doggo', 'floofer', 'pupper', and 'puppo' are categories and should be **combined into a single column**. \n",
    "<span style=\"color:black\">\n",
    "    \n",
    "  * Consider the possibility of tweets that fall into multiple such categories.\n",
    "<span>\n",
    "</span>"
   ]
  },
  {
   "cell_type": "markdown",
   "metadata": {},
   "source": [
    "#### Preview 'text' entries since they do not fit in the default dataframe column width."
   ]
  },
  {
   "cell_type": "code",
   "execution_count": 37,
   "metadata": {},
   "outputs": [
    {
     "name": "stdout",
     "output_type": "stream",
     "text": [
      "- This is Phineas. He's a mystical boy. Only ever appears in the hole of a donut. 13/10 https://t.co/MgUWQ76dJU\n",
      "- This is Tilly. She's just checking pup on you. Hopes you're doing ok. If not, she's available for pats, snugs, boops, the whole bit. 13/10 https://t.co/0Xxu71qeIV\n",
      "- This is Archie. He is a rare Norwegian Pouncing Corgo. Lives in the tall grass. You never know when one may strike. 12/10 https://t.co/wUnZnhtVJB\n",
      "- This is Darla. She commenced a snooze mid meal. 13/10 happens to the best of us https://t.co/tD36da7qLQ\n",
      "- This is Franklin. He would like you to stop calling him \"cute.\" He is a very fierce shark and should be respected as such. 12/10 #BarkWeek https://t.co/AtUZn91f7f\n"
     ]
    },
    {
     "data": {
      "text/plain": [
       "0    None\n",
       "1    None\n",
       "2    None\n",
       "3    None\n",
       "4    None\n",
       "Name: text, dtype: object"
      ]
     },
     "execution_count": 37,
     "metadata": {},
     "output_type": "execute_result"
    }
   ],
   "source": [
    "df_archive.text[0:5].apply(lambda x: print('- ' + x))"
   ]
  },
  {
   "cell_type": "markdown",
   "metadata": {},
   "source": [
    "<span style=\"color:blue\">\n",
    "\n",
    "* In df_archive, **urls should be extracted from the 'text' column**\n",
    "<span style=\"color:black\">\n",
    "    \n",
    "<span>\n",
    "</span>"
   ]
  },
  {
   "cell_type": "code",
   "execution_count": 38,
   "metadata": {},
   "outputs": [
    {
     "data": {
      "text/html": [
       "<div>\n",
       "<style scoped>\n",
       "    .dataframe tbody tr th:only-of-type {\n",
       "        vertical-align: middle;\n",
       "    }\n",
       "\n",
       "    .dataframe tbody tr th {\n",
       "        vertical-align: top;\n",
       "    }\n",
       "\n",
       "    .dataframe thead th {\n",
       "        text-align: right;\n",
       "    }\n",
       "</style>\n",
       "<table border=\"1\" class=\"dataframe\">\n",
       "  <thead>\n",
       "    <tr style=\"text-align: right;\">\n",
       "      <th></th>\n",
       "      <th>tweet_id</th>\n",
       "      <th>jpg_url</th>\n",
       "      <th>img_num</th>\n",
       "      <th>p1</th>\n",
       "      <th>p1_conf</th>\n",
       "      <th>p1_dog</th>\n",
       "      <th>p2</th>\n",
       "      <th>p2_conf</th>\n",
       "      <th>p2_dog</th>\n",
       "      <th>p3</th>\n",
       "      <th>p3_conf</th>\n",
       "      <th>p3_dog</th>\n",
       "    </tr>\n",
       "  </thead>\n",
       "  <tbody>\n",
       "    <tr>\n",
       "      <th>0</th>\n",
       "      <td>666020888022790149</td>\n",
       "      <td>https://pbs.twimg.com/media/CT4udn0WwAA0aMy.jpg</td>\n",
       "      <td>1</td>\n",
       "      <td>Welsh_springer_spaniel</td>\n",
       "      <td>0.465074</td>\n",
       "      <td>True</td>\n",
       "      <td>collie</td>\n",
       "      <td>0.156665</td>\n",
       "      <td>True</td>\n",
       "      <td>Shetland_sheepdog</td>\n",
       "      <td>0.061428</td>\n",
       "      <td>True</td>\n",
       "    </tr>\n",
       "    <tr>\n",
       "      <th>1</th>\n",
       "      <td>666029285002620928</td>\n",
       "      <td>https://pbs.twimg.com/media/CT42GRgUYAA5iDo.jpg</td>\n",
       "      <td>1</td>\n",
       "      <td>redbone</td>\n",
       "      <td>0.506826</td>\n",
       "      <td>True</td>\n",
       "      <td>miniature_pinscher</td>\n",
       "      <td>0.074192</td>\n",
       "      <td>True</td>\n",
       "      <td>Rhodesian_ridgeback</td>\n",
       "      <td>0.072010</td>\n",
       "      <td>True</td>\n",
       "    </tr>\n",
       "    <tr>\n",
       "      <th>2</th>\n",
       "      <td>666033412701032449</td>\n",
       "      <td>https://pbs.twimg.com/media/CT4521TWwAEvMyu.jpg</td>\n",
       "      <td>1</td>\n",
       "      <td>German_shepherd</td>\n",
       "      <td>0.596461</td>\n",
       "      <td>True</td>\n",
       "      <td>malinois</td>\n",
       "      <td>0.138584</td>\n",
       "      <td>True</td>\n",
       "      <td>bloodhound</td>\n",
       "      <td>0.116197</td>\n",
       "      <td>True</td>\n",
       "    </tr>\n",
       "    <tr>\n",
       "      <th>3</th>\n",
       "      <td>666044226329800704</td>\n",
       "      <td>https://pbs.twimg.com/media/CT5Dr8HUEAA-lEu.jpg</td>\n",
       "      <td>1</td>\n",
       "      <td>Rhodesian_ridgeback</td>\n",
       "      <td>0.408143</td>\n",
       "      <td>True</td>\n",
       "      <td>redbone</td>\n",
       "      <td>0.360687</td>\n",
       "      <td>True</td>\n",
       "      <td>miniature_pinscher</td>\n",
       "      <td>0.222752</td>\n",
       "      <td>True</td>\n",
       "    </tr>\n",
       "    <tr>\n",
       "      <th>4</th>\n",
       "      <td>666049248165822465</td>\n",
       "      <td>https://pbs.twimg.com/media/CT5IQmsXIAAKY4A.jpg</td>\n",
       "      <td>1</td>\n",
       "      <td>miniature_pinscher</td>\n",
       "      <td>0.560311</td>\n",
       "      <td>True</td>\n",
       "      <td>Rottweiler</td>\n",
       "      <td>0.243682</td>\n",
       "      <td>True</td>\n",
       "      <td>Doberman</td>\n",
       "      <td>0.154629</td>\n",
       "      <td>True</td>\n",
       "    </tr>\n",
       "  </tbody>\n",
       "</table>\n",
       "</div>"
      ],
      "text/plain": [
       "             tweet_id                                          jpg_url  \\\n",
       "0  666020888022790149  https://pbs.twimg.com/media/CT4udn0WwAA0aMy.jpg   \n",
       "1  666029285002620928  https://pbs.twimg.com/media/CT42GRgUYAA5iDo.jpg   \n",
       "2  666033412701032449  https://pbs.twimg.com/media/CT4521TWwAEvMyu.jpg   \n",
       "3  666044226329800704  https://pbs.twimg.com/media/CT5Dr8HUEAA-lEu.jpg   \n",
       "4  666049248165822465  https://pbs.twimg.com/media/CT5IQmsXIAAKY4A.jpg   \n",
       "\n",
       "   img_num                      p1   p1_conf  p1_dog                  p2  \\\n",
       "0        1  Welsh_springer_spaniel  0.465074    True              collie   \n",
       "1        1                 redbone  0.506826    True  miniature_pinscher   \n",
       "2        1         German_shepherd  0.596461    True            malinois   \n",
       "3        1     Rhodesian_ridgeback  0.408143    True             redbone   \n",
       "4        1      miniature_pinscher  0.560311    True          Rottweiler   \n",
       "\n",
       "    p2_conf  p2_dog                   p3   p3_conf  p3_dog  \n",
       "0  0.156665    True    Shetland_sheepdog  0.061428    True  \n",
       "1  0.074192    True  Rhodesian_ridgeback  0.072010    True  \n",
       "2  0.138584    True           bloodhound  0.116197    True  \n",
       "3  0.360687    True   miniature_pinscher  0.222752    True  \n",
       "4  0.243682    True             Doberman  0.154629    True  "
      ]
     },
     "execution_count": 38,
     "metadata": {},
     "output_type": "execute_result"
    }
   ],
   "source": [
    "df_images.head()"
   ]
  },
  {
   "cell_type": "markdown",
   "metadata": {},
   "source": [
    "<span style=\"color:blue\">\n",
    "\n",
    "* **df_tweetInfo** and **df_archive** should be merged into one dataframe.\n",
    "<span style=\"color:black\">\n",
    "    \n",
    "  * Combine them on 'tweet_id'\n",
    "<span>\n",
    "</span>"
   ]
  },
  {
   "cell_type": "markdown",
   "metadata": {},
   "source": [
    "<a id='assess_summary_initial'></a>\n",
    "([Top of Page](#top_of_page))\n",
    "\n",
    "## Summary of Initial Observations\n",
    "<span style=\"color:blue\">\n",
    "    \n",
    "  <br>**Upon the initial data assessement, the following quality and tidiness issues were observed:**\n",
    "\n",
    "</span>\n",
    "\n",
    "* **Quality:**\n",
    "  * **The dataframes have a different number of records.**\n",
    "    * The slight difference between df_tweetInfo and df_archive is probably due to tweets that have been deleted\n",
    "    * The difference betweeen df_archive and df_images is probably due to not all tweets having images\n",
    "    * Since all tweet_id's in df_images are also in df_archive and df_tweetInfo, the appropriate set to use is the intersection of the three df's.\n",
    "  * In **df_archive**, the maximum value for rating_numerator may be unrealistically high.\n",
    "  * In **df_archive**, the maximum value for rating_denominator may be unrealistically high.\n",
    "  * In **df_archive**, the minimum value for rating_numerator probably should not be zero.\n",
    "  * In **df_archive**, the minimum value for rating_denominator should not be zero.\n",
    "  * In **df_archive**, some **rating_numerator** values are quite large. Investigate whether this is an issue / consider removing numerators over a certain threshold.\n",
    "  * In **df_images**, the number of jpg_urls does not match the number of tweet_id's. Investigate whether this is an issue. If so, correct it.\n",
    "  * In **df_archive**, add a 'none' category for tweets that do not have a dog stage\n",
    "  * In **df_archive**, make sure all tweets have only one dog stage\n",
    "  * In **df_archive**, 'timestamp' and 'retweeted_status_timestamp' should have type 'datetime'.\n",
    "    * Likely code to use:\n",
    "      * <code>df_archive\\['timestamp'\\] = pd.to_datetime(df_archive\\['timestamp'\\])</code>\n",
    "      * <code>df_archive\\['retweeted_status_timestamp'\\] = pd.to_datetime(df_archive\\['retweeted_status_timestamp'\\])</code>\n",
    "  * In **df_archive**, the following columns should have type 'int64':\n",
    "    * 'in_reply_to_status_id'\n",
    "    * 'in_reply_to_user_id',\n",
    "    * 'retweeted_status_id'\n",
    "    * 'retweeted_status_user_id'\n",
    "  * In **df_tweetInfo**, 'tweet_id' should have type 'int64' for consistency across the dataframes.<br><br>\n",
    "\n",
    "* **Tidiness:**\n",
    "  * 'doggo', 'floofer', 'pupper', and 'puppo' are categories and should be **combined into a single column**. \n",
    "  * In df_archive, **urls should be extracted from the 'text' column**\n",
    "  * **df_tweetInfo** and **df_images** should be merged into one dataframe.\n",
    "    * Combine them on 'tweet_id'"
   ]
  },
  {
   "cell_type": "markdown",
   "metadata": {},
   "source": [
    "<a id='clean'></a>\n",
    "([Top of Page](#top_of_page))\n",
    "## Clean\n",
    "Clean the data issues observed in the \"Assess\" phase. Every issue that is cleaned should go through the following process:\n",
    "* **Define**:\n",
    "  * Define the issue and convert any assessments into \"how-to\" guides\n",
    "  * This is essentially pseudo-code\n",
    "  * This serves as future documentation for myself and for others\n",
    "\n",
    "* **Code**:\n",
    "  * Translate words from the 'Define' step to code\n",
    "\n",
    "* **Test**:\n",
    "  * Test the dataset(s) to make sure the cleaning code worked\n",
    "  * This is kind of like re-visiting the \"Assess\" phase<br>\n",
    "  \n",
    "**Begin the cleaning phase by backing up the existing datasets:**"
   ]
  },
  {
   "cell_type": "code",
   "execution_count": 39,
   "metadata": {},
   "outputs": [],
   "source": [
    "df_archive_orig = df_archive.copy(deep=True)\n",
    "df_images_orig = df_images.copy(deep=True)\n",
    "df_tweetInfo_orig = df_tweetInfo.copy(deep=True)"
   ]
  },
  {
   "cell_type": "markdown",
   "metadata": {},
   "source": [
    "<a id='clean_quality'></a>\n",
    "([Top of Page](#top_of_page))\n",
    "## Clean - Quality"
   ]
  },
  {
   "cell_type": "markdown",
   "metadata": {},
   "source": [
    "<a id='clean_num_records'></a>\n",
    "([Top of Page](#top_of_page))\n",
    "### Define\n",
    "**The dataframes have a different number of records.**\n",
    "* The slight difference between df_tweetInfo and df_archive is probably due to tweets that have been deleted\n",
    "* The difference betweeen df_archive and df_images is probably due to not all tweets having images\n",
    "* Since all tweet_id's in df_images are also in df_archive and df_tweetInfo, the appropriate set to use is the intersection of the three df's.<br>\n",
    "  \n",
    "**Pseudo-code:**\n",
    "* Create a list of tweet_ids for each dataframe\n",
    "* Keep the tweet_ids that are common to all three lists\n",
    "* Using that list of tweet_ids, reassign the dataframes"
   ]
  },
  {
   "cell_type": "markdown",
   "metadata": {},
   "source": [
    "### Code"
   ]
  },
  {
   "cell_type": "code",
   "execution_count": 40,
   "metadata": {},
   "outputs": [],
   "source": [
    "# Create a list of tweet_ids for each dataframe:\n",
    "tweet_ids_archive = df_archive_orig['tweet_id'].tolist()\n",
    "tweet_ids_images = df_images_orig['tweet_id'].tolist()\n",
    "tweet_ids_API = df_tweetInfo_orig['tweet_id'].tolist()\n",
    "\n",
    "# Keep the tweet_ids that are common to all three lists:\n",
    "tweet_ids_to_keep = list(set(tweet_ids_archive).intersection(tweet_ids_API).intersection(tweet_ids_images))\n",
    "\n",
    "# Using that list of tweet_ids, reassign the dataframes:\n",
    "df_archive = df_archive_orig[df_archive_orig.tweet_id.isin(tweet_ids_to_keep)]\n",
    "df_images = df_images_orig[df_images_orig.tweet_id.isin(tweet_ids_to_keep)]\n",
    "df_tweetInfo = df_tweetInfo_orig[df_tweetInfo_orig.tweet_id.isin(tweet_ids_to_keep)]"
   ]
  },
  {
   "cell_type": "markdown",
   "metadata": {},
   "source": [
    "### Test"
   ]
  },
  {
   "cell_type": "code",
   "execution_count": 41,
   "metadata": {},
   "outputs": [
    {
     "name": "stdout",
     "output_type": "stream",
     "text": [
      "# of records in df_tweetInfo (i.e., JSON data retrieved via API): 2063\n",
      "# of records in df_archive (i.e., weRateDogs Tweet archive):      2063\n",
      "# of records in df_images (i.e., image analysis):                 2063\n"
     ]
    }
   ],
   "source": [
    "print('# of records in df_tweetInfo (i.e., JSON data retrieved via API): ' + str(len(df_tweetInfo)))\n",
    "print('# of records in df_archive (i.e., weRateDogs Tweet archive):      ' + str(len(df_archive)))\n",
    "print('# of records in df_images (i.e., image analysis):                 ' + str(len(df_images)))"
   ]
  },
  {
   "cell_type": "markdown",
   "metadata": {},
   "source": [
    "<a id='clean_high_numerator'></a>\n",
    "([Top of Page](#top_of_page))\n",
    "### Define\n",
    "**In df_archive, the maximum value for rating_numerator may be unrealistically high.**\n",
    "\n",
    "**Pseudo-code:**\n",
    "* Investigate ratings with high rating_numerator values\n",
    "* Drop any rows with incorrect numerator values\n",
    "  * NOTE: high numerators are acceptable (they're good dogs). Only drop numerators that are incorrect."
   ]
  },
  {
   "cell_type": "markdown",
   "metadata": {},
   "source": [
    "### Code"
   ]
  },
  {
   "cell_type": "code",
   "execution_count": 42,
   "metadata": {},
   "outputs": [
    {
     "data": {
      "text/html": [
       "<div>\n",
       "<style scoped>\n",
       "    .dataframe tbody tr th:only-of-type {\n",
       "        vertical-align: middle;\n",
       "    }\n",
       "\n",
       "    .dataframe tbody tr th {\n",
       "        vertical-align: top;\n",
       "    }\n",
       "\n",
       "    .dataframe thead th {\n",
       "        text-align: right;\n",
       "    }\n",
       "</style>\n",
       "<table border=\"1\" class=\"dataframe\">\n",
       "  <thead>\n",
       "    <tr style=\"text-align: right;\">\n",
       "      <th></th>\n",
       "      <th>tweet_id</th>\n",
       "      <th>in_reply_to_status_id</th>\n",
       "      <th>in_reply_to_user_id</th>\n",
       "      <th>retweeted_status_id</th>\n",
       "      <th>retweeted_status_user_id</th>\n",
       "      <th>rating_numerator</th>\n",
       "      <th>rating_denominator</th>\n",
       "    </tr>\n",
       "  </thead>\n",
       "  <tbody>\n",
       "    <tr>\n",
       "      <th>count</th>\n",
       "      <td>2.063000e+03</td>\n",
       "      <td>2.300000e+01</td>\n",
       "      <td>2.300000e+01</td>\n",
       "      <td>7.400000e+01</td>\n",
       "      <td>7.400000e+01</td>\n",
       "      <td>2063.000000</td>\n",
       "      <td>2063.000000</td>\n",
       "    </tr>\n",
       "    <tr>\n",
       "      <th>mean</th>\n",
       "      <td>7.379294e+17</td>\n",
       "      <td>6.978112e+17</td>\n",
       "      <td>4.196984e+09</td>\n",
       "      <td>7.619394e+17</td>\n",
       "      <td>1.064138e+16</td>\n",
       "      <td>12.262724</td>\n",
       "      <td>10.514300</td>\n",
       "    </tr>\n",
       "    <tr>\n",
       "      <th>std</th>\n",
       "      <td>6.756579e+16</td>\n",
       "      <td>4.359384e+16</td>\n",
       "      <td>0.000000e+00</td>\n",
       "      <td>5.800000e+16</td>\n",
       "      <td>9.154057e+16</td>\n",
       "      <td>40.798407</td>\n",
       "      <td>7.197819</td>\n",
       "    </tr>\n",
       "    <tr>\n",
       "      <th>min</th>\n",
       "      <td>6.660209e+17</td>\n",
       "      <td>6.671522e+17</td>\n",
       "      <td>4.196984e+09</td>\n",
       "      <td>6.675094e+17</td>\n",
       "      <td>7.832140e+05</td>\n",
       "      <td>0.000000</td>\n",
       "      <td>2.000000</td>\n",
       "    </tr>\n",
       "    <tr>\n",
       "      <th>25%</th>\n",
       "      <td>6.763473e+17</td>\n",
       "      <td>6.732411e+17</td>\n",
       "      <td>4.196984e+09</td>\n",
       "      <td>7.117707e+17</td>\n",
       "      <td>4.196984e+09</td>\n",
       "      <td>10.000000</td>\n",
       "      <td>10.000000</td>\n",
       "    </tr>\n",
       "    <tr>\n",
       "      <th>50%</th>\n",
       "      <td>7.116527e+17</td>\n",
       "      <td>6.757073e+17</td>\n",
       "      <td>4.196984e+09</td>\n",
       "      <td>7.755992e+17</td>\n",
       "      <td>4.196984e+09</td>\n",
       "      <td>11.000000</td>\n",
       "      <td>10.000000</td>\n",
       "    </tr>\n",
       "    <tr>\n",
       "      <th>75%</th>\n",
       "      <td>7.928986e+17</td>\n",
       "      <td>7.031489e+17</td>\n",
       "      <td>4.196984e+09</td>\n",
       "      <td>7.958815e+17</td>\n",
       "      <td>4.196984e+09</td>\n",
       "      <td>12.000000</td>\n",
       "      <td>10.000000</td>\n",
       "    </tr>\n",
       "    <tr>\n",
       "      <th>max</th>\n",
       "      <td>8.924206e+17</td>\n",
       "      <td>8.558181e+17</td>\n",
       "      <td>4.196984e+09</td>\n",
       "      <td>8.768508e+17</td>\n",
       "      <td>7.874618e+17</td>\n",
       "      <td>1776.000000</td>\n",
       "      <td>170.000000</td>\n",
       "    </tr>\n",
       "  </tbody>\n",
       "</table>\n",
       "</div>"
      ],
      "text/plain": [
       "           tweet_id  in_reply_to_status_id  in_reply_to_user_id  \\\n",
       "count  2.063000e+03           2.300000e+01         2.300000e+01   \n",
       "mean   7.379294e+17           6.978112e+17         4.196984e+09   \n",
       "std    6.756579e+16           4.359384e+16         0.000000e+00   \n",
       "min    6.660209e+17           6.671522e+17         4.196984e+09   \n",
       "25%    6.763473e+17           6.732411e+17         4.196984e+09   \n",
       "50%    7.116527e+17           6.757073e+17         4.196984e+09   \n",
       "75%    7.928986e+17           7.031489e+17         4.196984e+09   \n",
       "max    8.924206e+17           8.558181e+17         4.196984e+09   \n",
       "\n",
       "       retweeted_status_id  retweeted_status_user_id  rating_numerator  \\\n",
       "count         7.400000e+01              7.400000e+01       2063.000000   \n",
       "mean          7.619394e+17              1.064138e+16         12.262724   \n",
       "std           5.800000e+16              9.154057e+16         40.798407   \n",
       "min           6.675094e+17              7.832140e+05          0.000000   \n",
       "25%           7.117707e+17              4.196984e+09         10.000000   \n",
       "50%           7.755992e+17              4.196984e+09         11.000000   \n",
       "75%           7.958815e+17              4.196984e+09         12.000000   \n",
       "max           8.768508e+17              7.874618e+17       1776.000000   \n",
       "\n",
       "       rating_denominator  \n",
       "count         2063.000000  \n",
       "mean            10.514300  \n",
       "std              7.197819  \n",
       "min              2.000000  \n",
       "25%             10.000000  \n",
       "50%             10.000000  \n",
       "75%             10.000000  \n",
       "max            170.000000  "
      ]
     },
     "execution_count": 42,
     "metadata": {},
     "output_type": "execute_result"
    }
   ],
   "source": [
    "df_archive.describe()"
   ]
  },
  {
   "cell_type": "markdown",
   "metadata": {},
   "source": [
    "Perform a 'groupby' on rating_numerator to get a better sense of its distribution"
   ]
  },
  {
   "cell_type": "code",
   "execution_count": 43,
   "metadata": {},
   "outputs": [
    {
     "data": {
      "text/plain": [
       "rating_numerator\n",
       "0         2\n",
       "1         5\n",
       "2         9\n",
       "3        19\n",
       "4        16\n",
       "5        34\n",
       "6        32\n",
       "7        52\n",
       "8        95\n",
       "9       151\n",
       "10      428\n",
       "11      413\n",
       "12      473\n",
       "13      276\n",
       "14       38\n",
       "15        1\n",
       "24        1\n",
       "26        1\n",
       "27        1\n",
       "44        1\n",
       "45        1\n",
       "50        1\n",
       "60        1\n",
       "75        1\n",
       "80        1\n",
       "84        1\n",
       "88        1\n",
       "99        1\n",
       "121       1\n",
       "143       1\n",
       "144       1\n",
       "165       1\n",
       "204       1\n",
       "420       1\n",
       "1776      1\n",
       "Name: rating_numerator, dtype: int64"
      ]
     },
     "execution_count": 43,
     "metadata": {},
     "output_type": "execute_result"
    }
   ],
   "source": [
    "df_archive.groupby('rating_numerator').rating_numerator.count()"
   ]
  },
  {
   "cell_type": "markdown",
   "metadata": {},
   "source": [
    "Print tweets with high numerator values to better understand what is going on"
   ]
  },
  {
   "cell_type": "code",
   "execution_count": 44,
   "metadata": {},
   "outputs": [
    {
     "name": "stdout",
     "output_type": "stream",
     "text": [
      "516, tweet_id=810984652412424192, rating=24, text: Meet Sam. She smiles 24/7 &amp; secretly aspires to be a reindeer. \n",
      "Keep Sam smiling by clicking and sharing this link:\n",
      "https://t.co/98tB8y7y7t https://t.co/LouL5vdvxx\n",
      "902, tweet_id=758467244762497024, rating=165, text: Why does this never happen at my front door... 165/150 https://t.co/HmwrdfEfUE\n",
      "1433, tweet_id=697463031882764288, rating=44, text: Happy Wednesday here's a bucket of pups. 44/40 would pet all at once https://t.co/HppvrYuamZ\n",
      "2074, tweet_id=670842764863651840, rating=420, text: After so many requests... here you go.\n",
      "\n",
      "Good dogg. 420/10 https://t.co/yfAAo1gdeY\n",
      "285, tweet_id=838916489579200512, rating=15, text: RT @KibaDva: I collected all the good dogs!! 15/10 @dog_rates #GoodDogs https://t.co/6UCGFczlOI\n",
      "1712, tweet_id=680494726643068929, rating=26, text: Here we have uncovered an entire battalion of holiday puppers. Average of 11.26/10 https://t.co/eNm2S6p9BD\n",
      "433, tweet_id=820690176645140481, rating=84, text: The floofs have been released I repeat the floofs have been released. 84/70 https://t.co/NIYC820tmd\n",
      "1202, tweet_id=716439118184652801, rating=50, text: This is Bluebert. He just saw that both #FinalFur match ups are split 50/50. Amazed af. 11/10 https://t.co/Kky1DPG4iq\n",
      "1843, tweet_id=675853064436391936, rating=88, text: Here we have an entire platoon of puppers. Total score: 88/80 would pet all at once https://t.co/y93p6FLvVw\n",
      "695, tweet_id=786709082849828864, rating=75, text: This is Logan, the Chow who lived. He solemnly swears he's up to lots of good. H*ckin magical af 9.75/10 https://t.co/yBO5wuqaPS\n",
      "1351, tweet_id=704054845121142784, rating=60, text: Here is a whole flock of puppers.  60/50 I'll take the lot https://t.co/9dpcw6MdWa\n",
      "1228, tweet_id=713900603437621249, rating=99, text: Happy Saturday here's 9 puppers on a bench. 99/90 good work everybody https://t.co/mpvaVxKmc1\n",
      "979, tweet_id=749981277374128128, rating=1776, text: This is Atticus. He's quite simply America af. 1776/10 https://t.co/GRXwMxLBkh\n",
      "1120, tweet_id=731156023742988288, rating=204, text: Say hello to this unbelievably well behaved squad of doggos. 204/170 would try to pet all at once https://t.co/yGQI3He3xv\n",
      "1634, tweet_id=684225744407494656, rating=143, text: Two sneaky puppers were not initially seen, moving the rating to 143/130. Please forgive us. Thank you https://t.co/kRK51Y5ac3\n",
      "1635, tweet_id=684222868335505415, rating=121, text: Someone help the girl is being mugged. Several are distracting her while two steal her shoes. Clever puppers 121/110 https://t.co/1zfnTJLt55\n",
      "1254, tweet_id=710658690886586372, rating=80, text: Here's a brigade of puppers. All look very prepared for whatever happens next. 80/80 https://t.co/0eb7R1Om12\n",
      "1779, tweet_id=677716515794329600, rating=144, text: IT'S PUPPERGEDDON. Total of 144/120 ...I think https://t.co/ZanVtAtvIq\n",
      "1274, tweet_id=709198395643068416, rating=45, text: From left to right:\n",
      "Cletus, Jerome, Alejandro, Burp, &amp; Titson\n",
      "None know where camera is. 45/50 would hug all at once https://t.co/sedre1ivTK\n",
      "763, tweet_id=778027034220126208, rating=27, text: This is Sophie. She's a Jubilant Bush Pupper. Super h*ckin rare. Appears at random just to smile at the locals. 11.27/10 would smile back https://t.co/QFaUiIHxHq\n"
     ]
    }
   ],
   "source": [
    "# get indices for tweets with numerator >= 15\n",
    "high_numerator_indices = set()\n",
    "for i in df_archive.index:\n",
    "    if df_archive.loc[i].rating_numerator >= 15:\n",
    "        high_numerator_indices.add(i)\n",
    "\n",
    "# print info for tweets with numerator >= 15        \n",
    "for i in high_numerator_indices:\n",
    "    print(str(i) + \n",
    "          ', tweet_id=' + str(df_archive.tweet_id[i]) + \n",
    "          ', rating=' + str(df_archive.rating_numerator[i]) + \n",
    "          ', text: ' + str(df_archive.loc[i].text))"
   ]
  },
  {
   "cell_type": "markdown",
   "metadata": {},
   "source": [
    "High ratings are acceptable (after all: they're good dogs Brent). We only need to remove **incorrect** rating_numerator values. _NOTE: Tweets with incorrector numerator/denominator pairs will be addressed later._\n",
    "* Only one index has an incorrect rating_numerator value. This index will be removed:\n",
    "  * 516 (tweet_id = 810984652412424192, rating = 24, text: \"24/7\")<br><br>\n",
    "\n",
    "* The following indices have a rating_numerator value that needs corrected. These will be rounded **up** since they're all good dogs:\n",
    "  * 1712 (tweet_id = 680494726643068929, rating = 26, text: \"11.26/10\" --> change rating to 12)\n",
    "  * 695 (tweet_id = 786709082849828864, rating = 75, text: \"9.75/10\" --> change rating to 10)\n",
    "  * 763 (tweet_id = 778027034220126208, rating = 27, text: \"11.27/10\" --> change rating to 12)"
   ]
  },
  {
   "cell_type": "code",
   "execution_count": 45,
   "metadata": {},
   "outputs": [],
   "source": [
    "# drop tweet_id 810984652412424192 from each of the df's\n",
    "df_archive = df_archive[df_archive.tweet_id != 810984652412424192]\n",
    "df_images = df_images[df_images.tweet_id != 810984652412424192]\n",
    "df_tweetInfo = df_tweetInfo[df_tweetInfo.tweet_id != 810984652412424192]\n",
    "\n",
    "# reset the index for each df\n",
    "df_archive.reset_index(drop=True,inplace=True)\n",
    "df_images.reset_index(drop=True,inplace=True)\n",
    "df_tweetInfo.reset_index(drop=True,inplace=True)"
   ]
  },
  {
   "cell_type": "markdown",
   "metadata": {},
   "source": [
    "### Test"
   ]
  },
  {
   "cell_type": "code",
   "execution_count": 46,
   "metadata": {},
   "outputs": [
    {
     "name": "stdout",
     "output_type": "stream",
     "text": [
      "# of records in df_tweetInfo (i.e., JSON data retrieved via API): 2062\n",
      "# of records in df_archive (i.e., weRateDogs Tweet archive):      2062\n",
      "# of records in df_images (i.e., image analysis):                 2062\n"
     ]
    }
   ],
   "source": [
    "print('# of records in df_tweetInfo (i.e., JSON data retrieved via API): ' + str(len(df_tweetInfo)))\n",
    "print('# of records in df_archive (i.e., weRateDogs Tweet archive):      ' + str(len(df_archive)))\n",
    "print('# of records in df_images (i.e., image analysis):                 ' + str(len(df_images)))"
   ]
  },
  {
   "cell_type": "markdown",
   "metadata": {},
   "source": [
    "* The number of tweets has decreased by one in each dataframe\n",
    "* Check to make sure the correct tweet was removed (check for existence of tweet_id 810984652412424192):"
   ]
  },
  {
   "cell_type": "code",
   "execution_count": 47,
   "metadata": {},
   "outputs": [
    {
     "data": {
      "text/html": [
       "<div>\n",
       "<style scoped>\n",
       "    .dataframe tbody tr th:only-of-type {\n",
       "        vertical-align: middle;\n",
       "    }\n",
       "\n",
       "    .dataframe tbody tr th {\n",
       "        vertical-align: top;\n",
       "    }\n",
       "\n",
       "    .dataframe thead th {\n",
       "        text-align: right;\n",
       "    }\n",
       "</style>\n",
       "<table border=\"1\" class=\"dataframe\">\n",
       "  <thead>\n",
       "    <tr style=\"text-align: right;\">\n",
       "      <th></th>\n",
       "      <th>tweet_id</th>\n",
       "      <th>in_reply_to_status_id</th>\n",
       "      <th>in_reply_to_user_id</th>\n",
       "      <th>timestamp</th>\n",
       "      <th>source</th>\n",
       "      <th>text</th>\n",
       "      <th>retweeted_status_id</th>\n",
       "      <th>retweeted_status_user_id</th>\n",
       "      <th>retweeted_status_timestamp</th>\n",
       "      <th>expanded_urls</th>\n",
       "      <th>rating_numerator</th>\n",
       "      <th>rating_denominator</th>\n",
       "      <th>name</th>\n",
       "      <th>doggo</th>\n",
       "      <th>floofer</th>\n",
       "      <th>pupper</th>\n",
       "      <th>puppo</th>\n",
       "    </tr>\n",
       "  </thead>\n",
       "  <tbody>\n",
       "  </tbody>\n",
       "</table>\n",
       "</div>"
      ],
      "text/plain": [
       "Empty DataFrame\n",
       "Columns: [tweet_id, in_reply_to_status_id, in_reply_to_user_id, timestamp, source, text, retweeted_status_id, retweeted_status_user_id, retweeted_status_timestamp, expanded_urls, rating_numerator, rating_denominator, name, doggo, floofer, pupper, puppo]\n",
       "Index: []"
      ]
     },
     "execution_count": 47,
     "metadata": {},
     "output_type": "execute_result"
    }
   ],
   "source": [
    "df_archive[df_archive.tweet_id == 810984652412424192]"
   ]
  },
  {
   "cell_type": "markdown",
   "metadata": {},
   "source": [
    "<br>tweet_id 810984652412424192 no longer exists"
   ]
  },
  {
   "cell_type": "markdown",
   "metadata": {},
   "source": [
    "<a id='clean_high_denominator'></a>\n",
    "([Top of Page](#top_of_page))\n",
    "### Define\n",
    "* **In df_archive, the maximum value for rating_denominator may be unrealistically high.**<br><br>\n",
    "\n",
    "* **Pseudo-code:**\n",
    "  * Check for high denominators\n",
    "    * If appropriate, remove rows\n",
    "    * If appropriate, change rating_numerator and rating_denominator"
   ]
  },
  {
   "cell_type": "markdown",
   "metadata": {},
   "source": [
    "### Code"
   ]
  },
  {
   "cell_type": "code",
   "execution_count": 48,
   "metadata": {},
   "outputs": [
    {
     "data": {
      "text/plain": [
       "rating_denominator\n",
       "2         1\n",
       "10     2045\n",
       "11        2\n",
       "20        1\n",
       "40        1\n",
       "50        3\n",
       "70        1\n",
       "80        2\n",
       "90        1\n",
       "110       1\n",
       "120       1\n",
       "130       1\n",
       "150       1\n",
       "170       1\n",
       "Name: rating_denominator, dtype: int64"
      ]
     },
     "execution_count": 48,
     "metadata": {},
     "output_type": "execute_result"
    }
   ],
   "source": [
    "df_archive.groupby('rating_denominator').rating_denominator.count()"
   ]
  },
  {
   "cell_type": "markdown",
   "metadata": {},
   "source": [
    "Print tweets with denominator != 10 to better understand what is going on"
   ]
  },
  {
   "cell_type": "code",
   "execution_count": 49,
   "metadata": {},
   "outputs": [
    {
     "name": "stdout",
     "output_type": "stream",
     "text": [
      "1501, tweet_id=677716515794329600, numerator=144, denominator=120, text: IT'S PUPPERGEDDON. Total of 144/120 ...I think https://t.co/ZanVtAtvIq\n",
      "\n",
      "1121, tweet_id=704054845121142784, numerator=60, denominator=50, text: Here is a whole flock of puppers.  60/50 I'll take the lot https://t.co/9dpcw6MdWa\n",
      "\n",
      "866, tweet_id=740373189193256964, numerator=9, denominator=11, text: After so many requests, this is Bretagne. She was the last surviving 9/11 search dog, and our second ever 14/10. RIP https://t.co/XAVDNDaVgQ\n",
      "\n",
      "1037, tweet_id=710658690886586372, numerator=80, denominator=80, text: Here's a brigade of puppers. All look very prepared for whatever happens next. 80/80 https://t.co/0eb7R1Om12\n",
      "\n",
      "1197, tweet_id=697463031882764288, numerator=44, denominator=40, text: Happy Wednesday here's a bucket of pups. 44/40 would pet all at once https://t.co/HppvrYuamZ\n",
      "\n",
      "337, tweet_id=820690176645140481, numerator=84, denominator=70, text: The floofs have been released I repeat the floofs have been released. 84/70 https://t.co/NIYC820tmd\n",
      "\n",
      "914, tweet_id=731156023742988288, numerator=204, denominator=170, text: Say hello to this unbelievably well behaved squad of doggos. 204/170 would try to pet all at once https://t.co/yGQI3He3xv\n",
      "\n",
      "1395, tweet_id=682962037429899265, numerator=7, denominator=11, text: This is Darrel. He just robbed a 7/11 and is in a high speed police chase. Was just spotted by the helicopter 10/10 https://t.co/7EsP8LmSp5\n",
      "\n",
      "1012, tweet_id=713900603437621249, numerator=99, denominator=90, text: Happy Saturday here's 9 puppers on a bench. 99/90 good work everybody https://t.co/mpvaVxKmc1\n",
      "\n",
      "725, tweet_id=758467244762497024, numerator=165, denominator=150, text: Why does this never happen at my front door... 165/150 https://t.co/HmwrdfEfUE\n",
      "\n",
      "2041, tweet_id=666287406224695296, numerator=1, denominator=2, text: This is an Albanian 3 1/2 legged  Episcopalian. Loves well-polished hardwood flooring. Penis on the collar. 9/10 https://t.co/d9NcXFKwLv\n",
      "\n",
      "1560, tweet_id=675853064436391936, numerator=88, denominator=80, text: Here we have an entire platoon of puppers. Total score: 88/80 would pet all at once https://t.co/y93p6FLvVw\n",
      "\n",
      "1369, tweet_id=684225744407494656, numerator=143, denominator=130, text: Two sneaky puppers were not initially seen, moving the rating to 143/130. Please forgive us. Thank you https://t.co/kRK51Y5ac3\n",
      "\n",
      "1370, tweet_id=684222868335505415, numerator=121, denominator=110, text: Someone help the girl is being mugged. Several are distracting her while two steal her shoes. Clever puppers 121/110 https://t.co/1zfnTJLt55\n",
      "\n",
      "1055, tweet_id=709198395643068416, numerator=45, denominator=50, text: From left to right:\n",
      "Cletus, Jerome, Alejandro, Burp, &amp; Titson\n",
      "None know where camera is. 45/50 would hug all at once https://t.co/sedre1ivTK\n",
      "\n",
      "957, tweet_id=722974582966214656, numerator=4, denominator=20, text: Happy 4/20 from the squad! 13/10 for all https://t.co/eV1diwds8a\n",
      "\n",
      "991, tweet_id=716439118184652801, numerator=50, denominator=50, text: This is Bluebert. He just saw that both #FinalFur match ups are split 50/50. Amazed af. 11/10 https://t.co/Kky1DPG4iq\n",
      "\n"
     ]
    }
   ],
   "source": [
    "# get indices for tweets with denominator != 10\n",
    "non_standard_denominator_indices = set()\n",
    "for i in df_archive.index:\n",
    "    if df_archive.loc[i].rating_denominator != 10:\n",
    "        non_standard_denominator_indices.add(i)\n",
    "\n",
    "# print info for tweets with denominator != 10\n",
    "for i in non_standard_denominator_indices:\n",
    "    #print(str(i) + ' - ' + str(df_archive.loc[i].text))\n",
    "    print(str(i) + \n",
    "          ', tweet_id=' + str(df_archive.tweet_id[i]) + \n",
    "          ', numerator=' + str(df_archive.rating_numerator[i]) + \n",
    "          ', denominator=' + str(df_archive.rating_denominator[i]) + \n",
    "          ', text: ' + str(df_archive.loc[i].text) + '\\n')"
   ]
  },
  {
   "cell_type": "markdown",
   "metadata": {},
   "source": [
    "* Most of the tweets with denominator != 10 have been parsed correctly\n",
    "* However, some tweets have multiple fractions in the tweet text and the wrong fraction was grabbed when ratings were parsed\n",
    "  * Such tweets need both their numerator and denominator changed\n",
    "  * Since there are not very many of them, they will be changed semi-manually\n",
    "  * If there were more such entries (say, more than 10), then it would make more sense to write code that correclty parses the tweet text with respect to rating\n",
    "* Indices with incorrect numerator and denominator pairs:\n",
    "  * 866 (tweet_id = 740373189193256964) \n",
    "    * numer = 9, should be 14\n",
    "    * denom = 11, should be 10\n",
    "  * 1395 (tweet_id = 682962037429899265)\n",
    "    * numer = 7, should be 10\n",
    "    * denom = 11, should be 10\n",
    "  * 2041 (tweet_id = 666287406224695296)\n",
    "    * numer = 1, should be 9\n",
    "    * denom = 2, should be 10\n",
    "  * 957 (tweet_id = 722974582966214656)\n",
    "    * numer = 4, should be 13\n",
    "    * denom = 20, should be 10\n",
    "  * 991 (tweet_id = 716439118184652801)\n",
    "    * numer = 50, should be 11\n",
    "    * denom = 50, should be 10\n",
    "* Based on the above, create a dataframe of tweet info that needs modified"
   ]
  },
  {
   "cell_type": "code",
   "execution_count": 50,
   "metadata": {},
   "outputs": [],
   "source": [
    "tweets_to_mod = {'tweet_id': [740373189193256964, 682962037429899265, 666287406224695296, 722974582966214656, 716439118184652801], \n",
    "        'numerator_old': [9, 7, 1, 4, 50], \n",
    "        'denominator_old': [11, 11, 2, 20, 50],\n",
    "        'numerator_new': [14, 10, 9, 13, 11], \n",
    "        'denominator_new': [10, 10, 10, 10, 10]}\n",
    "df_tweets_to_mod = pd.DataFrame(tweets_to_mod, columns = ['tweet_id',\n",
    "                                                          'numerator_old',\n",
    "                                                          'denominator_old',\n",
    "                                                          'numerator_new',\n",
    "                                                          'denominator_new'])\n",
    "df_tweets_to_mod = df_tweets_to_mod.set_index('tweet_id')"
   ]
  },
  {
   "cell_type": "markdown",
   "metadata": {},
   "source": [
    "Modify the tweet info"
   ]
  },
  {
   "cell_type": "code",
   "execution_count": 51,
   "metadata": {},
   "outputs": [],
   "source": [
    "df_archive = df_archive.set_index('tweet_id')\n",
    "for tweet in df_tweets_to_mod.index.tolist():\n",
    "    df_archive.loc[tweet,'rating_numerator'] = df_tweets_to_mod.loc[tweet,'numerator_new']\n",
    "    df_archive.loc[tweet,'rating_denominator'] = df_tweets_to_mod.loc[tweet,'denominator_new']"
   ]
  },
  {
   "cell_type": "markdown",
   "metadata": {},
   "source": [
    "### Test"
   ]
  },
  {
   "cell_type": "code",
   "execution_count": 52,
   "metadata": {},
   "outputs": [
    {
     "name": "stdout",
     "output_type": "stream",
     "text": [
      "old ratings: 9/11, new ratings: 14/10\n",
      "old ratings: 7/11, new ratings: 10/10\n",
      "old ratings: 1/2, new ratings: 9/10\n",
      "old ratings: 4/20, new ratings: 13/10\n",
      "old ratings: 50/50, new ratings: 11/10\n"
     ]
    }
   ],
   "source": [
    "for tweet in df_tweets_to_mod.index.tolist():\n",
    "    rating_old = str(df_tweets_to_mod.loc[tweet,'numerator_old']) + '/' + str(df_tweets_to_mod.loc[tweet,'denominator_old'])\n",
    "    rating_new = str(df_archive.loc[tweet,'rating_numerator']) + '/' + str(df_archive.loc[tweet,'rating_denominator'])\n",
    "    print('old ratings: ' + rating_old + ', new ratings: ' + rating_new)    "
   ]
  },
  {
   "cell_type": "markdown",
   "metadata": {},
   "source": [
    "<a id='clean_numerator_zeros'></a>\n",
    "([Top of Page](#top_of_page))\n",
    "### Define\n",
    "**Multiple Issues:**\n",
    "* In **df_archive**, the minimum value for rating_numerator probably should not be zero.\n",
    "* In **df_archive**, the minimum value for rating_denominator should not be zero.\n",
    "\n",
    "**Pseudo-code:**\n",
    "* **check for rating_numerator == 0**\n",
    "  * Follow previous processes\n",
    "* **check for rating_denominator == 0**\n",
    "  * Either remove these or assign a denominator of 10"
   ]
  },
  {
   "cell_type": "markdown",
   "metadata": {},
   "source": [
    "### Code"
   ]
  },
  {
   "cell_type": "code",
   "execution_count": 53,
   "metadata": {},
   "outputs": [
    {
     "data": {
      "text/plain": [
       "rating_numerator\n",
       "0         2\n",
       "1         4\n",
       "2         9\n",
       "3        19\n",
       "4        15\n",
       "5        34\n",
       "6        32\n",
       "7        51\n",
       "8        95\n",
       "9       151\n",
       "10      429\n",
       "11      414\n",
       "12      473\n",
       "13      277\n",
       "14       39\n",
       "15        1\n",
       "26        1\n",
       "27        1\n",
       "44        1\n",
       "45        1\n",
       "60        1\n",
       "75        1\n",
       "80        1\n",
       "84        1\n",
       "88        1\n",
       "99        1\n",
       "121       1\n",
       "143       1\n",
       "144       1\n",
       "165       1\n",
       "204       1\n",
       "420       1\n",
       "1776      1\n",
       "Name: rating_numerator, dtype: int64"
      ]
     },
     "execution_count": 53,
     "metadata": {},
     "output_type": "execute_result"
    }
   ],
   "source": [
    "df_archive.groupby('rating_numerator').rating_numerator.count()"
   ]
  },
  {
   "cell_type": "code",
   "execution_count": 54,
   "metadata": {},
   "outputs": [
    {
     "data": {
      "text/plain": [
       "rating_denominator\n",
       "10     2050\n",
       "40        1\n",
       "50        2\n",
       "70        1\n",
       "80        2\n",
       "90        1\n",
       "110       1\n",
       "120       1\n",
       "130       1\n",
       "150       1\n",
       "170       1\n",
       "Name: rating_denominator, dtype: int64"
      ]
     },
     "execution_count": 54,
     "metadata": {},
     "output_type": "execute_result"
    }
   ],
   "source": [
    "df_archive.groupby('rating_denominator').rating_denominator.count()"
   ]
  },
  {
   "cell_type": "markdown",
   "metadata": {},
   "source": [
    "* There are no longer any tweets with a denominator of 0\n",
    "  * Such tweets were probably removed when the number of records in the dataframes [were corrected](#clean_num_records)\n",
    "\n",
    "* Howerver, there are still numerators with a value of 0\n",
    "  * Since there are only two such values, they will be explored and/or corrected in a semi-manual manner."
   ]
  },
  {
   "cell_type": "code",
   "execution_count": 55,
   "metadata": {},
   "outputs": [
    {
     "name": "stdout",
     "output_type": "stream",
     "text": [
      "tweet_id=746906459439529985, numerator=0, denominator=10, text: PUPDATE: can't see any. Even if I could, I couldn't reach them to pet. 0/10 much disappointment https://t.co/c7WXaB2nqX\n",
      "\n",
      "tweet_id=835152434251116546, numerator=0, denominator=10, text: When you're so blinded by your systematic plagiarism that you forget what day it is. 0/10 https://t.co/YbEJPkg4Ag\n",
      "\n"
     ]
    }
   ],
   "source": [
    "# get indices for tweets with numerator == 0\n",
    "indices_to_check = set()\n",
    "for i in df_archive.index:\n",
    "    if df_archive.loc[i].rating_numerator == 0:\n",
    "        indices_to_check.add(i)\n",
    "\n",
    "# print info for tweets with numerator == 0\n",
    "for i in indices_to_check:\n",
    "    print('tweet_id=' + str(i) + \n",
    "          ', numerator=' + str(df_archive.rating_numerator[i]) + \n",
    "          ', denominator=' + str(df_archive.rating_denominator[i]) + \n",
    "          ', text: ' + str(df_archive.loc[i].text) + '\\n')"
   ]
  },
  {
   "cell_type": "markdown",
   "metadata": {},
   "source": [
    "* Tweet 746906459439529985 does not contain any dog images and can be removed\n",
    "* Tweet 835152434251116546 is a retweet and can be removed\n",
    "  * Since it utilizes a screenshot of a separate tweet, the fact that it is a retweet is only obvious once once one clicks the url"
   ]
  },
  {
   "cell_type": "markdown",
   "metadata": {},
   "source": [
    "NOTE: Link on [handling exceptions](https://wiki.python.org/moin/HandlingExceptions) in Python"
   ]
  },
  {
   "cell_type": "code",
   "execution_count": 56,
   "metadata": {},
   "outputs": [],
   "source": [
    "# drop tweet_id's 746906459439529985 and 835152434251116546\n",
    "#   - use try/except blocks for debugging purposes\n",
    "#   - should normally be written as a function, but since there are only 2 such entries, this is quicker / easier\n",
    "# --------------------------------------------------------------------------------\n",
    "# tweet 1\n",
    "try:\n",
    "    df_archive = df_archive.drop(746906459439529985)\n",
    "except KeyError:\n",
    "    print('received a KeyError, meaning the tweet was already dropped from df_archive')\n",
    "\n",
    "# tweet 2\n",
    "try:\n",
    "    df_archive = df_archive.drop(835152434251116546)\n",
    "except KeyError:\n",
    "    print('received a KeyError, meaning the tweet was already dropped from df_archive')"
   ]
  },
  {
   "cell_type": "markdown",
   "metadata": {},
   "source": [
    "### Test"
   ]
  },
  {
   "cell_type": "code",
   "execution_count": 57,
   "metadata": {},
   "outputs": [
    {
     "name": "stdout",
     "output_type": "stream",
     "text": [
      "received a KeyError, meaning the tweet was successfully dropped from df_archive\n",
      "received a KeyError, meaning the tweet was successfully dropped from df_archive\n"
     ]
    }
   ],
   "source": [
    "#   - use try/except blocks for debugging purposes\n",
    "#   - should normally be written as a function, but since there are only 2 such entries, this is quicker / easier\n",
    "# --------------------------------------------------------------------------------\n",
    "# tweet 1\n",
    "try:\n",
    "    print(df_archive.loc[746906459439529985])\n",
    "except KeyError:\n",
    "    print('received a KeyError, meaning the tweet was successfully dropped from df_archive')\n",
    "\n",
    "# tweet 2\n",
    "try:\n",
    "    print(df_archive.loc[746906459439529985])\n",
    "except KeyError:\n",
    "    print('received a KeyError, meaning the tweet was successfully dropped from df_archive')"
   ]
  },
  {
   "cell_type": "markdown",
   "metadata": {},
   "source": [
    "<a id='clean_datetime'></a>\n",
    "([Top of Page](#top_of_page))\n",
    "### Define\n",
    "* In **df_archive**, 'timestamp' and 'retweeted_status_timestamp' should have type 'datetime'.\n",
    "\n",
    "\n",
    "* Likely code to use:\n",
    "  * <code>df_archive\\['timestamp'\\] = pd.to_datetime(df_archive\\['timestamp'\\])</code>\n",
    "  * <code>df_archive\\['retweeted_status_timestamp'\\] = pd.to_datetime(df_archive\\"
   ]
  },
  {
   "cell_type": "markdown",
   "metadata": {},
   "source": [
    "### Code"
   ]
  },
  {
   "cell_type": "code",
   "execution_count": 58,
   "metadata": {},
   "outputs": [
    {
     "name": "stdout",
     "output_type": "stream",
     "text": [
      "<class 'pandas.core.frame.DataFrame'>\n",
      "Int64Index: 2060 entries, 892420643555336193 to 666020888022790149\n",
      "Data columns (total 16 columns):\n",
      "in_reply_to_status_id         22 non-null float64\n",
      "in_reply_to_user_id           22 non-null float64\n",
      "timestamp                     2060 non-null object\n",
      "source                        2060 non-null object\n",
      "text                          2060 non-null object\n",
      "retweeted_status_id           74 non-null float64\n",
      "retweeted_status_user_id      74 non-null float64\n",
      "retweeted_status_timestamp    74 non-null object\n",
      "expanded_urls                 2060 non-null object\n",
      "rating_numerator              2060 non-null int64\n",
      "rating_denominator            2060 non-null int64\n",
      "name                          2060 non-null object\n",
      "doggo                         2060 non-null object\n",
      "floofer                       2060 non-null object\n",
      "pupper                        2060 non-null object\n",
      "puppo                         2060 non-null object\n",
      "dtypes: float64(4), int64(2), object(10)\n",
      "memory usage: 353.6+ KB\n"
     ]
    }
   ],
   "source": [
    "df_archive.info()"
   ]
  },
  {
   "cell_type": "code",
   "execution_count": 59,
   "metadata": {},
   "outputs": [],
   "source": [
    "df_archive['timestamp'] = pd.to_datetime(df_archive['timestamp'])\n",
    "df_archive['retweeted_status_timestamp'] = pd.to_datetime(df_archive['retweeted_status_timestamp'])"
   ]
  },
  {
   "cell_type": "markdown",
   "metadata": {},
   "source": [
    "### Test"
   ]
  },
  {
   "cell_type": "code",
   "execution_count": 60,
   "metadata": {},
   "outputs": [
    {
     "name": "stdout",
     "output_type": "stream",
     "text": [
      "<class 'pandas.core.frame.DataFrame'>\n",
      "Int64Index: 2060 entries, 892420643555336193 to 666020888022790149\n",
      "Data columns (total 16 columns):\n",
      "in_reply_to_status_id         22 non-null float64\n",
      "in_reply_to_user_id           22 non-null float64\n",
      "timestamp                     2060 non-null datetime64[ns, UTC]\n",
      "source                        2060 non-null object\n",
      "text                          2060 non-null object\n",
      "retweeted_status_id           74 non-null float64\n",
      "retweeted_status_user_id      74 non-null float64\n",
      "retweeted_status_timestamp    74 non-null datetime64[ns, UTC]\n",
      "expanded_urls                 2060 non-null object\n",
      "rating_numerator              2060 non-null int64\n",
      "rating_denominator            2060 non-null int64\n",
      "name                          2060 non-null object\n",
      "doggo                         2060 non-null object\n",
      "floofer                       2060 non-null object\n",
      "pupper                        2060 non-null object\n",
      "puppo                         2060 non-null object\n",
      "dtypes: datetime64[ns, UTC](2), float64(4), int64(2), object(8)\n",
      "memory usage: 353.6+ KB\n"
     ]
    }
   ],
   "source": [
    "df_archive.info()"
   ]
  },
  {
   "cell_type": "markdown",
   "metadata": {},
   "source": [
    "The 'timestamp' and 'retweeted_status_timestamp' columns both have type 'datetime'"
   ]
  },
  {
   "cell_type": "markdown",
   "metadata": {},
   "source": [
    "<a id='clean_int64'></a>\n",
    "([Top of Page](#top_of_page))\n",
    "### Define\n",
    "* In **df_archive**, the following columns should have type 'int64':\n",
    "  * 'in_reply_to_status_id'\n",
    "  * 'in_reply_to_user_id',\n",
    "  * 'retweeted_status_id'\n",
    "  * 'retweeted_status_user_id'"
   ]
  },
  {
   "cell_type": "markdown",
   "metadata": {},
   "source": [
    "### Code"
   ]
  },
  {
   "cell_type": "code",
   "execution_count": 61,
   "metadata": {},
   "outputs": [],
   "source": [
    "df_archive['in_reply_to_status_id'] = df_archive['in_reply_to_status_id'].fillna(0).astype(np.int64)\n",
    "df_archive['in_reply_to_user_id'] = df_archive['in_reply_to_user_id'].fillna(0).astype(np.int64)\n",
    "df_archive['retweeted_status_id'] = df_archive['retweeted_status_id'].fillna(0).astype(np.int64)\n",
    "df_archive['retweeted_status_user_id'] = df_archive['retweeted_status_user_id'].fillna(0).astype(np.int64)"
   ]
  },
  {
   "cell_type": "markdown",
   "metadata": {},
   "source": [
    "### Test"
   ]
  },
  {
   "cell_type": "code",
   "execution_count": 62,
   "metadata": {},
   "outputs": [
    {
     "name": "stdout",
     "output_type": "stream",
     "text": [
      "<class 'pandas.core.frame.DataFrame'>\n",
      "Int64Index: 2060 entries, 892420643555336193 to 666020888022790149\n",
      "Data columns (total 16 columns):\n",
      "in_reply_to_status_id         2060 non-null int64\n",
      "in_reply_to_user_id           2060 non-null int64\n",
      "timestamp                     2060 non-null datetime64[ns, UTC]\n",
      "source                        2060 non-null object\n",
      "text                          2060 non-null object\n",
      "retweeted_status_id           2060 non-null int64\n",
      "retweeted_status_user_id      2060 non-null int64\n",
      "retweeted_status_timestamp    74 non-null datetime64[ns, UTC]\n",
      "expanded_urls                 2060 non-null object\n",
      "rating_numerator              2060 non-null int64\n",
      "rating_denominator            2060 non-null int64\n",
      "name                          2060 non-null object\n",
      "doggo                         2060 non-null object\n",
      "floofer                       2060 non-null object\n",
      "pupper                        2060 non-null object\n",
      "puppo                         2060 non-null object\n",
      "dtypes: datetime64[ns, UTC](2), int64(6), object(8)\n",
      "memory usage: 353.6+ KB\n"
     ]
    }
   ],
   "source": [
    "df_archive.info()"
   ]
  },
  {
   "cell_type": "markdown",
   "metadata": {},
   "source": [
    "Each of the desired columns now has type 'datetime'"
   ]
  },
  {
   "cell_type": "markdown",
   "metadata": {},
   "source": [
    "<a id='assess_updated_columns'></a>\n",
    "([Top of Page](#top_of_page))\n",
    "### _(No Cleaning)_ Assess Updated Columns"
   ]
  },
  {
   "cell_type": "markdown",
   "metadata": {},
   "source": [
    "* Upon changing these columns to 'int64', it became apparent that they were not adequately explored in the 'Assess' phase\n",
    "  * 'in_reply_to_status_id'\n",
    "  * 'in_reply_to_user_id',\n",
    "  * 'retweeted_status_id'\n",
    "  * 'retweeted_status_user_id\n",
    "* The goals of this analysis are to only analyze original tweets, not retweets\n",
    "* As such, some of the entries represented by these columns can probably be removed\n",
    "* Explore whether any info in these columns indicates invalid tweets (i.e., retweets)<br><br>\n",
    "    \n",
    "* **Start (the \"re-assessment\") by exploring 'retweeted_status_id'**"
   ]
  },
  {
   "cell_type": "code",
   "execution_count": 63,
   "metadata": {},
   "outputs": [
    {
     "data": {
      "text/html": [
       "<div>\n",
       "<style scoped>\n",
       "    .dataframe tbody tr th:only-of-type {\n",
       "        vertical-align: middle;\n",
       "    }\n",
       "\n",
       "    .dataframe tbody tr th {\n",
       "        vertical-align: top;\n",
       "    }\n",
       "\n",
       "    .dataframe thead th {\n",
       "        text-align: right;\n",
       "    }\n",
       "</style>\n",
       "<table border=\"1\" class=\"dataframe\">\n",
       "  <thead>\n",
       "    <tr style=\"text-align: right;\">\n",
       "      <th></th>\n",
       "      <th>in_reply_to_status_id</th>\n",
       "      <th>in_reply_to_user_id</th>\n",
       "      <th>timestamp</th>\n",
       "      <th>source</th>\n",
       "      <th>text</th>\n",
       "      <th>retweeted_status_id</th>\n",
       "      <th>retweeted_status_user_id</th>\n",
       "      <th>retweeted_status_timestamp</th>\n",
       "      <th>expanded_urls</th>\n",
       "      <th>rating_numerator</th>\n",
       "      <th>rating_denominator</th>\n",
       "      <th>name</th>\n",
       "      <th>doggo</th>\n",
       "      <th>floofer</th>\n",
       "      <th>pupper</th>\n",
       "      <th>puppo</th>\n",
       "    </tr>\n",
       "    <tr>\n",
       "      <th>tweet_id</th>\n",
       "      <th></th>\n",
       "      <th></th>\n",
       "      <th></th>\n",
       "      <th></th>\n",
       "      <th></th>\n",
       "      <th></th>\n",
       "      <th></th>\n",
       "      <th></th>\n",
       "      <th></th>\n",
       "      <th></th>\n",
       "      <th></th>\n",
       "      <th></th>\n",
       "      <th></th>\n",
       "      <th></th>\n",
       "      <th></th>\n",
       "      <th></th>\n",
       "    </tr>\n",
       "  </thead>\n",
       "  <tbody>\n",
       "    <tr>\n",
       "      <th>667550904950915073</th>\n",
       "      <td>0</td>\n",
       "      <td>0</td>\n",
       "      <td>2015-11-20 03:51:52+00:00</td>\n",
       "      <td>&lt;a href=\"http://twitter.com\" rel=\"nofollow\"&gt;Tw...</td>\n",
       "      <td>RT @dogratingrating: Exceptional talent. Origi...</td>\n",
       "      <td>667548695664070656</td>\n",
       "      <td>4296831739</td>\n",
       "      <td>2015-11-20 03:43:06+00:00</td>\n",
       "      <td>https://twitter.com/dogratingrating/status/667...</td>\n",
       "      <td>12</td>\n",
       "      <td>10</td>\n",
       "      <td>None</td>\n",
       "      <td>None</td>\n",
       "      <td>None</td>\n",
       "      <td>None</td>\n",
       "      <td>None</td>\n",
       "    </tr>\n",
       "    <tr>\n",
       "      <th>667550882905632768</th>\n",
       "      <td>0</td>\n",
       "      <td>0</td>\n",
       "      <td>2015-11-20 03:51:47+00:00</td>\n",
       "      <td>&lt;a href=\"http://twitter.com\" rel=\"nofollow\"&gt;Tw...</td>\n",
       "      <td>RT @dogratingrating: Unoriginal idea. Blatant ...</td>\n",
       "      <td>667548415174144000</td>\n",
       "      <td>4296831739</td>\n",
       "      <td>2015-11-20 03:41:59+00:00</td>\n",
       "      <td>https://twitter.com/dogratingrating/status/667...</td>\n",
       "      <td>5</td>\n",
       "      <td>10</td>\n",
       "      <td>None</td>\n",
       "      <td>None</td>\n",
       "      <td>None</td>\n",
       "      <td>None</td>\n",
       "      <td>None</td>\n",
       "    </tr>\n",
       "  </tbody>\n",
       "</table>\n",
       "</div>"
      ],
      "text/plain": [
       "                    in_reply_to_status_id  in_reply_to_user_id  \\\n",
       "tweet_id                                                         \n",
       "667550904950915073                      0                    0   \n",
       "667550882905632768                      0                    0   \n",
       "\n",
       "                                   timestamp  \\\n",
       "tweet_id                                       \n",
       "667550904950915073 2015-11-20 03:51:52+00:00   \n",
       "667550882905632768 2015-11-20 03:51:47+00:00   \n",
       "\n",
       "                                                               source  \\\n",
       "tweet_id                                                                \n",
       "667550904950915073  <a href=\"http://twitter.com\" rel=\"nofollow\">Tw...   \n",
       "667550882905632768  <a href=\"http://twitter.com\" rel=\"nofollow\">Tw...   \n",
       "\n",
       "                                                                 text  \\\n",
       "tweet_id                                                                \n",
       "667550904950915073  RT @dogratingrating: Exceptional talent. Origi...   \n",
       "667550882905632768  RT @dogratingrating: Unoriginal idea. Blatant ...   \n",
       "\n",
       "                    retweeted_status_id  retweeted_status_user_id  \\\n",
       "tweet_id                                                            \n",
       "667550904950915073   667548695664070656                4296831739   \n",
       "667550882905632768   667548415174144000                4296831739   \n",
       "\n",
       "                   retweeted_status_timestamp  \\\n",
       "tweet_id                                        \n",
       "667550904950915073  2015-11-20 03:43:06+00:00   \n",
       "667550882905632768  2015-11-20 03:41:59+00:00   \n",
       "\n",
       "                                                        expanded_urls  \\\n",
       "tweet_id                                                                \n",
       "667550904950915073  https://twitter.com/dogratingrating/status/667...   \n",
       "667550882905632768  https://twitter.com/dogratingrating/status/667...   \n",
       "\n",
       "                    rating_numerator  rating_denominator  name doggo floofer  \\\n",
       "tweet_id                                                                       \n",
       "667550904950915073                12                  10  None  None    None   \n",
       "667550882905632768                 5                  10  None  None    None   \n",
       "\n",
       "                   pupper puppo  \n",
       "tweet_id                         \n",
       "667550904950915073   None  None  \n",
       "667550882905632768   None  None  "
      ]
     },
     "execution_count": 63,
     "metadata": {},
     "output_type": "execute_result"
    }
   ],
   "source": [
    "df_temp_archive = df_archive[df_archive['retweeted_status_id'] != 0]\n",
    "#df_temp_archive = df_temp_archive[~df_archive['in_reply_to_status_id'].isnull()]\n",
    "df_temp_archive.tail(2)"
   ]
  },
  {
   "cell_type": "code",
   "execution_count": 64,
   "metadata": {},
   "outputs": [
    {
     "name": "stdout",
     "output_type": "stream",
     "text": [
      "0\n",
      "0\n",
      "667548695664070656\n",
      "4296831739\n",
      "RT @dogratingrating: Exceptional talent. Original humor. Cutting edge, Nova Scotian comedian. 12/10 https://t.co/uarnTjBeVA\n",
      "https://twitter.com/dogratingrating/status/667548695664070656/photo/1,https://twitter.com/dogratingrating/status/667548695664070656/photo/1\n",
      "---------------------------------------------------------------------------------\n",
      "0\n",
      "0\n",
      "667548415174144000\n",
      "4296831739\n",
      "RT @dogratingrating: Unoriginal idea. Blatant plagiarism. Curious grammar. -5/10 https://t.co/r7XzeQZWzb\n",
      "https://twitter.com/dogratingrating/status/667548415174144001/photo/1,https://twitter.com/dogratingrating/status/667548415174144001/photo/1\n"
     ]
    }
   ],
   "source": [
    "#https://twitter.com/dog_rates/status/671561002136281088\n",
    "print(df_temp_archive.loc[667550904950915073].in_reply_to_status_id)\n",
    "print(df_temp_archive.loc[667550904950915073].in_reply_to_user_id)\n",
    "print(df_temp_archive.loc[667550904950915073].retweeted_status_id)\n",
    "print(df_temp_archive.loc[667550904950915073].retweeted_status_user_id)\n",
    "print(df_temp_archive.loc[667550904950915073].text)\n",
    "print(df_temp_archive.loc[667550904950915073].expanded_urls)\n",
    "print('---------------------------------------------------------------------------------')\n",
    "print(df_temp_archive.loc[667550882905632768].in_reply_to_status_id)\n",
    "print(df_temp_archive.loc[667550882905632768].in_reply_to_user_id)\n",
    "print(df_temp_archive.loc[667550882905632768].retweeted_status_id)\n",
    "print(df_temp_archive.loc[667550882905632768].retweeted_status_user_id)\n",
    "print(df_temp_archive.loc[667550882905632768].text)\n",
    "print(df_temp_archive.loc[667550882905632768].expanded_urls)"
   ]
  },
  {
   "cell_type": "markdown",
   "metadata": {},
   "source": [
    "* Tweets with 'retweeted_status_id' != 0 are actually retweets.\n",
    "\n",
    "<span style=\"color:blue\">\n",
    "\n",
    "* Since we only want original tweets in our final data set, **tweets with 'retweeted_status_id' != 0 should be removed.**\n",
    "</span>\n",
    "\n",
    "  * Once those tweets have been removed, the remaining values for 'retweeted_status_id', 'retweeted_status_user_id', and 'retweeted_status_timestamp' will all be zero or null.\n",
    "\n",
    "<span style=\"color:blue\">\n",
    "\n",
    "* Therefore, after retweets have been removed, **columns 'retweeted_status_id', 'retweeted_status_user_id', and 'retweeted_status_timestamp' should be dropped**\n",
    "</span>"
   ]
  },
  {
   "cell_type": "markdown",
   "metadata": {},
   "source": [
    "**Now explore 'in_reply_to_status_id'**"
   ]
  },
  {
   "cell_type": "code",
   "execution_count": 65,
   "metadata": {},
   "outputs": [
    {
     "name": "stdout",
     "output_type": "stream",
     "text": [
      "<class 'pandas.core.frame.DataFrame'>\n",
      "Int64Index: 2060 entries, 892420643555336193 to 666020888022790149\n",
      "Data columns (total 16 columns):\n",
      "in_reply_to_status_id         2060 non-null int64\n",
      "in_reply_to_user_id           2060 non-null int64\n",
      "timestamp                     2060 non-null datetime64[ns, UTC]\n",
      "source                        2060 non-null object\n",
      "text                          2060 non-null object\n",
      "retweeted_status_id           2060 non-null int64\n",
      "retweeted_status_user_id      2060 non-null int64\n",
      "retweeted_status_timestamp    74 non-null datetime64[ns, UTC]\n",
      "expanded_urls                 2060 non-null object\n",
      "rating_numerator              2060 non-null int64\n",
      "rating_denominator            2060 non-null int64\n",
      "name                          2060 non-null object\n",
      "doggo                         2060 non-null object\n",
      "floofer                       2060 non-null object\n",
      "pupper                        2060 non-null object\n",
      "puppo                         2060 non-null object\n",
      "dtypes: datetime64[ns, UTC](2), int64(6), object(8)\n",
      "memory usage: 353.6+ KB\n"
     ]
    }
   ],
   "source": [
    "df_archive.info()"
   ]
  },
  {
   "cell_type": "code",
   "execution_count": 66,
   "metadata": {},
   "outputs": [
    {
     "data": {
      "text/html": [
       "<div>\n",
       "<style scoped>\n",
       "    .dataframe tbody tr th:only-of-type {\n",
       "        vertical-align: middle;\n",
       "    }\n",
       "\n",
       "    .dataframe tbody tr th {\n",
       "        vertical-align: top;\n",
       "    }\n",
       "\n",
       "    .dataframe thead th {\n",
       "        text-align: right;\n",
       "    }\n",
       "</style>\n",
       "<table border=\"1\" class=\"dataframe\">\n",
       "  <thead>\n",
       "    <tr style=\"text-align: right;\">\n",
       "      <th></th>\n",
       "      <th>in_reply_to_status_id</th>\n",
       "      <th>in_reply_to_user_id</th>\n",
       "      <th>timestamp</th>\n",
       "      <th>source</th>\n",
       "      <th>text</th>\n",
       "      <th>retweeted_status_id</th>\n",
       "      <th>retweeted_status_user_id</th>\n",
       "      <th>retweeted_status_timestamp</th>\n",
       "      <th>expanded_urls</th>\n",
       "      <th>rating_numerator</th>\n",
       "      <th>rating_denominator</th>\n",
       "      <th>name</th>\n",
       "      <th>doggo</th>\n",
       "      <th>floofer</th>\n",
       "      <th>pupper</th>\n",
       "      <th>puppo</th>\n",
       "    </tr>\n",
       "    <tr>\n",
       "      <th>tweet_id</th>\n",
       "      <th></th>\n",
       "      <th></th>\n",
       "      <th></th>\n",
       "      <th></th>\n",
       "      <th></th>\n",
       "      <th></th>\n",
       "      <th></th>\n",
       "      <th></th>\n",
       "      <th></th>\n",
       "      <th></th>\n",
       "      <th></th>\n",
       "      <th></th>\n",
       "      <th></th>\n",
       "      <th></th>\n",
       "      <th></th>\n",
       "      <th></th>\n",
       "    </tr>\n",
       "  </thead>\n",
       "  <tbody>\n",
       "    <tr>\n",
       "      <th>671729906628341761</th>\n",
       "      <td>671561002136281088</td>\n",
       "      <td>4196983835</td>\n",
       "      <td>2015-12-01 16:37:44+00:00</td>\n",
       "      <td>&lt;a href=\"http://twitter.com/download/iphone\" r...</td>\n",
       "      <td>I'm just going to leave this one here as well....</td>\n",
       "      <td>0</td>\n",
       "      <td>0</td>\n",
       "      <td>NaT</td>\n",
       "      <td>https://twitter.com/dog_rates/status/671729906...</td>\n",
       "      <td>13</td>\n",
       "      <td>10</td>\n",
       "      <td>None</td>\n",
       "      <td>None</td>\n",
       "      <td>None</td>\n",
       "      <td>None</td>\n",
       "      <td>None</td>\n",
       "    </tr>\n",
       "    <tr>\n",
       "      <th>669353438988365824</th>\n",
       "      <td>667806454573760512</td>\n",
       "      <td>4196983835</td>\n",
       "      <td>2015-11-25 03:14:30+00:00</td>\n",
       "      <td>&lt;a href=\"http://twitter.com/download/iphone\" r...</td>\n",
       "      <td>This is Tessa. She is also very pleased after ...</td>\n",
       "      <td>0</td>\n",
       "      <td>0</td>\n",
       "      <td>NaT</td>\n",
       "      <td>https://twitter.com/dog_rates/status/669353438...</td>\n",
       "      <td>10</td>\n",
       "      <td>10</td>\n",
       "      <td>Tessa</td>\n",
       "      <td>None</td>\n",
       "      <td>None</td>\n",
       "      <td>None</td>\n",
       "      <td>None</td>\n",
       "    </tr>\n",
       "  </tbody>\n",
       "</table>\n",
       "</div>"
      ],
      "text/plain": [
       "                    in_reply_to_status_id  in_reply_to_user_id  \\\n",
       "tweet_id                                                         \n",
       "671729906628341761     671561002136281088           4196983835   \n",
       "669353438988365824     667806454573760512           4196983835   \n",
       "\n",
       "                                   timestamp  \\\n",
       "tweet_id                                       \n",
       "671729906628341761 2015-12-01 16:37:44+00:00   \n",
       "669353438988365824 2015-11-25 03:14:30+00:00   \n",
       "\n",
       "                                                               source  \\\n",
       "tweet_id                                                                \n",
       "671729906628341761  <a href=\"http://twitter.com/download/iphone\" r...   \n",
       "669353438988365824  <a href=\"http://twitter.com/download/iphone\" r...   \n",
       "\n",
       "                                                                 text  \\\n",
       "tweet_id                                                                \n",
       "671729906628341761  I'm just going to leave this one here as well....   \n",
       "669353438988365824  This is Tessa. She is also very pleased after ...   \n",
       "\n",
       "                    retweeted_status_id  retweeted_status_user_id  \\\n",
       "tweet_id                                                            \n",
       "671729906628341761                    0                         0   \n",
       "669353438988365824                    0                         0   \n",
       "\n",
       "                   retweeted_status_timestamp  \\\n",
       "tweet_id                                        \n",
       "671729906628341761                        NaT   \n",
       "669353438988365824                        NaT   \n",
       "\n",
       "                                                        expanded_urls  \\\n",
       "tweet_id                                                                \n",
       "671729906628341761  https://twitter.com/dog_rates/status/671729906...   \n",
       "669353438988365824  https://twitter.com/dog_rates/status/669353438...   \n",
       "\n",
       "                    rating_numerator  rating_denominator   name doggo floofer  \\\n",
       "tweet_id                                                                        \n",
       "671729906628341761                13                  10   None  None    None   \n",
       "669353438988365824                10                  10  Tessa  None    None   \n",
       "\n",
       "                   pupper puppo  \n",
       "tweet_id                         \n",
       "671729906628341761   None  None  \n",
       "669353438988365824   None  None  "
      ]
     },
     "execution_count": 66,
     "metadata": {},
     "output_type": "execute_result"
    }
   ],
   "source": [
    "df_temp_archive = df_archive[df_archive['in_reply_to_status_id'] != 0]\n",
    "df_temp_archive.tail(2)"
   ]
  },
  {
   "cell_type": "code",
   "execution_count": 67,
   "metadata": {},
   "outputs": [
    {
     "name": "stdout",
     "output_type": "stream",
     "text": [
      "671561002136281088\n",
      "4196983835\n",
      "0\n",
      "0\n",
      "I'm just going to leave this one here as well. 13/10 https://t.co/DaD5SyajWt\n",
      "https://twitter.com/dog_rates/status/671729906628341761/photo/1\n",
      "---------------------------------------------------------------------------------\n",
      "667806454573760512\n",
      "4196983835\n",
      "0\n",
      "0\n",
      "This is Tessa. She is also very pleased after finally meeting her biological father. 10/10 https://t.co/qDS1aCqppv\n",
      "https://twitter.com/dog_rates/status/669353438988365824/photo/1\n"
     ]
    }
   ],
   "source": [
    "print(df_temp_archive.loc[671729906628341761].in_reply_to_status_id)\n",
    "print(df_temp_archive.loc[671729906628341761].in_reply_to_user_id)\n",
    "print(df_temp_archive.loc[671729906628341761].retweeted_status_id)\n",
    "print(df_temp_archive.loc[671729906628341761].retweeted_status_user_id)\n",
    "print(df_temp_archive.loc[671729906628341761].text)\n",
    "print(df_temp_archive.loc[671729906628341761].expanded_urls)\n",
    "print('---------------------------------------------------------------------------------')\n",
    "print(df_temp_archive.loc[669353438988365824].in_reply_to_status_id)\n",
    "print(df_temp_archive.loc[669353438988365824].in_reply_to_user_id)\n",
    "print(df_temp_archive.loc[669353438988365824].retweeted_status_id)\n",
    "print(df_temp_archive.loc[669353438988365824].retweeted_status_user_id)\n",
    "print(df_temp_archive.loc[669353438988365824].text)\n",
    "print(df_temp_archive.loc[669353438988365824].expanded_urls)"
   ]
  },
  {
   "cell_type": "code",
   "execution_count": 68,
   "metadata": {},
   "outputs": [
    {
     "data": {
      "text/plain": [
       "in_reply_to_user_id\n",
       "4196983835    22\n",
       "Name: in_reply_to_user_id, dtype: int64"
      ]
     },
     "execution_count": 68,
     "metadata": {},
     "output_type": "execute_result"
    }
   ],
   "source": [
    "df_temp_archive.groupby('in_reply_to_user_id').in_reply_to_user_id.count()"
   ]
  },
  {
   "cell_type": "markdown",
   "metadata": {},
   "source": [
    "* Tweets with 'in_reply_to_user_id' != 0 are tweets where the WeRateDogs account has replied to one of its own tweets with a new image, rating, etc.\n",
    "* Since these tweets contain a new dog image and rating, they are valid to keep"
   ]
  },
  {
   "cell_type": "markdown",
   "metadata": {},
   "source": [
    "<a id='clean_retweets'></a>\n",
    "([Top of Page](#top_of_page))\n",
    "### Define\n",
    "tweets with 'retweeted_status_id' != 0 should be removed, since they are retweets and we only want original tweets for this analysis"
   ]
  },
  {
   "cell_type": "markdown",
   "metadata": {},
   "source": [
    "### Code"
   ]
  },
  {
   "cell_type": "code",
   "execution_count": 69,
   "metadata": {},
   "outputs": [
    {
     "name": "stdout",
     "output_type": "stream",
     "text": [
      "current # of tweets:   2060\n",
      "current # of retweets: 74\n"
     ]
    }
   ],
   "source": [
    "# current metrics\n",
    "print('current # of tweets:   ' + str(df_archive.text.count()))\n",
    "print('current # of retweets: ' + str(df_archive[df_archive['retweeted_status_id'] != 0].retweeted_status_id.count()))"
   ]
  },
  {
   "cell_type": "code",
   "execution_count": 70,
   "metadata": {},
   "outputs": [],
   "source": [
    "df_archive = df_archive[df_archive['retweeted_status_id'] == 0]"
   ]
  },
  {
   "cell_type": "markdown",
   "metadata": {},
   "source": [
    "### Test"
   ]
  },
  {
   "cell_type": "code",
   "execution_count": 71,
   "metadata": {},
   "outputs": [
    {
     "name": "stdout",
     "output_type": "stream",
     "text": [
      "current # of tweets:   1986\n",
      "current # of retweets: 0\n"
     ]
    }
   ],
   "source": [
    "# updated metrics\n",
    "print('current # of tweets:   ' + str(df_archive.text.count()))\n",
    "print('current # of retweets: ' + str(df_archive[df_archive['retweeted_status_id'] != 0].retweeted_status_id.count()))"
   ]
  },
  {
   "cell_type": "markdown",
   "metadata": {},
   "source": [
    "The 74 retweets have been successfully removed"
   ]
  },
  {
   "cell_type": "markdown",
   "metadata": {},
   "source": [
    "<a id='clean_int64_JSON_data'></a>\n",
    "([Top of Page](#top_of_page))\n",
    "### Define\n",
    "* In **df_tweetInfo**, 'tweet_id' should have type 'int64' for consistency across the dataframes."
   ]
  },
  {
   "cell_type": "markdown",
   "metadata": {},
   "source": [
    "### Code"
   ]
  },
  {
   "cell_type": "code",
   "execution_count": 72,
   "metadata": {},
   "outputs": [
    {
     "name": "stdout",
     "output_type": "stream",
     "text": [
      "<class 'pandas.core.frame.DataFrame'>\n",
      "RangeIndex: 2062 entries, 0 to 2061\n",
      "Data columns (total 3 columns):\n",
      "tweet_id          2062 non-null object\n",
      "retweet_count     2062 non-null object\n",
      "favorite_count    2062 non-null object\n",
      "dtypes: object(3)\n",
      "memory usage: 48.4+ KB\n"
     ]
    }
   ],
   "source": [
    "df_tweetInfo.info()"
   ]
  },
  {
   "cell_type": "code",
   "execution_count": 73,
   "metadata": {},
   "outputs": [],
   "source": [
    "df_tweetInfo['tweet_id'] = df_tweetInfo['tweet_id'].astype(np.int64)"
   ]
  },
  {
   "cell_type": "markdown",
   "metadata": {},
   "source": [
    "### Test"
   ]
  },
  {
   "cell_type": "code",
   "execution_count": 74,
   "metadata": {},
   "outputs": [
    {
     "name": "stdout",
     "output_type": "stream",
     "text": [
      "<class 'pandas.core.frame.DataFrame'>\n",
      "RangeIndex: 2062 entries, 0 to 2061\n",
      "Data columns (total 3 columns):\n",
      "tweet_id          2062 non-null int64\n",
      "retweet_count     2062 non-null object\n",
      "favorite_count    2062 non-null object\n",
      "dtypes: int64(1), object(2)\n",
      "memory usage: 48.4+ KB\n"
     ]
    }
   ],
   "source": [
    "df_tweetInfo.info()"
   ]
  },
  {
   "cell_type": "code",
   "execution_count": 75,
   "metadata": {},
   "outputs": [
    {
     "data": {
      "text/html": [
       "<div>\n",
       "<style scoped>\n",
       "    .dataframe tbody tr th:only-of-type {\n",
       "        vertical-align: middle;\n",
       "    }\n",
       "\n",
       "    .dataframe tbody tr th {\n",
       "        vertical-align: top;\n",
       "    }\n",
       "\n",
       "    .dataframe thead th {\n",
       "        text-align: right;\n",
       "    }\n",
       "</style>\n",
       "<table border=\"1\" class=\"dataframe\">\n",
       "  <thead>\n",
       "    <tr style=\"text-align: right;\">\n",
       "      <th></th>\n",
       "      <th>tweet_id</th>\n",
       "      <th>retweet_count</th>\n",
       "      <th>favorite_count</th>\n",
       "    </tr>\n",
       "  </thead>\n",
       "  <tbody>\n",
       "    <tr>\n",
       "      <th>0</th>\n",
       "      <td>892420643555336193</td>\n",
       "      <td>8159</td>\n",
       "      <td>37468</td>\n",
       "    </tr>\n",
       "    <tr>\n",
       "      <th>1</th>\n",
       "      <td>892177421306343426</td>\n",
       "      <td>6039</td>\n",
       "      <td>32198</td>\n",
       "    </tr>\n",
       "    <tr>\n",
       "      <th>2</th>\n",
       "      <td>891815181378084864</td>\n",
       "      <td>3997</td>\n",
       "      <td>24271</td>\n",
       "    </tr>\n",
       "    <tr>\n",
       "      <th>3</th>\n",
       "      <td>891689557279858688</td>\n",
       "      <td>8304</td>\n",
       "      <td>40780</td>\n",
       "    </tr>\n",
       "    <tr>\n",
       "      <th>4</th>\n",
       "      <td>891327558926688256</td>\n",
       "      <td>9007</td>\n",
       "      <td>39001</td>\n",
       "    </tr>\n",
       "  </tbody>\n",
       "</table>\n",
       "</div>"
      ],
      "text/plain": [
       "             tweet_id retweet_count favorite_count\n",
       "0  892420643555336193          8159          37468\n",
       "1  892177421306343426          6039          32198\n",
       "2  891815181378084864          3997          24271\n",
       "3  891689557279858688          8304          40780\n",
       "4  891327558926688256          9007          39001"
      ]
     },
     "execution_count": 75,
     "metadata": {},
     "output_type": "execute_result"
    }
   ],
   "source": [
    "df_tweetInfo.head()"
   ]
  },
  {
   "cell_type": "markdown",
   "metadata": {},
   "source": [
    "<a id='clean_number_of_dog_stages'></a>\n",
    "([Top of Page](#top_of_page))\n",
    "### Define\n",
    "\n",
    "* Add a 'none' column to **df_archive** for tweets that do not have a dog stage\n",
    "* In **df_archive**, make sure all tweets have only one dog stage"
   ]
  },
  {
   "cell_type": "markdown",
   "metadata": {},
   "source": [
    "### Code"
   ]
  },
  {
   "cell_type": "code",
   "execution_count": 76,
   "metadata": {},
   "outputs": [
    {
     "name": "stdout",
     "output_type": "stream",
     "text": [
      "# of tweets w/ multiple dog stage values: 11\n",
      "# of tweets w/ a single dog stage value:  294\n",
      "# of tweets w/ no dog stage value:        1681\n"
     ]
    }
   ],
   "source": [
    "#df_temp_archive = df_archive.copy(deep=True)\n",
    "\n",
    "# replace stage entries with 1's and 0's\n",
    "df_archive.doggo = df_archive.doggo.replace('None', 0)\n",
    "df_archive.doggo = df_archive.doggo.replace('doggo', 1)\n",
    "df_archive.floofer = df_archive.floofer.replace('None', 0)\n",
    "df_archive.floofer = df_archive.floofer.replace('floofer', 1)\n",
    "df_archive.pupper = df_archive.pupper.replace('None', 0)\n",
    "df_archive.pupper = df_archive.pupper.replace('pupper', 1)\n",
    "df_archive.puppo = df_archive.puppo.replace('None', 0)\n",
    "df_archive.puppo = df_archive.puppo.replace('puppo', 1)\n",
    "\n",
    "df_archive['none'] = 1 - (df_archive.doggo + \n",
    "                               df_archive.floofer + \n",
    "                               df_archive.pupper + \n",
    "                               df_archive.puppo)\n",
    "\n",
    "print('# of tweets w/ multiple dog stage values: ' + str(df_archive[df_archive.none == -1].none.count()))\n",
    "print('# of tweets w/ a single dog stage value:  ' + str(df_archive[df_archive.none == 0].none.count()))\n",
    "print('# of tweets w/ no dog stage value:        ' + str(df_archive[df_archive.none == 1].none.count()))\n",
    "\n",
    "df_archive = df_archive[df_archive.none != -1]"
   ]
  },
  {
   "cell_type": "markdown",
   "metadata": {},
   "source": [
    "### Test"
   ]
  },
  {
   "cell_type": "code",
   "execution_count": 77,
   "metadata": {},
   "outputs": [
    {
     "name": "stdout",
     "output_type": "stream",
     "text": [
      "# of tweets w/ multiple dog stage values: 0\n",
      "# of tweets w/ no dog stage value:        294\n",
      "# of tweets w/ a single dog stage value:  1681\n"
     ]
    }
   ],
   "source": [
    "print('# of tweets w/ multiple dog stage values: ' + str(df_archive[df_archive.none == -1].none.count()))\n",
    "print('# of tweets w/ no dog stage value:        ' + str(df_archive[df_archive.none == 0].none.count()))\n",
    "print('# of tweets w/ a single dog stage value:  ' + str(df_archive[df_archive.none == 1].none.count()))"
   ]
  },
  {
   "cell_type": "code",
   "execution_count": 78,
   "metadata": {},
   "outputs": [
    {
     "data": {
      "text/html": [
       "<div>\n",
       "<style scoped>\n",
       "    .dataframe tbody tr th:only-of-type {\n",
       "        vertical-align: middle;\n",
       "    }\n",
       "\n",
       "    .dataframe tbody tr th {\n",
       "        vertical-align: top;\n",
       "    }\n",
       "\n",
       "    .dataframe thead th {\n",
       "        text-align: right;\n",
       "    }\n",
       "</style>\n",
       "<table border=\"1\" class=\"dataframe\">\n",
       "  <thead>\n",
       "    <tr style=\"text-align: right;\">\n",
       "      <th></th>\n",
       "      <th>in_reply_to_status_id</th>\n",
       "      <th>in_reply_to_user_id</th>\n",
       "      <th>timestamp</th>\n",
       "      <th>source</th>\n",
       "      <th>text</th>\n",
       "      <th>retweeted_status_id</th>\n",
       "      <th>retweeted_status_user_id</th>\n",
       "      <th>retweeted_status_timestamp</th>\n",
       "      <th>expanded_urls</th>\n",
       "      <th>rating_numerator</th>\n",
       "      <th>rating_denominator</th>\n",
       "      <th>name</th>\n",
       "      <th>doggo</th>\n",
       "      <th>floofer</th>\n",
       "      <th>pupper</th>\n",
       "      <th>puppo</th>\n",
       "      <th>none</th>\n",
       "    </tr>\n",
       "    <tr>\n",
       "      <th>tweet_id</th>\n",
       "      <th></th>\n",
       "      <th></th>\n",
       "      <th></th>\n",
       "      <th></th>\n",
       "      <th></th>\n",
       "      <th></th>\n",
       "      <th></th>\n",
       "      <th></th>\n",
       "      <th></th>\n",
       "      <th></th>\n",
       "      <th></th>\n",
       "      <th></th>\n",
       "      <th></th>\n",
       "      <th></th>\n",
       "      <th></th>\n",
       "      <th></th>\n",
       "      <th></th>\n",
       "    </tr>\n",
       "  </thead>\n",
       "  <tbody>\n",
       "    <tr>\n",
       "      <th>892420643555336193</th>\n",
       "      <td>0</td>\n",
       "      <td>0</td>\n",
       "      <td>2017-08-01 16:23:56+00:00</td>\n",
       "      <td>&lt;a href=\"http://twitter.com/download/iphone\" r...</td>\n",
       "      <td>This is Phineas. He's a mystical boy. Only eve...</td>\n",
       "      <td>0</td>\n",
       "      <td>0</td>\n",
       "      <td>NaT</td>\n",
       "      <td>https://twitter.com/dog_rates/status/892420643...</td>\n",
       "      <td>13</td>\n",
       "      <td>10</td>\n",
       "      <td>Phineas</td>\n",
       "      <td>0</td>\n",
       "      <td>0</td>\n",
       "      <td>0</td>\n",
       "      <td>0</td>\n",
       "      <td>1</td>\n",
       "    </tr>\n",
       "    <tr>\n",
       "      <th>892177421306343426</th>\n",
       "      <td>0</td>\n",
       "      <td>0</td>\n",
       "      <td>2017-08-01 00:17:27+00:00</td>\n",
       "      <td>&lt;a href=\"http://twitter.com/download/iphone\" r...</td>\n",
       "      <td>This is Tilly. She's just checking pup on you....</td>\n",
       "      <td>0</td>\n",
       "      <td>0</td>\n",
       "      <td>NaT</td>\n",
       "      <td>https://twitter.com/dog_rates/status/892177421...</td>\n",
       "      <td>13</td>\n",
       "      <td>10</td>\n",
       "      <td>Tilly</td>\n",
       "      <td>0</td>\n",
       "      <td>0</td>\n",
       "      <td>0</td>\n",
       "      <td>0</td>\n",
       "      <td>1</td>\n",
       "    </tr>\n",
       "    <tr>\n",
       "      <th>891815181378084864</th>\n",
       "      <td>0</td>\n",
       "      <td>0</td>\n",
       "      <td>2017-07-31 00:18:03+00:00</td>\n",
       "      <td>&lt;a href=\"http://twitter.com/download/iphone\" r...</td>\n",
       "      <td>This is Archie. He is a rare Norwegian Pouncin...</td>\n",
       "      <td>0</td>\n",
       "      <td>0</td>\n",
       "      <td>NaT</td>\n",
       "      <td>https://twitter.com/dog_rates/status/891815181...</td>\n",
       "      <td>12</td>\n",
       "      <td>10</td>\n",
       "      <td>Archie</td>\n",
       "      <td>0</td>\n",
       "      <td>0</td>\n",
       "      <td>0</td>\n",
       "      <td>0</td>\n",
       "      <td>1</td>\n",
       "    </tr>\n",
       "    <tr>\n",
       "      <th>891689557279858688</th>\n",
       "      <td>0</td>\n",
       "      <td>0</td>\n",
       "      <td>2017-07-30 15:58:51+00:00</td>\n",
       "      <td>&lt;a href=\"http://twitter.com/download/iphone\" r...</td>\n",
       "      <td>This is Darla. She commenced a snooze mid meal...</td>\n",
       "      <td>0</td>\n",
       "      <td>0</td>\n",
       "      <td>NaT</td>\n",
       "      <td>https://twitter.com/dog_rates/status/891689557...</td>\n",
       "      <td>13</td>\n",
       "      <td>10</td>\n",
       "      <td>Darla</td>\n",
       "      <td>0</td>\n",
       "      <td>0</td>\n",
       "      <td>0</td>\n",
       "      <td>0</td>\n",
       "      <td>1</td>\n",
       "    </tr>\n",
       "    <tr>\n",
       "      <th>891327558926688256</th>\n",
       "      <td>0</td>\n",
       "      <td>0</td>\n",
       "      <td>2017-07-29 16:00:24+00:00</td>\n",
       "      <td>&lt;a href=\"http://twitter.com/download/iphone\" r...</td>\n",
       "      <td>This is Franklin. He would like you to stop ca...</td>\n",
       "      <td>0</td>\n",
       "      <td>0</td>\n",
       "      <td>NaT</td>\n",
       "      <td>https://twitter.com/dog_rates/status/891327558...</td>\n",
       "      <td>12</td>\n",
       "      <td>10</td>\n",
       "      <td>Franklin</td>\n",
       "      <td>0</td>\n",
       "      <td>0</td>\n",
       "      <td>0</td>\n",
       "      <td>0</td>\n",
       "      <td>1</td>\n",
       "    </tr>\n",
       "  </tbody>\n",
       "</table>\n",
       "</div>"
      ],
      "text/plain": [
       "                    in_reply_to_status_id  in_reply_to_user_id  \\\n",
       "tweet_id                                                         \n",
       "892420643555336193                      0                    0   \n",
       "892177421306343426                      0                    0   \n",
       "891815181378084864                      0                    0   \n",
       "891689557279858688                      0                    0   \n",
       "891327558926688256                      0                    0   \n",
       "\n",
       "                                   timestamp  \\\n",
       "tweet_id                                       \n",
       "892420643555336193 2017-08-01 16:23:56+00:00   \n",
       "892177421306343426 2017-08-01 00:17:27+00:00   \n",
       "891815181378084864 2017-07-31 00:18:03+00:00   \n",
       "891689557279858688 2017-07-30 15:58:51+00:00   \n",
       "891327558926688256 2017-07-29 16:00:24+00:00   \n",
       "\n",
       "                                                               source  \\\n",
       "tweet_id                                                                \n",
       "892420643555336193  <a href=\"http://twitter.com/download/iphone\" r...   \n",
       "892177421306343426  <a href=\"http://twitter.com/download/iphone\" r...   \n",
       "891815181378084864  <a href=\"http://twitter.com/download/iphone\" r...   \n",
       "891689557279858688  <a href=\"http://twitter.com/download/iphone\" r...   \n",
       "891327558926688256  <a href=\"http://twitter.com/download/iphone\" r...   \n",
       "\n",
       "                                                                 text  \\\n",
       "tweet_id                                                                \n",
       "892420643555336193  This is Phineas. He's a mystical boy. Only eve...   \n",
       "892177421306343426  This is Tilly. She's just checking pup on you....   \n",
       "891815181378084864  This is Archie. He is a rare Norwegian Pouncin...   \n",
       "891689557279858688  This is Darla. She commenced a snooze mid meal...   \n",
       "891327558926688256  This is Franklin. He would like you to stop ca...   \n",
       "\n",
       "                    retweeted_status_id  retweeted_status_user_id  \\\n",
       "tweet_id                                                            \n",
       "892420643555336193                    0                         0   \n",
       "892177421306343426                    0                         0   \n",
       "891815181378084864                    0                         0   \n",
       "891689557279858688                    0                         0   \n",
       "891327558926688256                    0                         0   \n",
       "\n",
       "                   retweeted_status_timestamp  \\\n",
       "tweet_id                                        \n",
       "892420643555336193                        NaT   \n",
       "892177421306343426                        NaT   \n",
       "891815181378084864                        NaT   \n",
       "891689557279858688                        NaT   \n",
       "891327558926688256                        NaT   \n",
       "\n",
       "                                                        expanded_urls  \\\n",
       "tweet_id                                                                \n",
       "892420643555336193  https://twitter.com/dog_rates/status/892420643...   \n",
       "892177421306343426  https://twitter.com/dog_rates/status/892177421...   \n",
       "891815181378084864  https://twitter.com/dog_rates/status/891815181...   \n",
       "891689557279858688  https://twitter.com/dog_rates/status/891689557...   \n",
       "891327558926688256  https://twitter.com/dog_rates/status/891327558...   \n",
       "\n",
       "                    rating_numerator  rating_denominator      name  doggo  \\\n",
       "tweet_id                                                                    \n",
       "892420643555336193                13                  10   Phineas      0   \n",
       "892177421306343426                13                  10     Tilly      0   \n",
       "891815181378084864                12                  10    Archie      0   \n",
       "891689557279858688                13                  10     Darla      0   \n",
       "891327558926688256                12                  10  Franklin      0   \n",
       "\n",
       "                    floofer  pupper  puppo  none  \n",
       "tweet_id                                          \n",
       "892420643555336193        0       0      0     1  \n",
       "892177421306343426        0       0      0     1  \n",
       "891815181378084864        0       0      0     1  \n",
       "891689557279858688        0       0      0     1  \n",
       "891327558926688256        0       0      0     1  "
      ]
     },
     "execution_count": 78,
     "metadata": {},
     "output_type": "execute_result"
    }
   ],
   "source": [
    "df_archive.head()"
   ]
  },
  {
   "cell_type": "markdown",
   "metadata": {},
   "source": [
    "* A 'none' column was added for tweets that do not have a dog stage\n",
    "* Tweets w/ multiple dog stages have been removed"
   ]
  },
  {
   "cell_type": "markdown",
   "metadata": {},
   "source": [
    "<a id='clean_tidiness'></a>\n",
    "([Top of Page](#top_of_page))\n",
    "## Clean - Tidiness"
   ]
  },
  {
   "cell_type": "markdown",
   "metadata": {},
   "source": [
    "<a id='clean_retweet_columns'></a>\n",
    "([Top of Page](#top_of_page))\n",
    "### Define\n",
    "After retweets have been removed, columns 'retweeted_status_id', 'retweeted_status_user_id', and 'retweeted_status_timestamp' should be dropped"
   ]
  },
  {
   "cell_type": "markdown",
   "metadata": {},
   "source": [
    "### Code"
   ]
  },
  {
   "cell_type": "code",
   "execution_count": 79,
   "metadata": {},
   "outputs": [
    {
     "name": "stdout",
     "output_type": "stream",
     "text": [
      "<class 'pandas.core.frame.DataFrame'>\n",
      "Int64Index: 1975 entries, 892420643555336193 to 666020888022790149\n",
      "Data columns (total 17 columns):\n",
      "in_reply_to_status_id         1975 non-null int64\n",
      "in_reply_to_user_id           1975 non-null int64\n",
      "timestamp                     1975 non-null datetime64[ns, UTC]\n",
      "source                        1975 non-null object\n",
      "text                          1975 non-null object\n",
      "retweeted_status_id           1975 non-null int64\n",
      "retweeted_status_user_id      1975 non-null int64\n",
      "retweeted_status_timestamp    0 non-null datetime64[ns, UTC]\n",
      "expanded_urls                 1975 non-null object\n",
      "rating_numerator              1975 non-null int64\n",
      "rating_denominator            1975 non-null int64\n",
      "name                          1975 non-null object\n",
      "doggo                         1975 non-null int64\n",
      "floofer                       1975 non-null int64\n",
      "pupper                        1975 non-null int64\n",
      "puppo                         1975 non-null int64\n",
      "none                          1975 non-null int64\n",
      "dtypes: datetime64[ns, UTC](2), int64(11), object(4)\n",
      "memory usage: 277.7+ KB\n"
     ]
    }
   ],
   "source": [
    "df_archive.info()"
   ]
  },
  {
   "cell_type": "code",
   "execution_count": 80,
   "metadata": {},
   "outputs": [],
   "source": [
    "df_archive.drop('retweeted_status_id', axis=1, inplace=True)\n",
    "df_archive.drop('retweeted_status_user_id', axis=1, inplace=True)\n",
    "df_archive.drop('retweeted_status_timestamp', axis=1, inplace=True)"
   ]
  },
  {
   "cell_type": "markdown",
   "metadata": {},
   "source": [
    "### Test"
   ]
  },
  {
   "cell_type": "code",
   "execution_count": 81,
   "metadata": {},
   "outputs": [
    {
     "name": "stdout",
     "output_type": "stream",
     "text": [
      "<class 'pandas.core.frame.DataFrame'>\n",
      "Int64Index: 1975 entries, 892420643555336193 to 666020888022790149\n",
      "Data columns (total 14 columns):\n",
      "in_reply_to_status_id    1975 non-null int64\n",
      "in_reply_to_user_id      1975 non-null int64\n",
      "timestamp                1975 non-null datetime64[ns, UTC]\n",
      "source                   1975 non-null object\n",
      "text                     1975 non-null object\n",
      "expanded_urls            1975 non-null object\n",
      "rating_numerator         1975 non-null int64\n",
      "rating_denominator       1975 non-null int64\n",
      "name                     1975 non-null object\n",
      "doggo                    1975 non-null int64\n",
      "floofer                  1975 non-null int64\n",
      "pupper                   1975 non-null int64\n",
      "puppo                    1975 non-null int64\n",
      "none                     1975 non-null int64\n",
      "dtypes: datetime64[ns, UTC](1), int64(9), object(4)\n",
      "memory usage: 231.4+ KB\n"
     ]
    }
   ],
   "source": [
    "df_archive.info()"
   ]
  },
  {
   "cell_type": "markdown",
   "metadata": {},
   "source": [
    "The retweeted_status_id', 'retweeted_status_user_id', and 'retweeted_status_timestamp' columns have been successfully droppped from df_archive"
   ]
  },
  {
   "cell_type": "markdown",
   "metadata": {},
   "source": [
    "<a id='clean_dog_categories'></a>\n",
    "([Top of Page](#top_of_page))\n",
    "### Define\n",
    "'doggo', 'floofer', 'pupper', and 'puppo' are categories and should be **combined into a single column**. "
   ]
  },
  {
   "cell_type": "markdown",
   "metadata": {},
   "source": [
    "### Code"
   ]
  },
  {
   "cell_type": "code",
   "execution_count": 82,
   "metadata": {},
   "outputs": [],
   "source": [
    "# create a temporary copy of the df for debugging purposes\n",
    "df_temp_archive = df_archive.copy(deep=True)\n",
    "#df_archive = df_temp_archive.copy(deep=True)"
   ]
  },
  {
   "cell_type": "code",
   "execution_count": 83,
   "metadata": {},
   "outputs": [
    {
     "data": {
      "text/plain": [
       "(1975, 14)"
      ]
     },
     "execution_count": 83,
     "metadata": {},
     "output_type": "execute_result"
    }
   ],
   "source": [
    "df_temp_archive.shape"
   ]
  },
  {
   "cell_type": "code",
   "execution_count": 84,
   "metadata": {},
   "outputs": [
    {
     "name": "stdout",
     "output_type": "stream",
     "text": [
      "df_archive.shape:            \t(1975, 15) \n",
      "\n",
      "all df_archive columns:      \tIndex(['in_reply_to_status_id', 'in_reply_to_user_id', 'timestamp', 'source',\n",
      "       'text', 'expanded_urls', 'rating_numerator', 'rating_denominator',\n",
      "       'name', 'doggo', 'floofer', 'pupper', 'puppo', 'none', 'tweet_id'],\n",
      "      dtype='object') \n",
      "\n",
      "df_archive columns to keep:  \t['in_reply_to_status_id', 'in_reply_to_user_id', 'timestamp', 'source', 'text', 'expanded_urls', 'rating_numerator', 'rating_denominator', 'name', 'tweet_id']\n"
     ]
    }
   ],
   "source": [
    "# save the tweet_id back to a column (so the melt function doesn't delete it)\n",
    "df_archive['tweet_id'] = df_archive.index\n",
    "df_archive.reset_index(drop=True,inplace=True)\n",
    "\n",
    "# indicate which columns have entries that need melted\n",
    "values = ['doggo', 'floofer', 'pupper', 'puppo', 'none']\n",
    "\n",
    "# create a list of all other columns\n",
    "ids = [col for col in list(df_archive.columns) if col not in values]\n",
    "\n",
    "print('df_archive.shape:            \\t' + str(df_archive.shape),   '\\n')\n",
    "print('all df_archive columns:      \\t' + str(df_archive.columns), '\\n')\n",
    "print('df_archive columns to keep:  \\t' + str(ids))"
   ]
  },
  {
   "cell_type": "code",
   "execution_count": 85,
   "metadata": {},
   "outputs": [
    {
     "data": {
      "text/html": [
       "<div>\n",
       "<style scoped>\n",
       "    .dataframe tbody tr th:only-of-type {\n",
       "        vertical-align: middle;\n",
       "    }\n",
       "\n",
       "    .dataframe tbody tr th {\n",
       "        vertical-align: top;\n",
       "    }\n",
       "\n",
       "    .dataframe thead th {\n",
       "        text-align: right;\n",
       "    }\n",
       "</style>\n",
       "<table border=\"1\" class=\"dataframe\">\n",
       "  <thead>\n",
       "    <tr style=\"text-align: right;\">\n",
       "      <th></th>\n",
       "      <th>in_reply_to_status_id</th>\n",
       "      <th>in_reply_to_user_id</th>\n",
       "      <th>timestamp</th>\n",
       "      <th>source</th>\n",
       "      <th>text</th>\n",
       "      <th>expanded_urls</th>\n",
       "      <th>rating_numerator</th>\n",
       "      <th>rating_denominator</th>\n",
       "      <th>name</th>\n",
       "      <th>doggo</th>\n",
       "      <th>floofer</th>\n",
       "      <th>pupper</th>\n",
       "      <th>puppo</th>\n",
       "      <th>none</th>\n",
       "      <th>tweet_id</th>\n",
       "    </tr>\n",
       "  </thead>\n",
       "  <tbody>\n",
       "    <tr>\n",
       "      <th>0</th>\n",
       "      <td>0</td>\n",
       "      <td>0</td>\n",
       "      <td>2017-08-01 16:23:56+00:00</td>\n",
       "      <td>&lt;a href=\"http://twitter.com/download/iphone\" r...</td>\n",
       "      <td>This is Phineas. He's a mystical boy. Only eve...</td>\n",
       "      <td>https://twitter.com/dog_rates/status/892420643...</td>\n",
       "      <td>13</td>\n",
       "      <td>10</td>\n",
       "      <td>Phineas</td>\n",
       "      <td>0</td>\n",
       "      <td>0</td>\n",
       "      <td>0</td>\n",
       "      <td>0</td>\n",
       "      <td>1</td>\n",
       "      <td>892420643555336193</td>\n",
       "    </tr>\n",
       "    <tr>\n",
       "      <th>1</th>\n",
       "      <td>0</td>\n",
       "      <td>0</td>\n",
       "      <td>2017-08-01 00:17:27+00:00</td>\n",
       "      <td>&lt;a href=\"http://twitter.com/download/iphone\" r...</td>\n",
       "      <td>This is Tilly. She's just checking pup on you....</td>\n",
       "      <td>https://twitter.com/dog_rates/status/892177421...</td>\n",
       "      <td>13</td>\n",
       "      <td>10</td>\n",
       "      <td>Tilly</td>\n",
       "      <td>0</td>\n",
       "      <td>0</td>\n",
       "      <td>0</td>\n",
       "      <td>0</td>\n",
       "      <td>1</td>\n",
       "      <td>892177421306343426</td>\n",
       "    </tr>\n",
       "    <tr>\n",
       "      <th>2</th>\n",
       "      <td>0</td>\n",
       "      <td>0</td>\n",
       "      <td>2017-07-31 00:18:03+00:00</td>\n",
       "      <td>&lt;a href=\"http://twitter.com/download/iphone\" r...</td>\n",
       "      <td>This is Archie. He is a rare Norwegian Pouncin...</td>\n",
       "      <td>https://twitter.com/dog_rates/status/891815181...</td>\n",
       "      <td>12</td>\n",
       "      <td>10</td>\n",
       "      <td>Archie</td>\n",
       "      <td>0</td>\n",
       "      <td>0</td>\n",
       "      <td>0</td>\n",
       "      <td>0</td>\n",
       "      <td>1</td>\n",
       "      <td>891815181378084864</td>\n",
       "    </tr>\n",
       "    <tr>\n",
       "      <th>3</th>\n",
       "      <td>0</td>\n",
       "      <td>0</td>\n",
       "      <td>2017-07-30 15:58:51+00:00</td>\n",
       "      <td>&lt;a href=\"http://twitter.com/download/iphone\" r...</td>\n",
       "      <td>This is Darla. She commenced a snooze mid meal...</td>\n",
       "      <td>https://twitter.com/dog_rates/status/891689557...</td>\n",
       "      <td>13</td>\n",
       "      <td>10</td>\n",
       "      <td>Darla</td>\n",
       "      <td>0</td>\n",
       "      <td>0</td>\n",
       "      <td>0</td>\n",
       "      <td>0</td>\n",
       "      <td>1</td>\n",
       "      <td>891689557279858688</td>\n",
       "    </tr>\n",
       "    <tr>\n",
       "      <th>4</th>\n",
       "      <td>0</td>\n",
       "      <td>0</td>\n",
       "      <td>2017-07-29 16:00:24+00:00</td>\n",
       "      <td>&lt;a href=\"http://twitter.com/download/iphone\" r...</td>\n",
       "      <td>This is Franklin. He would like you to stop ca...</td>\n",
       "      <td>https://twitter.com/dog_rates/status/891327558...</td>\n",
       "      <td>12</td>\n",
       "      <td>10</td>\n",
       "      <td>Franklin</td>\n",
       "      <td>0</td>\n",
       "      <td>0</td>\n",
       "      <td>0</td>\n",
       "      <td>0</td>\n",
       "      <td>1</td>\n",
       "      <td>891327558926688256</td>\n",
       "    </tr>\n",
       "  </tbody>\n",
       "</table>\n",
       "</div>"
      ],
      "text/plain": [
       "   in_reply_to_status_id  in_reply_to_user_id                 timestamp  \\\n",
       "0                      0                    0 2017-08-01 16:23:56+00:00   \n",
       "1                      0                    0 2017-08-01 00:17:27+00:00   \n",
       "2                      0                    0 2017-07-31 00:18:03+00:00   \n",
       "3                      0                    0 2017-07-30 15:58:51+00:00   \n",
       "4                      0                    0 2017-07-29 16:00:24+00:00   \n",
       "\n",
       "                                              source  \\\n",
       "0  <a href=\"http://twitter.com/download/iphone\" r...   \n",
       "1  <a href=\"http://twitter.com/download/iphone\" r...   \n",
       "2  <a href=\"http://twitter.com/download/iphone\" r...   \n",
       "3  <a href=\"http://twitter.com/download/iphone\" r...   \n",
       "4  <a href=\"http://twitter.com/download/iphone\" r...   \n",
       "\n",
       "                                                text  \\\n",
       "0  This is Phineas. He's a mystical boy. Only eve...   \n",
       "1  This is Tilly. She's just checking pup on you....   \n",
       "2  This is Archie. He is a rare Norwegian Pouncin...   \n",
       "3  This is Darla. She commenced a snooze mid meal...   \n",
       "4  This is Franklin. He would like you to stop ca...   \n",
       "\n",
       "                                       expanded_urls  rating_numerator  \\\n",
       "0  https://twitter.com/dog_rates/status/892420643...                13   \n",
       "1  https://twitter.com/dog_rates/status/892177421...                13   \n",
       "2  https://twitter.com/dog_rates/status/891815181...                12   \n",
       "3  https://twitter.com/dog_rates/status/891689557...                13   \n",
       "4  https://twitter.com/dog_rates/status/891327558...                12   \n",
       "\n",
       "   rating_denominator      name  doggo  floofer  pupper  puppo  none  \\\n",
       "0                  10   Phineas      0        0       0      0     1   \n",
       "1                  10     Tilly      0        0       0      0     1   \n",
       "2                  10    Archie      0        0       0      0     1   \n",
       "3                  10     Darla      0        0       0      0     1   \n",
       "4                  10  Franklin      0        0       0      0     1   \n",
       "\n",
       "             tweet_id  \n",
       "0  892420643555336193  \n",
       "1  892177421306343426  \n",
       "2  891815181378084864  \n",
       "3  891689557279858688  \n",
       "4  891327558926688256  "
      ]
     },
     "execution_count": 85,
     "metadata": {},
     "output_type": "execute_result"
    }
   ],
   "source": [
    "#current preview of dataframe\n",
    "df_archive.head()"
   ]
  },
  {
   "cell_type": "markdown",
   "metadata": {},
   "source": [
    "This [link provides an example](#https://www.geeksforgeeks.org/python-pandas-melt/) of melting dataframe columns."
   ]
  },
  {
   "cell_type": "code",
   "execution_count": 86,
   "metadata": {},
   "outputs": [],
   "source": [
    "# melt the dog name columns into a single 'value' column\n",
    "df_archive = pd.melt(df_archive, id_vars= ids, value_vars= values, var_name= 'DogStage')\n",
    "\n",
    "# only keep those rows that have an entry for dog stage\n",
    "df_archive = df_archive[df_archive.value == 1]\n",
    "\n",
    "# set 'tweet_id' as the index again\n",
    "df_archive = df_archive.set_index('tweet_id')\n",
    "\n",
    "# drop the 'value' column, since it is no longer needed\n",
    "df_archive.drop('value', axis=1, inplace=True)"
   ]
  },
  {
   "cell_type": "markdown",
   "metadata": {},
   "source": [
    "### Test"
   ]
  },
  {
   "cell_type": "code",
   "execution_count": 87,
   "metadata": {},
   "outputs": [
    {
     "data": {
      "text/plain": [
       "(1975, 10)"
      ]
     },
     "execution_count": 87,
     "metadata": {},
     "output_type": "execute_result"
    }
   ],
   "source": [
    "# check that the shape of the updated dataframe is accurate\n",
    "df_archive.shape"
   ]
  },
  {
   "cell_type": "code",
   "execution_count": 88,
   "metadata": {},
   "outputs": [
    {
     "name": "stdout",
     "output_type": "stream",
     "text": [
      "<class 'pandas.core.frame.DataFrame'>\n",
      "Int64Index: 1975 entries, 890240255349198849 to 666020888022790149\n",
      "Data columns (total 10 columns):\n",
      "in_reply_to_status_id    1975 non-null int64\n",
      "in_reply_to_user_id      1975 non-null int64\n",
      "timestamp                1975 non-null datetime64[ns, UTC]\n",
      "source                   1975 non-null object\n",
      "text                     1975 non-null object\n",
      "expanded_urls            1975 non-null object\n",
      "rating_numerator         1975 non-null int64\n",
      "rating_denominator       1975 non-null int64\n",
      "name                     1975 non-null object\n",
      "DogStage                 1975 non-null object\n",
      "dtypes: datetime64[ns, UTC](1), int64(4), object(5)\n",
      "memory usage: 169.7+ KB\n"
     ]
    }
   ],
   "source": [
    "df_archive.info()"
   ]
  },
  {
   "cell_type": "code",
   "execution_count": 89,
   "metadata": {},
   "outputs": [
    {
     "name": "stdout",
     "output_type": "stream",
     "text": [
      "# of tweets w/ a single dog stage value:  294\n",
      "# of tweets w/ no dog stage value:        1681\n"
     ]
    }
   ],
   "source": [
    "# check that the value counts in the 'DogStage' column are correct\n",
    "\n",
    "print('# of tweets w/ a single dog stage value:  ' +\n",
    "      str(df_archive[~df_archive['DogStage'].str.contains(\"none\")].DogStage.count()))\n",
    "print('# of tweets w/ no dog stage value:        ' + \n",
    "      str(df_archive[df_archive['DogStage'].str.contains(\"none\")].DogStage.count()))"
   ]
  },
  {
   "cell_type": "markdown",
   "metadata": {},
   "source": [
    "The value counts in the 'DogStage' column are correct, since they match the corresponding counts [determined earlier](#clean_number_of_dog_stages)."
   ]
  },
  {
   "cell_type": "markdown",
   "metadata": {},
   "source": [
    "<a id='clean_text_urls'></a>\n",
    "([Top of Page](#top_of_page))\n",
    "\n",
    "### Define\n",
    "\n",
    "* Issue:\n",
    "  * In df_archive, **urls should be extracted from the 'text' column**\n",
    "\n",
    "* Method:\n",
    "  * Use regexp to extract the url from 'text' entries\n",
    "  * split the 'text' entries on 'http' and only keep the first element"
   ]
  },
  {
   "cell_type": "markdown",
   "metadata": {},
   "source": [
    "### Code"
   ]
  },
  {
   "cell_type": "code",
   "execution_count": 90,
   "metadata": {},
   "outputs": [],
   "source": [
    "# Extract url from text entries\n",
    "df_archive['tweet_url'] = df_archive.text.str.extract('(https://.*/+[0-9a-zA-Z]+)')\n",
    "\n",
    "# split the 'text' entries on 'http' and only keep the first element\n",
    "df_archive['text'] = df_archive.text.apply(lambda x: x.split('http')[0])"
   ]
  },
  {
   "cell_type": "markdown",
   "metadata": {},
   "source": [
    "### Test"
   ]
  },
  {
   "cell_type": "markdown",
   "metadata": {},
   "source": [
    "* Use <code>df_archive.shape</code> to check that the number of columns has increased by one\n",
    "* View the head to check if operation was successful\n",
    "* Print the first few 'text' entries to make sure the urls were removed"
   ]
  },
  {
   "cell_type": "code",
   "execution_count": 91,
   "metadata": {},
   "outputs": [
    {
     "data": {
      "text/plain": [
       "(1975, 11)"
      ]
     },
     "execution_count": 91,
     "metadata": {},
     "output_type": "execute_result"
    }
   ],
   "source": [
    "df_archive.shape"
   ]
  },
  {
   "cell_type": "code",
   "execution_count": 92,
   "metadata": {},
   "outputs": [
    {
     "data": {
      "text/html": [
       "<div>\n",
       "<style scoped>\n",
       "    .dataframe tbody tr th:only-of-type {\n",
       "        vertical-align: middle;\n",
       "    }\n",
       "\n",
       "    .dataframe tbody tr th {\n",
       "        vertical-align: top;\n",
       "    }\n",
       "\n",
       "    .dataframe thead th {\n",
       "        text-align: right;\n",
       "    }\n",
       "</style>\n",
       "<table border=\"1\" class=\"dataframe\">\n",
       "  <thead>\n",
       "    <tr style=\"text-align: right;\">\n",
       "      <th></th>\n",
       "      <th>in_reply_to_status_id</th>\n",
       "      <th>in_reply_to_user_id</th>\n",
       "      <th>timestamp</th>\n",
       "      <th>source</th>\n",
       "      <th>text</th>\n",
       "      <th>expanded_urls</th>\n",
       "      <th>rating_numerator</th>\n",
       "      <th>rating_denominator</th>\n",
       "      <th>name</th>\n",
       "      <th>DogStage</th>\n",
       "      <th>tweet_url</th>\n",
       "    </tr>\n",
       "    <tr>\n",
       "      <th>tweet_id</th>\n",
       "      <th></th>\n",
       "      <th></th>\n",
       "      <th></th>\n",
       "      <th></th>\n",
       "      <th></th>\n",
       "      <th></th>\n",
       "      <th></th>\n",
       "      <th></th>\n",
       "      <th></th>\n",
       "      <th></th>\n",
       "      <th></th>\n",
       "    </tr>\n",
       "  </thead>\n",
       "  <tbody>\n",
       "    <tr>\n",
       "      <th>890240255349198849</th>\n",
       "      <td>0</td>\n",
       "      <td>0</td>\n",
       "      <td>2017-07-26 15:59:51+00:00</td>\n",
       "      <td>&lt;a href=\"http://twitter.com/download/iphone\" r...</td>\n",
       "      <td>This is Cassie. She is a college pup. Studying...</td>\n",
       "      <td>https://twitter.com/dog_rates/status/890240255...</td>\n",
       "      <td>14</td>\n",
       "      <td>10</td>\n",
       "      <td>Cassie</td>\n",
       "      <td>doggo</td>\n",
       "      <td>https://t.co/t1bfwz5S2A</td>\n",
       "    </tr>\n",
       "    <tr>\n",
       "      <th>884162670584377345</th>\n",
       "      <td>0</td>\n",
       "      <td>0</td>\n",
       "      <td>2017-07-09 21:29:42+00:00</td>\n",
       "      <td>&lt;a href=\"http://twitter.com/download/iphone\" r...</td>\n",
       "      <td>Meet Yogi. He doesn't have any important dog m...</td>\n",
       "      <td>https://twitter.com/dog_rates/status/884162670...</td>\n",
       "      <td>12</td>\n",
       "      <td>10</td>\n",
       "      <td>Yogi</td>\n",
       "      <td>doggo</td>\n",
       "      <td>https://t.co/YSI00BzTBZ</td>\n",
       "    </tr>\n",
       "    <tr>\n",
       "      <th>872967104147763200</th>\n",
       "      <td>0</td>\n",
       "      <td>0</td>\n",
       "      <td>2017-06-09 00:02:31+00:00</td>\n",
       "      <td>&lt;a href=\"http://twitter.com/download/iphone\" r...</td>\n",
       "      <td>Here's a very large dog. He has a date later. ...</td>\n",
       "      <td>https://twitter.com/dog_rates/status/872967104...</td>\n",
       "      <td>12</td>\n",
       "      <td>10</td>\n",
       "      <td>None</td>\n",
       "      <td>doggo</td>\n",
       "      <td>https://t.co/EMYIdoblMR</td>\n",
       "    </tr>\n",
       "  </tbody>\n",
       "</table>\n",
       "</div>"
      ],
      "text/plain": [
       "                    in_reply_to_status_id  in_reply_to_user_id  \\\n",
       "tweet_id                                                         \n",
       "890240255349198849                      0                    0   \n",
       "884162670584377345                      0                    0   \n",
       "872967104147763200                      0                    0   \n",
       "\n",
       "                                   timestamp  \\\n",
       "tweet_id                                       \n",
       "890240255349198849 2017-07-26 15:59:51+00:00   \n",
       "884162670584377345 2017-07-09 21:29:42+00:00   \n",
       "872967104147763200 2017-06-09 00:02:31+00:00   \n",
       "\n",
       "                                                               source  \\\n",
       "tweet_id                                                                \n",
       "890240255349198849  <a href=\"http://twitter.com/download/iphone\" r...   \n",
       "884162670584377345  <a href=\"http://twitter.com/download/iphone\" r...   \n",
       "872967104147763200  <a href=\"http://twitter.com/download/iphone\" r...   \n",
       "\n",
       "                                                                 text  \\\n",
       "tweet_id                                                                \n",
       "890240255349198849  This is Cassie. She is a college pup. Studying...   \n",
       "884162670584377345  Meet Yogi. He doesn't have any important dog m...   \n",
       "872967104147763200  Here's a very large dog. He has a date later. ...   \n",
       "\n",
       "                                                        expanded_urls  \\\n",
       "tweet_id                                                                \n",
       "890240255349198849  https://twitter.com/dog_rates/status/890240255...   \n",
       "884162670584377345  https://twitter.com/dog_rates/status/884162670...   \n",
       "872967104147763200  https://twitter.com/dog_rates/status/872967104...   \n",
       "\n",
       "                    rating_numerator  rating_denominator    name DogStage  \\\n",
       "tweet_id                                                                    \n",
       "890240255349198849                14                  10  Cassie    doggo   \n",
       "884162670584377345                12                  10    Yogi    doggo   \n",
       "872967104147763200                12                  10    None    doggo   \n",
       "\n",
       "                                  tweet_url  \n",
       "tweet_id                                     \n",
       "890240255349198849  https://t.co/t1bfwz5S2A  \n",
       "884162670584377345  https://t.co/YSI00BzTBZ  \n",
       "872967104147763200  https://t.co/EMYIdoblMR  "
      ]
     },
     "execution_count": 92,
     "metadata": {},
     "output_type": "execute_result"
    }
   ],
   "source": [
    "df_archive.head(3)"
   ]
  },
  {
   "cell_type": "code",
   "execution_count": 93,
   "metadata": {},
   "outputs": [
    {
     "name": "stdout",
     "output_type": "stream",
     "text": [
      "- This is Cassie. She is a college pup. Studying international doggo communication and stick theory. 14/10 so elegant much sophisticate \n",
      "- Meet Yogi. He doesn't have any important dog meetings today he just enjoys looking his best at all times. 12/10 for dangerously dapper doggo \n",
      "- Here's a very large dog. He has a date later. Politely asked this water person to check if his breath is bad. 12/10 good to go doggo \n"
     ]
    },
    {
     "data": {
      "text/plain": [
       "tweet_id\n",
       "890240255349198849    None\n",
       "884162670584377345    None\n",
       "872967104147763200    None\n",
       "Name: text, dtype: object"
      ]
     },
     "execution_count": 93,
     "metadata": {},
     "output_type": "execute_result"
    }
   ],
   "source": [
    "df_archive.text[0:3].apply(lambda x: print('- ' + x))"
   ]
  },
  {
   "cell_type": "markdown",
   "metadata": {},
   "source": [
    "<a id='clean_tables'></a>\n",
    "([Top of Page](#top_of_page))\n",
    "\n",
    "### Define\n",
    "\n",
    "* **df_tweetInfo and df_archive should be merged into one dataframe.**\n",
    "  * Combine them on 'tweet_id'"
   ]
  },
  {
   "cell_type": "markdown",
   "metadata": {},
   "source": [
    "### Code"
   ]
  },
  {
   "cell_type": "code",
   "execution_count": 94,
   "metadata": {},
   "outputs": [],
   "source": [
    "df_temp_archive = df_archive.copy(deep=True)   # save a copy of df_archive for debugging purposes"
   ]
  },
  {
   "cell_type": "code",
   "execution_count": 95,
   "metadata": {},
   "outputs": [],
   "source": [
    "df_archive = df_temp_archive.copy(deep=True)   # reset df_archive (for debuggin purposes)"
   ]
  },
  {
   "cell_type": "markdown",
   "metadata": {},
   "source": [
    "Prior to joining the dataframes, check to make sure that they do not share column names."
   ]
  },
  {
   "cell_type": "code",
   "execution_count": 96,
   "metadata": {},
   "outputs": [
    {
     "name": "stdout",
     "output_type": "stream",
     "text": [
      "Index(['in_reply_to_status_id', 'in_reply_to_user_id', 'timestamp', 'source',\n",
      "       'text', 'expanded_urls', 'rating_numerator', 'rating_denominator',\n",
      "       'name', 'DogStage', 'tweet_url'],\n",
      "      dtype='object')\n",
      "--------------------------------------------------------\n",
      "Index(['tweet_id', 'retweet_count', 'favorite_count'], dtype='object')\n",
      "--------------------------------------------------------\n",
      "(1975, 11)\n",
      "(2062, 3)\n"
     ]
    }
   ],
   "source": [
    "print(df_archive.columns)\n",
    "print('--------------------------------------------------------')\n",
    "print(df_tweetInfo.columns)\n",
    "print('--------------------------------------------------------')\n",
    "print(df_archive.shape)\n",
    "print(df_tweetInfo.shape)"
   ]
  },
  {
   "cell_type": "markdown",
   "metadata": {},
   "source": [
    "The only shared column name is 'tweet_id'. This will be the column that the dataframes are joined on."
   ]
  },
  {
   "cell_type": "code",
   "execution_count": 97,
   "metadata": {},
   "outputs": [],
   "source": [
    "# save the tweet_id back to a column (so it can be used for a merge)\n",
    "df_archive['tweet_id'] = df_archive.index\n",
    "df_archive.reset_index(drop=True,inplace=True)"
   ]
  },
  {
   "cell_type": "markdown",
   "metadata": {},
   "source": [
    "Reference: StackOverflow post on [how to merge dataframes and avoid duplicating columns](https://stackoverflow.com/questions/19125091/pandas-merge-how-to-avoid-duplicating-columns)"
   ]
  },
  {
   "cell_type": "code",
   "execution_count": 98,
   "metadata": {},
   "outputs": [],
   "source": [
    "df_master = pd.merge(df_archive, df_tweetInfo, how='inner', on='tweet_id')\n",
    "#df_master = pd.merge(df_archive, df_tweetInfo, left_index=True, right_index=True, how='inner')\n",
    "#df_master = pd.merge(df_archive, df_tweetInfo[cols_to_use], left_index=True, right_index=True, how='inner')"
   ]
  },
  {
   "cell_type": "markdown",
   "metadata": {},
   "source": [
    "### Test"
   ]
  },
  {
   "cell_type": "code",
   "execution_count": 99,
   "metadata": {},
   "outputs": [
    {
     "name": "stdout",
     "output_type": "stream",
     "text": [
      "Index(['in_reply_to_status_id', 'in_reply_to_user_id', 'timestamp', 'source',\n",
      "       'text', 'expanded_urls', 'rating_numerator', 'rating_denominator',\n",
      "       'name', 'DogStage', 'tweet_url', 'tweet_id', 'retweet_count',\n",
      "       'favorite_count'],\n",
      "      dtype='object')\n",
      "---------------------------------------------------------------------\n",
      "(1975, 14)\n"
     ]
    }
   ],
   "source": [
    "print(df_master.columns)\n",
    "print('---------------------------------------------------------------------')\n",
    "print(df_master.shape)"
   ]
  },
  {
   "cell_type": "code",
   "execution_count": 100,
   "metadata": {},
   "outputs": [],
   "source": [
    "# set 'tweet_id' as the index again\n",
    "df_master = df_master.set_index('tweet_id')"
   ]
  },
  {
   "cell_type": "code",
   "execution_count": 101,
   "metadata": {},
   "outputs": [
    {
     "data": {
      "text/html": [
       "<div>\n",
       "<style scoped>\n",
       "    .dataframe tbody tr th:only-of-type {\n",
       "        vertical-align: middle;\n",
       "    }\n",
       "\n",
       "    .dataframe tbody tr th {\n",
       "        vertical-align: top;\n",
       "    }\n",
       "\n",
       "    .dataframe thead th {\n",
       "        text-align: right;\n",
       "    }\n",
       "</style>\n",
       "<table border=\"1\" class=\"dataframe\">\n",
       "  <thead>\n",
       "    <tr style=\"text-align: right;\">\n",
       "      <th></th>\n",
       "      <th>in_reply_to_status_id</th>\n",
       "      <th>in_reply_to_user_id</th>\n",
       "      <th>timestamp</th>\n",
       "      <th>source</th>\n",
       "      <th>text</th>\n",
       "      <th>expanded_urls</th>\n",
       "      <th>rating_numerator</th>\n",
       "      <th>rating_denominator</th>\n",
       "      <th>name</th>\n",
       "      <th>DogStage</th>\n",
       "      <th>tweet_url</th>\n",
       "      <th>retweet_count</th>\n",
       "      <th>favorite_count</th>\n",
       "    </tr>\n",
       "    <tr>\n",
       "      <th>tweet_id</th>\n",
       "      <th></th>\n",
       "      <th></th>\n",
       "      <th></th>\n",
       "      <th></th>\n",
       "      <th></th>\n",
       "      <th></th>\n",
       "      <th></th>\n",
       "      <th></th>\n",
       "      <th></th>\n",
       "      <th></th>\n",
       "      <th></th>\n",
       "      <th></th>\n",
       "      <th></th>\n",
       "    </tr>\n",
       "  </thead>\n",
       "  <tbody>\n",
       "    <tr>\n",
       "      <th>890240255349198849</th>\n",
       "      <td>0</td>\n",
       "      <td>0</td>\n",
       "      <td>2017-07-26 15:59:51+00:00</td>\n",
       "      <td>&lt;a href=\"http://twitter.com/download/iphone\" r...</td>\n",
       "      <td>This is Cassie. She is a college pup. Studying...</td>\n",
       "      <td>https://twitter.com/dog_rates/status/890240255...</td>\n",
       "      <td>14</td>\n",
       "      <td>10</td>\n",
       "      <td>Cassie</td>\n",
       "      <td>doggo</td>\n",
       "      <td>https://t.co/t1bfwz5S2A</td>\n",
       "      <td>7091</td>\n",
       "      <td>30896</td>\n",
       "    </tr>\n",
       "    <tr>\n",
       "      <th>884162670584377345</th>\n",
       "      <td>0</td>\n",
       "      <td>0</td>\n",
       "      <td>2017-07-09 21:29:42+00:00</td>\n",
       "      <td>&lt;a href=\"http://twitter.com/download/iphone\" r...</td>\n",
       "      <td>Meet Yogi. He doesn't have any important dog m...</td>\n",
       "      <td>https://twitter.com/dog_rates/status/884162670...</td>\n",
       "      <td>12</td>\n",
       "      <td>10</td>\n",
       "      <td>Yogi</td>\n",
       "      <td>doggo</td>\n",
       "      <td>https://t.co/YSI00BzTBZ</td>\n",
       "      <td>2872</td>\n",
       "      <td>19726</td>\n",
       "    </tr>\n",
       "  </tbody>\n",
       "</table>\n",
       "</div>"
      ],
      "text/plain": [
       "                    in_reply_to_status_id  in_reply_to_user_id  \\\n",
       "tweet_id                                                         \n",
       "890240255349198849                      0                    0   \n",
       "884162670584377345                      0                    0   \n",
       "\n",
       "                                   timestamp  \\\n",
       "tweet_id                                       \n",
       "890240255349198849 2017-07-26 15:59:51+00:00   \n",
       "884162670584377345 2017-07-09 21:29:42+00:00   \n",
       "\n",
       "                                                               source  \\\n",
       "tweet_id                                                                \n",
       "890240255349198849  <a href=\"http://twitter.com/download/iphone\" r...   \n",
       "884162670584377345  <a href=\"http://twitter.com/download/iphone\" r...   \n",
       "\n",
       "                                                                 text  \\\n",
       "tweet_id                                                                \n",
       "890240255349198849  This is Cassie. She is a college pup. Studying...   \n",
       "884162670584377345  Meet Yogi. He doesn't have any important dog m...   \n",
       "\n",
       "                                                        expanded_urls  \\\n",
       "tweet_id                                                                \n",
       "890240255349198849  https://twitter.com/dog_rates/status/890240255...   \n",
       "884162670584377345  https://twitter.com/dog_rates/status/884162670...   \n",
       "\n",
       "                    rating_numerator  rating_denominator    name DogStage  \\\n",
       "tweet_id                                                                    \n",
       "890240255349198849                14                  10  Cassie    doggo   \n",
       "884162670584377345                12                  10    Yogi    doggo   \n",
       "\n",
       "                                  tweet_url retweet_count favorite_count  \n",
       "tweet_id                                                                  \n",
       "890240255349198849  https://t.co/t1bfwz5S2A          7091          30896  \n",
       "884162670584377345  https://t.co/YSI00BzTBZ          2872          19726  "
      ]
     },
     "execution_count": 101,
     "metadata": {},
     "output_type": "execute_result"
    }
   ],
   "source": [
    "df_master.head(2)"
   ]
  },
  {
   "cell_type": "markdown",
   "metadata": {},
   "source": [
    "<a id='clean_update_records'></a>\n",
    "([Top of Page](#top_of_page))\n",
    "\n",
    "### Define\n",
    "\n",
    "**Issue:**\n",
    "* After cleaning the data for quality and cleanliness, the two remaining dataframes (**df_master** and **df_images**) have a different number of records.<br>\n",
    "  \n",
    "**Pseudo-code:**\n",
    "* Make 'tweet_id' a column of df_master\n",
    "* Create a list of tweet_ids for each dataframe\n",
    "* Keep the tweet_ids that are common to each\n",
    "* Using that list of tweet_ids, reassign the dataframes\n",
    "* Set 'tweet_id' as the index for each dataframe"
   ]
  },
  {
   "cell_type": "markdown",
   "metadata": {},
   "source": [
    "### Code"
   ]
  },
  {
   "cell_type": "code",
   "execution_count": 102,
   "metadata": {},
   "outputs": [],
   "source": [
    "# # create a temporary copy of df_master for debugging purposes\n",
    "# df_temp_master = df_master.copy(deep=True)\n",
    "# df_temp_images = df_images.copy(deep=True)"
   ]
  },
  {
   "cell_type": "code",
   "execution_count": 103,
   "metadata": {},
   "outputs": [
    {
     "name": "stdout",
     "output_type": "stream",
     "text": [
      "(1975, 13)\n",
      "Index(['in_reply_to_status_id', 'in_reply_to_user_id', 'timestamp', 'source',\n",
      "       'text', 'expanded_urls', 'rating_numerator', 'rating_denominator',\n",
      "       'name', 'DogStage', 'tweet_url', 'retweet_count', 'favorite_count'],\n",
      "      dtype='object')\n",
      "----------------------------------------------------------------------------\n",
      "(2062, 12)\n",
      "Index(['tweet_id', 'jpg_url', 'img_num', 'p1', 'p1_conf', 'p1_dog', 'p2',\n",
      "       'p2_conf', 'p2_dog', 'p3', 'p3_conf', 'p3_dog'],\n",
      "      dtype='object')\n"
     ]
    }
   ],
   "source": [
    "print(df_master.shape)\n",
    "print(df_master.columns)\n",
    "print('----------------------------------------------------------------------------')\n",
    "print(df_images.shape)\n",
    "print(df_images.columns)"
   ]
  },
  {
   "cell_type": "code",
   "execution_count": 104,
   "metadata": {},
   "outputs": [],
   "source": [
    "# Make 'tweet_id' a column of df_master\n",
    "df_master['tweet_id'] = df_master.index\n",
    "df_master.reset_index(drop=True,inplace=True)\n",
    "\n",
    "# Create a list of tweet_ids for each dataframe:\n",
    "tweet_ids_master = df_master['tweet_id'].tolist()\n",
    "tweet_ids_images = df_images['tweet_id'].tolist()\n",
    "\n",
    "# Keep the tweet_ids that are common to each list\n",
    "tweet_ids_to_keep = list(set(tweet_ids_master).intersection(tweet_ids_images))\n",
    "\n",
    "# Using that list of tweet_ids, reassign the dataframes:\n",
    "df_master = df_master[df_master.tweet_id.isin(tweet_ids_to_keep)]\n",
    "df_images = df_images[df_images.tweet_id.isin(tweet_ids_to_keep)]\n",
    "\n",
    "# Set 'tweet_id' as the index for each dataframe\n",
    "df_master = df_master.set_index('tweet_id')\n",
    "df_images = df_images.set_index('tweet_id')"
   ]
  },
  {
   "cell_type": "markdown",
   "metadata": {},
   "source": [
    "### Test"
   ]
  },
  {
   "cell_type": "code",
   "execution_count": 105,
   "metadata": {},
   "outputs": [
    {
     "name": "stdout",
     "output_type": "stream",
     "text": [
      "(1975, 13)\n",
      "Index(['in_reply_to_status_id', 'in_reply_to_user_id', 'timestamp', 'source',\n",
      "       'text', 'expanded_urls', 'rating_numerator', 'rating_denominator',\n",
      "       'name', 'DogStage', 'tweet_url', 'retweet_count', 'favorite_count'],\n",
      "      dtype='object')\n",
      "----------------------------------------------------------------------------\n",
      "(1975, 11)\n",
      "Index(['jpg_url', 'img_num', 'p1', 'p1_conf', 'p1_dog', 'p2', 'p2_conf',\n",
      "       'p2_dog', 'p3', 'p3_conf', 'p3_dog'],\n",
      "      dtype='object')\n"
     ]
    }
   ],
   "source": [
    "print(df_master.shape)\n",
    "print(df_master.columns)\n",
    "print('----------------------------------------------------------------------------')\n",
    "print(df_images.shape)\n",
    "print(df_images.columns)"
   ]
  },
  {
   "cell_type": "code",
   "execution_count": 106,
   "metadata": {},
   "outputs": [
    {
     "data": {
      "text/html": [
       "<div>\n",
       "<style scoped>\n",
       "    .dataframe tbody tr th:only-of-type {\n",
       "        vertical-align: middle;\n",
       "    }\n",
       "\n",
       "    .dataframe tbody tr th {\n",
       "        vertical-align: top;\n",
       "    }\n",
       "\n",
       "    .dataframe thead th {\n",
       "        text-align: right;\n",
       "    }\n",
       "</style>\n",
       "<table border=\"1\" class=\"dataframe\">\n",
       "  <thead>\n",
       "    <tr style=\"text-align: right;\">\n",
       "      <th></th>\n",
       "      <th>in_reply_to_status_id</th>\n",
       "      <th>in_reply_to_user_id</th>\n",
       "      <th>timestamp</th>\n",
       "      <th>source</th>\n",
       "      <th>text</th>\n",
       "      <th>expanded_urls</th>\n",
       "      <th>rating_numerator</th>\n",
       "      <th>rating_denominator</th>\n",
       "      <th>name</th>\n",
       "      <th>DogStage</th>\n",
       "      <th>tweet_url</th>\n",
       "      <th>retweet_count</th>\n",
       "      <th>favorite_count</th>\n",
       "    </tr>\n",
       "    <tr>\n",
       "      <th>tweet_id</th>\n",
       "      <th></th>\n",
       "      <th></th>\n",
       "      <th></th>\n",
       "      <th></th>\n",
       "      <th></th>\n",
       "      <th></th>\n",
       "      <th></th>\n",
       "      <th></th>\n",
       "      <th></th>\n",
       "      <th></th>\n",
       "      <th></th>\n",
       "      <th></th>\n",
       "      <th></th>\n",
       "    </tr>\n",
       "  </thead>\n",
       "  <tbody>\n",
       "    <tr>\n",
       "      <th>890240255349198849</th>\n",
       "      <td>0</td>\n",
       "      <td>0</td>\n",
       "      <td>2017-07-26 15:59:51+00:00</td>\n",
       "      <td>&lt;a href=\"http://twitter.com/download/iphone\" r...</td>\n",
       "      <td>This is Cassie. She is a college pup. Studying...</td>\n",
       "      <td>https://twitter.com/dog_rates/status/890240255...</td>\n",
       "      <td>14</td>\n",
       "      <td>10</td>\n",
       "      <td>Cassie</td>\n",
       "      <td>doggo</td>\n",
       "      <td>https://t.co/t1bfwz5S2A</td>\n",
       "      <td>7091</td>\n",
       "      <td>30896</td>\n",
       "    </tr>\n",
       "    <tr>\n",
       "      <th>884162670584377345</th>\n",
       "      <td>0</td>\n",
       "      <td>0</td>\n",
       "      <td>2017-07-09 21:29:42+00:00</td>\n",
       "      <td>&lt;a href=\"http://twitter.com/download/iphone\" r...</td>\n",
       "      <td>Meet Yogi. He doesn't have any important dog m...</td>\n",
       "      <td>https://twitter.com/dog_rates/status/884162670...</td>\n",
       "      <td>12</td>\n",
       "      <td>10</td>\n",
       "      <td>Yogi</td>\n",
       "      <td>doggo</td>\n",
       "      <td>https://t.co/YSI00BzTBZ</td>\n",
       "      <td>2872</td>\n",
       "      <td>19726</td>\n",
       "    </tr>\n",
       "  </tbody>\n",
       "</table>\n",
       "</div>"
      ],
      "text/plain": [
       "                    in_reply_to_status_id  in_reply_to_user_id  \\\n",
       "tweet_id                                                         \n",
       "890240255349198849                      0                    0   \n",
       "884162670584377345                      0                    0   \n",
       "\n",
       "                                   timestamp  \\\n",
       "tweet_id                                       \n",
       "890240255349198849 2017-07-26 15:59:51+00:00   \n",
       "884162670584377345 2017-07-09 21:29:42+00:00   \n",
       "\n",
       "                                                               source  \\\n",
       "tweet_id                                                                \n",
       "890240255349198849  <a href=\"http://twitter.com/download/iphone\" r...   \n",
       "884162670584377345  <a href=\"http://twitter.com/download/iphone\" r...   \n",
       "\n",
       "                                                                 text  \\\n",
       "tweet_id                                                                \n",
       "890240255349198849  This is Cassie. She is a college pup. Studying...   \n",
       "884162670584377345  Meet Yogi. He doesn't have any important dog m...   \n",
       "\n",
       "                                                        expanded_urls  \\\n",
       "tweet_id                                                                \n",
       "890240255349198849  https://twitter.com/dog_rates/status/890240255...   \n",
       "884162670584377345  https://twitter.com/dog_rates/status/884162670...   \n",
       "\n",
       "                    rating_numerator  rating_denominator    name DogStage  \\\n",
       "tweet_id                                                                    \n",
       "890240255349198849                14                  10  Cassie    doggo   \n",
       "884162670584377345                12                  10    Yogi    doggo   \n",
       "\n",
       "                                  tweet_url retweet_count favorite_count  \n",
       "tweet_id                                                                  \n",
       "890240255349198849  https://t.co/t1bfwz5S2A          7091          30896  \n",
       "884162670584377345  https://t.co/YSI00BzTBZ          2872          19726  "
      ]
     },
     "execution_count": 106,
     "metadata": {},
     "output_type": "execute_result"
    }
   ],
   "source": [
    "df_master.head(2)"
   ]
  },
  {
   "cell_type": "code",
   "execution_count": 107,
   "metadata": {},
   "outputs": [
    {
     "data": {
      "text/html": [
       "<div>\n",
       "<style scoped>\n",
       "    .dataframe tbody tr th:only-of-type {\n",
       "        vertical-align: middle;\n",
       "    }\n",
       "\n",
       "    .dataframe tbody tr th {\n",
       "        vertical-align: top;\n",
       "    }\n",
       "\n",
       "    .dataframe thead th {\n",
       "        text-align: right;\n",
       "    }\n",
       "</style>\n",
       "<table border=\"1\" class=\"dataframe\">\n",
       "  <thead>\n",
       "    <tr style=\"text-align: right;\">\n",
       "      <th></th>\n",
       "      <th>jpg_url</th>\n",
       "      <th>img_num</th>\n",
       "      <th>p1</th>\n",
       "      <th>p1_conf</th>\n",
       "      <th>p1_dog</th>\n",
       "      <th>p2</th>\n",
       "      <th>p2_conf</th>\n",
       "      <th>p2_dog</th>\n",
       "      <th>p3</th>\n",
       "      <th>p3_conf</th>\n",
       "      <th>p3_dog</th>\n",
       "    </tr>\n",
       "    <tr>\n",
       "      <th>tweet_id</th>\n",
       "      <th></th>\n",
       "      <th></th>\n",
       "      <th></th>\n",
       "      <th></th>\n",
       "      <th></th>\n",
       "      <th></th>\n",
       "      <th></th>\n",
       "      <th></th>\n",
       "      <th></th>\n",
       "      <th></th>\n",
       "      <th></th>\n",
       "    </tr>\n",
       "  </thead>\n",
       "  <tbody>\n",
       "    <tr>\n",
       "      <th>666020888022790149</th>\n",
       "      <td>https://pbs.twimg.com/media/CT4udn0WwAA0aMy.jpg</td>\n",
       "      <td>1</td>\n",
       "      <td>Welsh_springer_spaniel</td>\n",
       "      <td>0.465074</td>\n",
       "      <td>True</td>\n",
       "      <td>collie</td>\n",
       "      <td>0.156665</td>\n",
       "      <td>True</td>\n",
       "      <td>Shetland_sheepdog</td>\n",
       "      <td>0.061428</td>\n",
       "      <td>True</td>\n",
       "    </tr>\n",
       "    <tr>\n",
       "      <th>666029285002620928</th>\n",
       "      <td>https://pbs.twimg.com/media/CT42GRgUYAA5iDo.jpg</td>\n",
       "      <td>1</td>\n",
       "      <td>redbone</td>\n",
       "      <td>0.506826</td>\n",
       "      <td>True</td>\n",
       "      <td>miniature_pinscher</td>\n",
       "      <td>0.074192</td>\n",
       "      <td>True</td>\n",
       "      <td>Rhodesian_ridgeback</td>\n",
       "      <td>0.072010</td>\n",
       "      <td>True</td>\n",
       "    </tr>\n",
       "  </tbody>\n",
       "</table>\n",
       "</div>"
      ],
      "text/plain": [
       "                                                            jpg_url  img_num  \\\n",
       "tweet_id                                                                       \n",
       "666020888022790149  https://pbs.twimg.com/media/CT4udn0WwAA0aMy.jpg        1   \n",
       "666029285002620928  https://pbs.twimg.com/media/CT42GRgUYAA5iDo.jpg        1   \n",
       "\n",
       "                                        p1   p1_conf  p1_dog  \\\n",
       "tweet_id                                                       \n",
       "666020888022790149  Welsh_springer_spaniel  0.465074    True   \n",
       "666029285002620928                 redbone  0.506826    True   \n",
       "\n",
       "                                    p2   p2_conf  p2_dog                   p3  \\\n",
       "tweet_id                                                                        \n",
       "666020888022790149              collie  0.156665    True    Shetland_sheepdog   \n",
       "666029285002620928  miniature_pinscher  0.074192    True  Rhodesian_ridgeback   \n",
       "\n",
       "                     p3_conf  p3_dog  \n",
       "tweet_id                              \n",
       "666020888022790149  0.061428    True  \n",
       "666029285002620928  0.072010    True  "
      ]
     },
     "execution_count": 107,
     "metadata": {},
     "output_type": "execute_result"
    }
   ],
   "source": [
    "df_images.head(2)"
   ]
  },
  {
   "cell_type": "markdown",
   "metadata": {},
   "source": [
    "* The number of rows are now equal\n",
    "* df_images now has 'tweet_id' as its index"
   ]
  },
  {
   "cell_type": "markdown",
   "metadata": {},
   "source": [
    "<a id='analysis_visualizations'></a>\n",
    "([Top of Page](#top_of_page))\n",
    "\n",
    "## Analysis and Visualizations\n",
    "\n",
    "* bullet 1\n",
    "* bullet 2"
   ]
  },
  {
   "cell_type": "markdown",
   "metadata": {},
   "source": [
    "<a id='analysis_favorite_count_vs_day'></a>\n",
    "([Top of Page](#top_of_page))\n",
    "\n",
    "### (in progress) Favorites vs. Days Since First Tweet\n",
    "\n",
    "* bullet 1\n",
    "* bullet 2"
   ]
  },
  {
   "cell_type": "code",
   "execution_count": 108,
   "metadata": {},
   "outputs": [
    {
     "name": "stderr",
     "output_type": "stream",
     "text": [
      "/anaconda3/envs/py3_w_tweepy/lib/python3.7/site-packages/ipykernel_launcher.py:7: UserWarning: Pandas doesn't allow columns to be created via a new attribute name - see https://pandas.pydata.org/pandas-docs/stable/indexing.html#attribute-access\n",
      "  import sys\n",
      "/anaconda3/envs/py3_w_tweepy/lib/python3.7/site-packages/ipykernel_launcher.py:8: UserWarning: Pandas doesn't allow columns to be created via a new attribute name - see https://pandas.pydata.org/pandas-docs/stable/indexing.html#attribute-access\n",
      "  \n",
      "/anaconda3/envs/py3_w_tweepy/lib/python3.7/site-packages/ipykernel_launcher.py:9: UserWarning: Pandas doesn't allow columns to be created via a new attribute name - see https://pandas.pydata.org/pandas-docs/stable/indexing.html#attribute-access\n",
      "  if __name__ == '__main__':\n"
     ]
    }
   ],
   "source": [
    "df_temp_master = df_master.copy(deep=True)\n",
    "\n",
    "df_temp_master.favorite_count = df_temp_master.favorite_count.astype(int)\n",
    "df_temp_master.retweet_count = df_temp_master.retweet_count.astype(int)\n",
    "\n",
    "# define new columns\n",
    "df_temp_master.time_Delta = pd.Series(list(range(len(df_temp_master))))\n",
    "df_temp_master.year = pd.Series(list(range(len(df_temp_master))))\n",
    "df_temp_master.month = pd.Series(list(range(len(df_temp_master))))\n",
    "\n",
    "# find timestamp of first tweet\n",
    "timestamp_firstTweet = df_temp_master.timestamp.min()\n",
    "\n",
    "# calculate timeDelta since first tweet. Also extract year and month of the given tweet\n",
    "for idx, row in df_temp_master.iterrows():\n",
    "    df_temp_master.loc[idx,'time_Delta'] = row.timestamp - timestamp_firstTweet\n",
    "    df_temp_master.loc[idx,'year'] = row.timestamp.year\n",
    "    df_temp_master.loc[idx,'month'] = row.timestamp.month\n",
    "    # print(str() + str(row.timestamp.year)"
   ]
  },
  {
   "cell_type": "code",
   "execution_count": 109,
   "metadata": {},
   "outputs": [
    {
     "name": "stdout",
     "output_type": "stream",
     "text": [
      "<class 'pandas.core.frame.DataFrame'>\n",
      "Int64Index: 1975 entries, 890240255349198849 to 666020888022790149\n",
      "Data columns (total 16 columns):\n",
      "in_reply_to_status_id    1975 non-null int64\n",
      "in_reply_to_user_id      1975 non-null int64\n",
      "timestamp                1975 non-null datetime64[ns, UTC]\n",
      "source                   1975 non-null object\n",
      "text                     1975 non-null object\n",
      "expanded_urls            1975 non-null object\n",
      "rating_numerator         1975 non-null int64\n",
      "rating_denominator       1975 non-null int64\n",
      "name                     1975 non-null object\n",
      "DogStage                 1975 non-null object\n",
      "tweet_url                1975 non-null object\n",
      "retweet_count            1975 non-null int64\n",
      "favorite_count           1975 non-null int64\n",
      "time_Delta               1975 non-null timedelta64[ns]\n",
      "year                     1975 non-null float64\n",
      "month                    1975 non-null float64\n",
      "dtypes: datetime64[ns, UTC](1), float64(2), int64(6), object(6), timedelta64[ns](1)\n",
      "memory usage: 342.3+ KB\n"
     ]
    }
   ],
   "source": [
    "#type(df_temp_master['time_Delta'])\n",
    "df_temp_master['time_Delta'][0:3]\n",
    "df_temp_master.info()"
   ]
  },
  {
   "cell_type": "code",
   "execution_count": 110,
   "metadata": {},
   "outputs": [
    {
     "data": {
      "image/png": "[encoded data removed]",
      "text/plain": [
       "<Figure size 864x504 with 1 Axes>"
      ]
     },
     "metadata": {
      "needs_background": "light"
     },
     "output_type": "display_data"
    }
   ],
   "source": [
    "def plot_favorites_vs_day():\n",
    "    \n",
    "    # remove outliers (i.e., tweets with # favorites near the bounds of the distribution)\n",
    "    lower_bound = 0.05\n",
    "    upper_bound = 0.95\n",
    "    mask1 = df_temp_master['favorite_count'] > df_temp_master.favorite_count.quantile(0.05)\n",
    "    mask2 = df_temp_master['favorite_count'] < df_temp_master.favorite_count.quantile(0.95)\n",
    "    df_master_no_outliers = df_temp_master[mask1 & mask2]\n",
    "    \n",
    "    fig, ax = plt.subplots(1, 1, figsize=(12, 7))\n",
    "    \n",
    "    x = df_master_no_outliers['time_Delta'].dt.days\n",
    "    y = df_master_no_outliers['favorite_count']\n",
    "\n",
    "    plt.scatter(x, y, alpha=0.3);\n",
    "\n",
    "    z = np.polyfit(x, y, 1)                    # add a linear trendline\n",
    "    p = np.poly1d(z)\n",
    "    plt.plot(x,p(x),\"r--\")\n",
    "    label = \"Linear Fit\"\n",
    "    plt.text(600, 17500, label, fontsize=14, color='red')\n",
    "    \n",
    "    plt.xticks(fontsize=16)                    # add yticks, ylabels, and x-axis label\n",
    "    plt.yticks(fontsize=16)\n",
    "    plt.xlabel('Time After First Tweet (days)', fontsize=16)\n",
    "    plt.ylabel('Favorites', fontsize=16)\n",
    "    \n",
    "    ax.spines['top'].set_visible(False)        # de-clutter chart / reduce data-to-ink ratio\n",
    "    ax.spines['right'].set_visible(False)\n",
    "\n",
    "plot_favorites_vs_day()"
   ]
  },
  {
   "cell_type": "markdown",
   "metadata": {},
   "source": [
    "###### plot_favorites_per_tweet_by_day()"
   ]
  },
  {
   "cell_type": "markdown",
   "metadata": {},
   "source": [
    "<a id='analysis_tweets_grouped_by_breed'></a>\n",
    "([Top of Page](#top_of_page))\n",
    "\n",
    "### (add explanation) Tweets vs. Breed Type\n",
    "\n",
    "* bullet 1\n",
    "* bullet 2"
   ]
  },
  {
   "cell_type": "code",
   "execution_count": 111,
   "metadata": {},
   "outputs": [],
   "source": [
    "# # create a copy for debugging purposes\n",
    "# df_temp_images = df_images.copy(deep=True)\n",
    "# df_temp_images.info()\n",
    "# df_temp_images.head()"
   ]
  },
  {
   "cell_type": "markdown",
   "metadata": {},
   "source": [
    "* Reference for [creating horizontal plots with Matplotlib](https://pythonspot.com/matplotlib-bar-chart/)\n",
    "* Reference for [adding vertical axis lines to a horizontal plot](https://mode.com/example-gallery/python_horizontal_bar/)\n",
    "* Reference for [Map, Filter, Lambda, and List Comprehensions in Python](http://www.u.arizona.edu/~erdmann/mse350/topics/list_comprehensions.html)"
   ]
  },
  {
   "cell_type": "code",
   "execution_count": 112,
   "metadata": {},
   "outputs": [
    {
     "data": {
      "image/png": "[encoded data removed]",
      "text/plain": [
       "<Figure size 864x504 with 1 Axes>"
      ]
     },
     "metadata": {
      "needs_background": "light"
     },
     "output_type": "display_data"
    }
   ],
   "source": [
    "def plot_tweets_vs_breedType():\n",
    "    # df of tweets for which the neural network has a high degree of confidence\n",
    "    numBreeds = 10\n",
    "    breedsToAnalyze = df_images[df_images['p1_conf'] > 0.50]\n",
    "    breedsToAnalyze_topTen = breedsToAnalyze.p1.value_counts()[0:numBreeds]\n",
    "\n",
    "    y_pos = np.arange(0,numBreeds)                           # vertical position of horizontal bars\n",
    "    #y_pos = np.arange(len(breedsToAnalyze_topTen))              # alternative approach\n",
    "    num_Tweets = breedsToAnalyze_topTen.values.tolist()      # define length of bars\n",
    "    \n",
    "    fig, ax = plt.subplots(1, 1, figsize=(12, 7))            # define figure, axis, and plot objects\n",
    "    plt.barh(y_pos, num_Tweets, align='center', alpha=0.8)\n",
    "    \n",
    "    # correct capitalization and underscore issues in breed names\n",
    "    labels = [x.replace('_', ' ').title() for x in breedsToAnalyze_topTen.index.tolist()]\n",
    "    \n",
    "    plt.yticks(y_pos, labels, fontsize=14)                  # add / format ticks and labels\n",
    "    plt.xlabel('Number of Tweets', fontsize=14)\n",
    "    plt.xticks(fontsize=14)\n",
    "    \n",
    "    ax.spines['top'].set_visible(False)        # de-clutter chart / reduce data-to-ink ratio\n",
    "    ax.spines['bottom'].set_visible(False)\n",
    "    ax.spines['right'].set_visible(False)\n",
    "    ax.spines['left'].set_visible(False)\n",
    "    \n",
    "    # Draw vertical axis lines\n",
    "    vals = ax.get_xticks()\n",
    "    for tick in vals:\n",
    "        ax.axvline(x=tick, linestyle='-', alpha=0.1, color='gray', zorder=11)\n",
    "    \n",
    "    plt.show()\n",
    "\n",
    "plot_tweets_vs_breedType()"
   ]
  },
  {
   "cell_type": "markdown",
   "metadata": {},
   "source": [
    "<a id='analysis_histogram_favorites'></a>\n",
    "([Top of Page](#top_of_page))\n",
    "\n",
    "### (in progress) Histogram of Favorite Counts\n",
    "\n",
    "* bullet 1\n",
    "* bullet 2"
   ]
  },
  {
   "cell_type": "code",
   "execution_count": 113,
   "metadata": {},
   "outputs": [
    {
     "data": {
      "image/png": "[encoded data removed]",
      "text/plain": [
       "<Figure size 792x612 with 1 Axes>"
      ]
     },
     "metadata": {
      "needs_background": "light"
     },
     "output_type": "display_data"
    }
   ],
   "source": [
    "plt.figure(1, figsize = (11, 8.5))\n",
    "\n",
    "# bin_edges = 10 ** np.arange(0.8, np.log10(data.max())+0.1, 0.1)\n",
    "# plt.hist(data, bins = bin_edges)\n",
    "# plt.xscale('log')\n",
    "# tick_locs = [10, 30, 100, 300, 1000, 3000]\n",
    "# plt.xticks(tick_locs, tick_locs)\n",
    "\n",
    "bin_edges = 10 ** np.arange(0.8, np.log10(df_temp_master.favorite_count.max())+0.1, 0.1)\n",
    "#bin_edges = 10 ** np.arange(0.8, np.log10(df_temp_master.favorite_count.max())+0.1, 0.1)\n",
    "plt.hist(df_temp_master.favorite_count, bins = bin_edges)\n",
    "plt.xscale('log')\n",
    "\n",
    "tick_locs = [10, 30, 100, 300, 1000, 3000, 10000, 30000, 100000]\n",
    "plt.xticks(tick_locs, tick_locs)\n",
    "\n",
    "#plt.hist(x = df_temp_master.favorite_count, bins = 100)\n",
    "plt.title('Distribution of Favorite Counts')\n",
    "plt.xlabel('Favorite Counts')\n",
    "plt.ylabel('Frequency')\n",
    "plt.show()"
   ]
  },
  {
   "cell_type": "code",
   "execution_count": 119,
   "metadata": {},
   "outputs": [
    {
     "name": "stderr",
     "output_type": "stream",
     "text": [
      "/anaconda3/envs/py3_w_tweepy/lib/python3.7/site-packages/numpy/lib/histograms.py:893: RuntimeWarning: invalid value encountered in true_divide\n",
      "  return n/db/n.sum(), bin_edges\n"
     ]
    },
    {
     "data": {
      "image/png": "[encoded data removed]",
      "text/plain": [
       "<Figure size 432x288 with 1 Axes>"
      ]
     },
     "metadata": {
      "needs_background": "light"
     },
     "output_type": "display_data"
    }
   ],
   "source": [
    "bin_edges = 10 ** np.arange(0.8, np.log10(df_temp_master.favorite_count.max())+0.1, 0.1)\n",
    "#bin_edges = np.arange(0, df_temp_master.favorite_count.max()+1, 1)\n",
    "sb.distplot(np.log10(df_temp_master.favorite_count), bins = bin_edges);\n",
    "\n",
    "plt.xscale('log')\n",
    "#tick_locs = [10, 30, 100, 300, 1000, 3000, 10000, 30000, 100000]\n",
    "#plt.xticks(tick_locs, tick_locs)\n",
    "\n",
    "#sb.distplot(df_temp_master.favorite_count, bins = bin_edges,\n",
    "#            hist_kws = {'alpha' : 1})"
   ]
  },
  {
   "cell_type": "code",
   "execution_count": null,
   "metadata": {},
   "outputs": [],
   "source": []
  },
  {
   "cell_type": "code",
   "execution_count": null,
   "metadata": {},
   "outputs": [],
   "source": [
    "# to_log = ['favorite_count', 'retweet_count']\n",
    "# df_logged = tweet_archive_clean[to_log].applymap(lambda x: np.log10(x))\n",
    "# \n",
    "# plt.hist(x = df_logged.favorite_count, bins = 100)\n",
    "# plt.show()"
   ]
  },
  {
   "cell_type": "code",
   "execution_count": 128,
   "metadata": {},
   "outputs": [
    {
     "data": {
      "image/png": "[encoded data removed]",
      "text/plain": [
       "<Figure size 432x288 with 1 Axes>"
      ]
     },
     "metadata": {
      "needs_background": "light"
     },
     "output_type": "display_data"
    }
   ],
   "source": [
    "# to_log = ['favorite_count', 'retweet_count']\n",
    "# df_logged = tweet_archive_clean[to_log].applymap(lambda x: np.log10(x))\n",
    "\n",
    "data = np.log10(df_temp_master.favorite_count)\n",
    "#plt.figure(1, figsize = (11, 8.5))\n",
    "plt.hist(data, bins = 100)\n",
    "#plt.hist(x = df_temp_master.favorite_count, bins = 100)\n",
    "plt.title('Distribution of Favorite Counts')\n",
    "plt.xlabel('log(favorite_count)')\n",
    "plt.ylabel('Frequency')\n",
    "plt.show()"
   ]
  },
  {
   "cell_type": "code",
   "execution_count": null,
   "metadata": {},
   "outputs": [],
   "source": []
  },
  {
   "cell_type": "code",
   "execution_count": null,
   "metadata": {},
   "outputs": [],
   "source": []
  },
  {
   "cell_type": "markdown",
   "metadata": {},
   "source": [
    "<a id='analysis_tweets_per_week'></a>\n",
    "([Top of Page](#top_of_page))\n",
    "\n",
    "### (in progress) Tweets per week\n",
    "\n",
    "* bullet 1\n",
    "* bullet 2"
   ]
  },
  {
   "cell_type": "code",
   "execution_count": 182,
   "metadata": {},
   "outputs": [],
   "source": [
    "# define new columns\n",
    "df_temp_master.time_Delta = pd.Series(list(range(len(df_temp_master))))\n",
    "df_temp_master.year = pd.Series(list(range(len(df_temp_master))))\n",
    "df_temp_master.month = pd.Series(list(range(len(df_temp_master))))\n",
    "\n",
    "# find timestamp of first tweet\n",
    "timestamp_firstTweet = df_temp_master.timestamp.min()\n",
    "\n",
    "# calculate timeDelta since first tweet. Also extract year and month of the given tweet\n",
    "for idx, row in df_temp_master.iterrows():\n",
    "    df_temp_master.loc[idx,'time_Delta'] = row.timestamp - timestamp_firstTweet\n",
    "    df_temp_master.loc[idx,'year'] = row.timestamp.year\n",
    "    df_temp_master.loc[idx,'month'] = row.timestamp.month\n",
    "    # print(str() + str(row.timestamp.year)"
   ]
  },
  {
   "cell_type": "code",
   "execution_count": 183,
   "metadata": {},
   "outputs": [
    {
     "data": {
      "text/html": [
       "<div>\n",
       "<style scoped>\n",
       "    .dataframe tbody tr th:only-of-type {\n",
       "        vertical-align: middle;\n",
       "    }\n",
       "\n",
       "    .dataframe tbody tr th {\n",
       "        vertical-align: top;\n",
       "    }\n",
       "\n",
       "    .dataframe thead th {\n",
       "        text-align: right;\n",
       "    }\n",
       "</style>\n",
       "<table border=\"1\" class=\"dataframe\">\n",
       "  <thead>\n",
       "    <tr style=\"text-align: right;\">\n",
       "      <th></th>\n",
       "      <th>in_reply_to_status_id</th>\n",
       "      <th>in_reply_to_user_id</th>\n",
       "      <th>timestamp</th>\n",
       "      <th>source</th>\n",
       "      <th>text</th>\n",
       "      <th>expanded_urls</th>\n",
       "      <th>rating_numerator</th>\n",
       "      <th>rating_denominator</th>\n",
       "      <th>name</th>\n",
       "      <th>DogStage</th>\n",
       "      <th>tweet_url</th>\n",
       "      <th>retweet_count</th>\n",
       "      <th>favorite_count</th>\n",
       "      <th>time_Delta</th>\n",
       "      <th>year</th>\n",
       "      <th>month</th>\n",
       "    </tr>\n",
       "    <tr>\n",
       "      <th>tweet_id</th>\n",
       "      <th></th>\n",
       "      <th></th>\n",
       "      <th></th>\n",
       "      <th></th>\n",
       "      <th></th>\n",
       "      <th></th>\n",
       "      <th></th>\n",
       "      <th></th>\n",
       "      <th></th>\n",
       "      <th></th>\n",
       "      <th></th>\n",
       "      <th></th>\n",
       "      <th></th>\n",
       "      <th></th>\n",
       "      <th></th>\n",
       "      <th></th>\n",
       "    </tr>\n",
       "  </thead>\n",
       "  <tbody>\n",
       "    <tr>\n",
       "      <th>890240255349198849</th>\n",
       "      <td>0</td>\n",
       "      <td>0</td>\n",
       "      <td>2017-07-26 15:59:51+00:00</td>\n",
       "      <td>&lt;a href=\"http://twitter.com/download/iphone\" r...</td>\n",
       "      <td>This is Cassie. She is a college pup. Studying...</td>\n",
       "      <td>https://twitter.com/dog_rates/status/890240255...</td>\n",
       "      <td>14</td>\n",
       "      <td>10</td>\n",
       "      <td>Cassie</td>\n",
       "      <td>doggo</td>\n",
       "      <td>https://t.co/t1bfwz5S2A</td>\n",
       "      <td>7091</td>\n",
       "      <td>30896</td>\n",
       "      <td>618 days 17:27:43</td>\n",
       "      <td>2017.0</td>\n",
       "      <td>7.0</td>\n",
       "    </tr>\n",
       "    <tr>\n",
       "      <th>884162670584377345</th>\n",
       "      <td>0</td>\n",
       "      <td>0</td>\n",
       "      <td>2017-07-09 21:29:42+00:00</td>\n",
       "      <td>&lt;a href=\"http://twitter.com/download/iphone\" r...</td>\n",
       "      <td>Meet Yogi. He doesn't have any important dog m...</td>\n",
       "      <td>https://twitter.com/dog_rates/status/884162670...</td>\n",
       "      <td>12</td>\n",
       "      <td>10</td>\n",
       "      <td>Yogi</td>\n",
       "      <td>doggo</td>\n",
       "      <td>https://t.co/YSI00BzTBZ</td>\n",
       "      <td>2872</td>\n",
       "      <td>19726</td>\n",
       "      <td>601 days 22:57:34</td>\n",
       "      <td>2017.0</td>\n",
       "      <td>7.0</td>\n",
       "    </tr>\n",
       "  </tbody>\n",
       "</table>\n",
       "</div>"
      ],
      "text/plain": [
       "                    in_reply_to_status_id  in_reply_to_user_id  \\\n",
       "tweet_id                                                         \n",
       "890240255349198849                      0                    0   \n",
       "884162670584377345                      0                    0   \n",
       "\n",
       "                                   timestamp  \\\n",
       "tweet_id                                       \n",
       "890240255349198849 2017-07-26 15:59:51+00:00   \n",
       "884162670584377345 2017-07-09 21:29:42+00:00   \n",
       "\n",
       "                                                               source  \\\n",
       "tweet_id                                                                \n",
       "890240255349198849  <a href=\"http://twitter.com/download/iphone\" r...   \n",
       "884162670584377345  <a href=\"http://twitter.com/download/iphone\" r...   \n",
       "\n",
       "                                                                 text  \\\n",
       "tweet_id                                                                \n",
       "890240255349198849  This is Cassie. She is a college pup. Studying...   \n",
       "884162670584377345  Meet Yogi. He doesn't have any important dog m...   \n",
       "\n",
       "                                                        expanded_urls  \\\n",
       "tweet_id                                                                \n",
       "890240255349198849  https://twitter.com/dog_rates/status/890240255...   \n",
       "884162670584377345  https://twitter.com/dog_rates/status/884162670...   \n",
       "\n",
       "                    rating_numerator  rating_denominator    name DogStage  \\\n",
       "tweet_id                                                                    \n",
       "890240255349198849                14                  10  Cassie    doggo   \n",
       "884162670584377345                12                  10    Yogi    doggo   \n",
       "\n",
       "                                  tweet_url  retweet_count  favorite_count  \\\n",
       "tweet_id                                                                     \n",
       "890240255349198849  https://t.co/t1bfwz5S2A           7091           30896   \n",
       "884162670584377345  https://t.co/YSI00BzTBZ           2872           19726   \n",
       "\n",
       "                          time_Delta    year  month  \n",
       "tweet_id                                             \n",
       "890240255349198849 618 days 17:27:43  2017.0    7.0  \n",
       "884162670584377345 601 days 22:57:34  2017.0    7.0  "
      ]
     },
     "execution_count": 183,
     "metadata": {},
     "output_type": "execute_result"
    }
   ],
   "source": [
    "df_temp_master.head(2)"
   ]
  },
  {
   "cell_type": "markdown",
   "metadata": {},
   "source": [
    "[Here is documentation](https://pandas.pydata.org/pandas-docs/stable/reference/api/pandas.DataFrame.sort_values.html) for the dataframe \"sort values\" function"
   ]
  },
  {
   "cell_type": "code",
   "execution_count": 186,
   "metadata": {},
   "outputs": [
    {
     "data": {
      "text/html": [
       "<div>\n",
       "<style scoped>\n",
       "    .dataframe tbody tr th:only-of-type {\n",
       "        vertical-align: middle;\n",
       "    }\n",
       "\n",
       "    .dataframe tbody tr th {\n",
       "        vertical-align: top;\n",
       "    }\n",
       "\n",
       "    .dataframe thead th {\n",
       "        text-align: right;\n",
       "    }\n",
       "</style>\n",
       "<table border=\"1\" class=\"dataframe\">\n",
       "  <thead>\n",
       "    <tr style=\"text-align: right;\">\n",
       "      <th></th>\n",
       "      <th>in_reply_to_status_id</th>\n",
       "      <th>in_reply_to_user_id</th>\n",
       "      <th>timestamp</th>\n",
       "      <th>source</th>\n",
       "      <th>text</th>\n",
       "      <th>expanded_urls</th>\n",
       "      <th>rating_numerator</th>\n",
       "      <th>rating_denominator</th>\n",
       "      <th>name</th>\n",
       "      <th>DogStage</th>\n",
       "      <th>tweet_url</th>\n",
       "      <th>retweet_count</th>\n",
       "      <th>favorite_count</th>\n",
       "      <th>time_Delta</th>\n",
       "      <th>year</th>\n",
       "      <th>month</th>\n",
       "    </tr>\n",
       "    <tr>\n",
       "      <th>tweet_id</th>\n",
       "      <th></th>\n",
       "      <th></th>\n",
       "      <th></th>\n",
       "      <th></th>\n",
       "      <th></th>\n",
       "      <th></th>\n",
       "      <th></th>\n",
       "      <th></th>\n",
       "      <th></th>\n",
       "      <th></th>\n",
       "      <th></th>\n",
       "      <th></th>\n",
       "      <th></th>\n",
       "      <th></th>\n",
       "      <th></th>\n",
       "      <th></th>\n",
       "    </tr>\n",
       "  </thead>\n",
       "  <tbody>\n",
       "    <tr>\n",
       "      <th>666020888022790149</th>\n",
       "      <td>0</td>\n",
       "      <td>0</td>\n",
       "      <td>2015-11-15 22:32:08+00:00</td>\n",
       "      <td>&lt;a href=\"http://twitter.com/download/iphone\" r...</td>\n",
       "      <td>Here we have a Japanese Irish Setter. Lost eye...</td>\n",
       "      <td>https://twitter.com/dog_rates/status/666020888...</td>\n",
       "      <td>8</td>\n",
       "      <td>10</td>\n",
       "      <td>None</td>\n",
       "      <td>none</td>\n",
       "      <td>https://t.co/BLDqew2Ijj</td>\n",
       "      <td>493</td>\n",
       "      <td>2499</td>\n",
       "      <td>00:00:00</td>\n",
       "      <td>2015.0</td>\n",
       "      <td>11.0</td>\n",
       "    </tr>\n",
       "    <tr>\n",
       "      <th>666029285002620928</th>\n",
       "      <td>0</td>\n",
       "      <td>0</td>\n",
       "      <td>2015-11-15 23:05:30+00:00</td>\n",
       "      <td>&lt;a href=\"http://twitter.com/download/iphone\" r...</td>\n",
       "      <td>This is a western brown Mitsubishi terrier. Up...</td>\n",
       "      <td>https://twitter.com/dog_rates/status/666029285...</td>\n",
       "      <td>7</td>\n",
       "      <td>10</td>\n",
       "      <td>a</td>\n",
       "      <td>none</td>\n",
       "      <td>https://t.co/r7mOb2m0UI</td>\n",
       "      <td>46</td>\n",
       "      <td>124</td>\n",
       "      <td>00:33:22</td>\n",
       "      <td>2015.0</td>\n",
       "      <td>11.0</td>\n",
       "    </tr>\n",
       "    <tr>\n",
       "      <th>666033412701032449</th>\n",
       "      <td>0</td>\n",
       "      <td>0</td>\n",
       "      <td>2015-11-15 23:21:54+00:00</td>\n",
       "      <td>&lt;a href=\"http://twitter.com/download/iphone\" r...</td>\n",
       "      <td>Here is a very happy pup. Big fan of well-main...</td>\n",
       "      <td>https://twitter.com/dog_rates/status/666033412...</td>\n",
       "      <td>9</td>\n",
       "      <td>10</td>\n",
       "      <td>a</td>\n",
       "      <td>none</td>\n",
       "      <td>https://t.co/y671yMhoiR</td>\n",
       "      <td>43</td>\n",
       "      <td>120</td>\n",
       "      <td>00:49:46</td>\n",
       "      <td>2015.0</td>\n",
       "      <td>11.0</td>\n",
       "    </tr>\n",
       "  </tbody>\n",
       "</table>\n",
       "</div>"
      ],
      "text/plain": [
       "                    in_reply_to_status_id  in_reply_to_user_id  \\\n",
       "tweet_id                                                         \n",
       "666020888022790149                      0                    0   \n",
       "666029285002620928                      0                    0   \n",
       "666033412701032449                      0                    0   \n",
       "\n",
       "                                   timestamp  \\\n",
       "tweet_id                                       \n",
       "666020888022790149 2015-11-15 22:32:08+00:00   \n",
       "666029285002620928 2015-11-15 23:05:30+00:00   \n",
       "666033412701032449 2015-11-15 23:21:54+00:00   \n",
       "\n",
       "                                                               source  \\\n",
       "tweet_id                                                                \n",
       "666020888022790149  <a href=\"http://twitter.com/download/iphone\" r...   \n",
       "666029285002620928  <a href=\"http://twitter.com/download/iphone\" r...   \n",
       "666033412701032449  <a href=\"http://twitter.com/download/iphone\" r...   \n",
       "\n",
       "                                                                 text  \\\n",
       "tweet_id                                                                \n",
       "666020888022790149  Here we have a Japanese Irish Setter. Lost eye...   \n",
       "666029285002620928  This is a western brown Mitsubishi terrier. Up...   \n",
       "666033412701032449  Here is a very happy pup. Big fan of well-main...   \n",
       "\n",
       "                                                        expanded_urls  \\\n",
       "tweet_id                                                                \n",
       "666020888022790149  https://twitter.com/dog_rates/status/666020888...   \n",
       "666029285002620928  https://twitter.com/dog_rates/status/666029285...   \n",
       "666033412701032449  https://twitter.com/dog_rates/status/666033412...   \n",
       "\n",
       "                    rating_numerator  rating_denominator  name DogStage  \\\n",
       "tweet_id                                                                  \n",
       "666020888022790149                 8                  10  None     none   \n",
       "666029285002620928                 7                  10     a     none   \n",
       "666033412701032449                 9                  10     a     none   \n",
       "\n",
       "                                  tweet_url  retweet_count  favorite_count  \\\n",
       "tweet_id                                                                     \n",
       "666020888022790149  https://t.co/BLDqew2Ijj            493            2499   \n",
       "666029285002620928  https://t.co/r7mOb2m0UI             46             124   \n",
       "666033412701032449  https://t.co/y671yMhoiR             43             120   \n",
       "\n",
       "                   time_Delta    year  month  \n",
       "tweet_id                                      \n",
       "666020888022790149   00:00:00  2015.0   11.0  \n",
       "666029285002620928   00:33:22  2015.0   11.0  \n",
       "666033412701032449   00:49:46  2015.0   11.0  "
      ]
     },
     "execution_count": 186,
     "metadata": {},
     "output_type": "execute_result"
    }
   ],
   "source": [
    "df_temp_sorted = df_temp_master.sort_values('time_Delta', ascending=True)\n",
    "df_temp_sorted.head(3)"
   ]
  },
  {
   "cell_type": "markdown",
   "metadata": {},
   "source": [
    "* Documentation for [using time series in pandas](https://pandas.pydata.org/pandas-docs/stable/user_guide/timeseries.html)\n",
    "  * This documentation was checked in ordr to understand how to specify the frequency of the \"grouped\" dataframe\n",
    "\n",
    "* [Documentation for using pandas.grouper](https://pandas.pydata.org/pandas-docs/stable/reference/api/pandas.Grouper.html)\n",
    "\n",
    "* Here is a [StackOverflow example](https://stackoverflow.com/questions/45281297/group-by-week-in-pandas) that makes use of both"
   ]
  },
  {
   "cell_type": "code",
   "execution_count": 221,
   "metadata": {},
   "outputs": [
    {
     "data": {
      "text/plain": [
       "timestamp\n",
       "2015-11-30 00:00:00+00:00    296\n",
       "2015-12-31 00:00:00+00:00    366\n",
       "2016-01-31 00:00:00+00:00    169\n",
       "2016-02-29 00:00:00+00:00    111\n",
       "2016-03-31 00:00:00+00:00    120\n",
       "2016-04-30 00:00:00+00:00     54\n",
       "2016-05-31 00:00:00+00:00     56\n",
       "2016-06-30 00:00:00+00:00     79\n",
       "2016-07-31 00:00:00+00:00     85\n",
       "2016-08-31 00:00:00+00:00     59\n",
       "2016-09-30 00:00:00+00:00     63\n",
       "2016-10-31 00:00:00+00:00     64\n",
       "2016-11-30 00:00:00+00:00     51\n",
       "2016-12-31 00:00:00+00:00     52\n",
       "2017-01-31 00:00:00+00:00     65\n",
       "2017-02-28 00:00:00+00:00     62\n",
       "2017-03-31 00:00:00+00:00     47\n",
       "2017-04-30 00:00:00+00:00     39\n",
       "2017-05-31 00:00:00+00:00     43\n",
       "2017-06-30 00:00:00+00:00     43\n",
       "2017-07-31 00:00:00+00:00     49\n",
       "2017-08-31 00:00:00+00:00      2\n",
       "Freq: M, Name: text, dtype: int64"
      ]
     },
     "execution_count": 221,
     "metadata": {},
     "output_type": "execute_result"
    }
   ],
   "source": [
    "df_temp_grouped = df_temp_sorted.groupby([pd.Grouper(key='timestamp', freq='M')])\n",
    "#df_temp_grouped = df_temp_sorted.groupby([pd.Grouper(key='timestamp', freq='W-MON')])['retweet_count'].sum()\n",
    "\n",
    "#df_temp_grouped['text'].count()\n",
    "monthly_tweets = df_temp_grouped['text'].count()\n",
    "monthly_tweets\n",
    "#df_temp_grouped['retweet_count'].sum()\n",
    "#df_temp_grouped['favorite_count'].sum()"
   ]
  },
  {
   "cell_type": "code",
   "execution_count": 224,
   "metadata": {},
   "outputs": [
    {
     "data": {
      "image/png": "[encoded data removed]",
      "text/plain": [
       "<Figure size 792x612 with 1 Axes>"
      ]
     },
     "metadata": {
      "needs_background": "light"
     },
     "output_type": "display_data"
    }
   ],
   "source": [
    "#len(monthly_tweets)\n",
    "\n",
    "month_num = list(range(len(monthly_tweets)))\n",
    "# smonth = ['11/2015', '12/2015', '1/2016', '2/2016', '3/2016', '4/2016', ]\n",
    "# tweets_per_month=[264, 332, 157, 102, 113, 54, 55, 78, 87, 58, 63, 65, 52, 54, 66, 64, 47, 40, 42, 44, 49, 2]\n",
    "plt.figure(1, figsize = (11, 8.5))\n",
    "plt.plot(month_num, monthly_tweets, marker= 'o', ms=3)\n",
    "plt.title('Tweets per Month Over Time')\n",
    "plt.xlabel('Month (Number of Months since Account\\'s creation)')\n",
    "plt.ylabel('Number of Tweets')\n",
    "plt.show()"
   ]
  },
  {
   "cell_type": "code",
   "execution_count": null,
   "metadata": {},
   "outputs": [],
   "source": []
  },
  {
   "cell_type": "code",
   "execution_count": null,
   "metadata": {},
   "outputs": [],
   "source": []
  },
  {
   "cell_type": "code",
   "execution_count": null,
   "metadata": {},
   "outputs": [],
   "source": []
  },
  {
   "cell_type": "code",
   "execution_count": null,
   "metadata": {},
   "outputs": [],
   "source": []
  },
  {
   "cell_type": "code",
   "execution_count": null,
   "metadata": {},
   "outputs": [],
   "source": []
  },
  {
   "cell_type": "code",
   "execution_count": null,
   "metadata": {},
   "outputs": [],
   "source": []
  },
  {
   "cell_type": "code",
   "execution_count": null,
   "metadata": {},
   "outputs": [],
   "source": [
    "# # group by quarterly periods and find the mean of each period\n",
    "# housing_df = (housing_df.groupby(pd.PeriodIndex(housing_df.columns, freq='Q'), axis=1)\n",
    "#                   .mean()\n",
    "#                   .rename(columns=lambda c: str(c).lower()))\n",
    "# # (1) https://stackoverflow.com/questions/40497199/how-to-convert-monthly-data-to-quarterly-in-pandas\n",
    "# # (2) https://stackoverflow.com/questions/41661451/pandas-compute-the-half-yearly-average-of-monthly-collected-house-sales\n",
    "# # (3) https://pandas.pydata.org/pandas-docs/stable/reference/api/pandas.PeriodIndex.html"
   ]
  },
  {
   "cell_type": "code",
   "execution_count": null,
   "metadata": {},
   "outputs": [],
   "source": []
  },
  {
   "cell_type": "code",
   "execution_count": null,
   "metadata": {},
   "outputs": [],
   "source": []
  },
  {
   "cell_type": "code",
   "execution_count": 181,
   "metadata": {},
   "outputs": [],
   "source": [
    "#df_temp_master.head(2)"
   ]
  },
  {
   "cell_type": "code",
   "execution_count": 143,
   "metadata": {},
   "outputs": [
    {
     "name": "stdout",
     "output_type": "stream",
     "text": [
      "2017-07-09 21:29:42+00:00\n",
      "2017\n",
      "27\n",
      "9\n"
     ]
    }
   ],
   "source": [
    "# df_temp_master.index[1]   # 884162670584377345\n",
    "print(df_temp_master.iloc[1].timestamp)\n",
    "print(df_temp_master.iloc[1].timestamp.year)\n",
    "print(df_temp_master.iloc[1].timestamp.week)\n",
    "print(df_temp_master.iloc[1].timestamp.day)"
   ]
  },
  {
   "cell_type": "code",
   "execution_count": 149,
   "metadata": {},
   "outputs": [
    {
     "data": {
      "text/plain": [
       "count                          1975\n",
       "unique                         1975\n",
       "top       2016-08-04 22:52:29+00:00\n",
       "freq                              1\n",
       "first     2015-11-15 22:32:08+00:00\n",
       "last      2017-08-01 16:23:56+00:00\n",
       "Name: timestamp, dtype: object"
      ]
     },
     "execution_count": 149,
     "metadata": {},
     "output_type": "execute_result"
    }
   ],
   "source": [
    "# df_temp_master.index[0]   # 890240255349198849\n",
    "df_temp_master.timestamp.describe()\n",
    "# print(df_temp_master.iloc[0].timestamp)\n",
    "# print(df_temp_master.iloc[0].timestamp.year)\n",
    "# print(df_temp_master.iloc[0].timestamp.week)\n",
    "# print(df_temp_master.iloc[0].timestamp.day)"
   ]
  },
  {
   "cell_type": "code",
   "execution_count": 161,
   "metadata": {},
   "outputs": [
    {
     "data": {
      "text/plain": [
       "pandas._libs.tslibs.timedeltas.Timedelta"
      ]
     },
     "execution_count": 161,
     "metadata": {},
     "output_type": "execute_result"
    }
   ],
   "source": [
    "type(df_temp_master.timestamp.max() - df_temp_master.timestamp.min())"
   ]
  },
  {
   "cell_type": "code",
   "execution_count": 164,
   "metadata": {},
   "outputs": [
    {
     "data": {
      "text/plain": [
       "Timedelta('624 days 17:51:48')"
      ]
     },
     "execution_count": 164,
     "metadata": {},
     "output_type": "execute_result"
    }
   ],
   "source": [
    "diff = df_temp_master.timestamp.max() - df_temp_master.timestamp.min()\n",
    "diff"
   ]
  },
  {
   "cell_type": "code",
   "execution_count": 173,
   "metadata": {},
   "outputs": [
    {
     "data": {
      "text/plain": [
       "int"
      ]
     },
     "execution_count": 173,
     "metadata": {},
     "output_type": "execute_result"
    }
   ],
   "source": [
    "type(diff.days)"
   ]
  },
  {
   "cell_type": "code",
   "execution_count": 176,
   "metadata": {},
   "outputs": [
    {
     "data": {
      "text/plain": [
       "Timedelta('618 days 17:27:43')"
      ]
     },
     "execution_count": 176,
     "metadata": {},
     "output_type": "execute_result"
    }
   ],
   "source": [
    "df_temp_master.iloc[0].timestamp - df_temp_master.timestamp.min()"
   ]
  },
  {
   "cell_type": "code",
   "execution_count": null,
   "metadata": {},
   "outputs": [],
   "source": [
    "# # group by quarterly periods and find the mean of each period\n",
    "# housing_df = (housing_df.groupby(pd.PeriodIndex(housing_df.columns, freq='Q'), axis=1)\n",
    "#                   .mean()\n",
    "#                   .rename(columns=lambda c: str(c).lower()))\n",
    "# # (1) https://stackoverflow.com/questions/40497199/how-to-convert-monthly-data-to-quarterly-in-pandas\n",
    "# # (2) https://stackoverflow.com/questions/41661451/pandas-compute-the-half-yearly-average-of-monthly-collected-house-sales\n",
    "# # (3) https://pandas.pydata.org/pandas-docs/stable/reference/api/pandas.PeriodIndex.html"
   ]
  },
  {
   "cell_type": "code",
   "execution_count": null,
   "metadata": {},
   "outputs": [],
   "source": []
  },
  {
   "cell_type": "code",
   "execution_count": null,
   "metadata": {},
   "outputs": [],
   "source": []
  },
  {
   "cell_type": "code",
   "execution_count": null,
   "metadata": {},
   "outputs": [],
   "source": []
  },
  {
   "cell_type": "code",
   "execution_count": null,
   "metadata": {},
   "outputs": [],
   "source": []
  },
  {
   "cell_type": "code",
   "execution_count": null,
   "metadata": {},
   "outputs": [],
   "source": []
  },
  {
   "cell_type": "code",
   "execution_count": null,
   "metadata": {},
   "outputs": [],
   "source": [
    "df_temp_master.groupby(['month', 'year']).tweet_id.count()"
   ]
  },
  {
   "cell_type": "code",
   "execution_count": null,
   "metadata": {},
   "outputs": [],
   "source": [
    "# nmonth = list(range(22))\n",
    "# smonth = ['11/2015', '12/2015', '1/2016', '2/2016', '3/2016', '4/2016', ]\n",
    "# tweets_per_month=[264, 332, 157, 102, 113, 54, 55, 78, 87, 58, 63, 65, 52, 54, 66, 64, 47, 40, 42, 44, 49, 2]\n",
    "# plt.figure(1, figsize = (11, 8.5))\n",
    "# plt.plot(nmonth, tweets_per_month, marker= 'o', ms=3)\n",
    "# plt.title('Tweets per Month Over Time')\n",
    "# plt.xlabel('Month (Number of Months since Account\\'s creation)')\n",
    "# plt.ylabel('Number of Tweets')\n",
    "# plt.show()"
   ]
  },
  {
   "cell_type": "code",
   "execution_count": null,
   "metadata": {},
   "outputs": [],
   "source": []
  },
  {
   "cell_type": "code",
   "execution_count": null,
   "metadata": {},
   "outputs": [],
   "source": []
  },
  {
   "cell_type": "code",
   "execution_count": null,
   "metadata": {},
   "outputs": [],
   "source": []
  },
  {
   "cell_type": "code",
   "execution_count": null,
   "metadata": {},
   "outputs": [],
   "source": []
  },
  {
   "cell_type": "code",
   "execution_count": null,
   "metadata": {},
   "outputs": [],
   "source": []
  },
  {
   "cell_type": "code",
   "execution_count": null,
   "metadata": {},
   "outputs": [],
   "source": []
  },
  {
   "cell_type": "code",
   "execution_count": null,
   "metadata": {},
   "outputs": [],
   "source": []
  },
  {
   "cell_type": "code",
   "execution_count": null,
   "metadata": {},
   "outputs": [],
   "source": [
    "plt.hist(x = df_master.rating_numerator, bins = 2000)\n",
    "plt.xlim(0,20)\n",
    "plt.show()\n",
    "print(df_master.rating_numerator.value_counts())"
   ]
  },
  {
   "cell_type": "code",
   "execution_count": null,
   "metadata": {},
   "outputs": [],
   "source": []
  },
  {
   "cell_type": "code",
   "execution_count": null,
   "metadata": {},
   "outputs": [],
   "source": []
  },
  {
   "cell_type": "code",
   "execution_count": null,
   "metadata": {},
   "outputs": [],
   "source": []
  },
  {
   "cell_type": "code",
   "execution_count": null,
   "metadata": {},
   "outputs": [],
   "source": []
  },
  {
   "cell_type": "code",
   "execution_count": null,
   "metadata": {},
   "outputs": [],
   "source": []
  },
  {
   "cell_type": "code",
   "execution_count": null,
   "metadata": {},
   "outputs": [],
   "source": []
  },
  {
   "cell_type": "code",
   "execution_count": null,
   "metadata": {},
   "outputs": [],
   "source": []
  },
  {
   "cell_type": "code",
   "execution_count": null,
   "metadata": {},
   "outputs": [],
   "source": []
  },
  {
   "cell_type": "code",
   "execution_count": null,
   "metadata": {},
   "outputs": [],
   "source": []
  },
  {
   "cell_type": "code",
   "execution_count": null,
   "metadata": {},
   "outputs": [],
   "source": [
    "def hist_numerators():\n",
    "    plt.hist(x = df_master.rating_numerator, bins = 1000)\n",
    "    plt.xlim(0,20)\n",
    "    plt.show()\n",
    "    print(df_master.rating_numerator.value_counts())"
   ]
  },
  {
   "cell_type": "code",
   "execution_count": null,
   "metadata": {},
   "outputs": [],
   "source": [
    "hist_numerators()"
   ]
  },
  {
   "cell_type": "code",
   "execution_count": null,
   "metadata": {},
   "outputs": [],
   "source": []
  },
  {
   "cell_type": "code",
   "execution_count": null,
   "metadata": {},
   "outputs": [],
   "source": []
  },
  {
   "cell_type": "code",
   "execution_count": null,
   "metadata": {},
   "outputs": [],
   "source": []
  },
  {
   "cell_type": "code",
   "execution_count": null,
   "metadata": {},
   "outputs": [],
   "source": []
  },
  {
   "cell_type": "code",
   "execution_count": null,
   "metadata": {},
   "outputs": [],
   "source": []
  },
  {
   "cell_type": "markdown",
   "metadata": {},
   "source": [
    "<a id='analysis_retweet_count_vs_day'></a>\n",
    "([Top of Page](#top_of_page))\n",
    "\n",
    "### (redact?) Retweet_count vs. Days Since First Tweet\n",
    "\n",
    "* bullet 1\n",
    "* bullet 2"
   ]
  },
  {
   "cell_type": "code",
   "execution_count": null,
   "metadata": {},
   "outputs": [],
   "source": [
    "df_temp_master.info()"
   ]
  },
  {
   "cell_type": "code",
   "execution_count": null,
   "metadata": {},
   "outputs": [],
   "source": [
    "def plot_retweets_per_tweet_by_day():\n",
    "    q = df_temp_master.retweet_count.quantile([0.05, 0.95])\n",
    "\n",
    "    g2_subset = df_temp_master\n",
    "    g2_subset = g2_subset.drop(df_temp_master[df_temp_master['retweet_count'] < q[0.05]].index)\n",
    "    g2_subset = g2_subset.drop(df_temp_master[df_temp_master['retweet_count'] > q[0.95]].index)\n",
    "\n",
    "    fig, ax = plt.subplots(1, 1, figsize=(16, 9))\n",
    "\n",
    "    x = g2_subset['timestamp'].dt.dayofyear + \\\n",
    "        (g2_subset['timestamp'].dt.year-2015)*365-319\n",
    "    y = g2_subset['retweet_count']\n",
    "\n",
    "    plt.scatter(x, y);"
   ]
  },
  {
   "cell_type": "code",
   "execution_count": null,
   "metadata": {},
   "outputs": [],
   "source": [
    "#df_master.describe()\n",
    "#df_master.info()"
   ]
  },
  {
   "cell_type": "code",
   "execution_count": null,
   "metadata": {},
   "outputs": [],
   "source": [
    "df_temp_master.favorite_count = df_temp_master.favorite_count.astype(int)\n",
    "df_temp_master.retweet_count = df_temp_master.retweet_count.astype(int)"
   ]
  },
  {
   "cell_type": "code",
   "execution_count": null,
   "metadata": {},
   "outputs": [],
   "source": [
    "    g2_subset = df_temp_master\n",
    "\n",
    "    fig, ax = plt.subplots(1, 1, figsize=(16, 9))\n",
    "\n",
    "    x = g2_subset['timestamp'].dt.dayofyear + \\\n",
    "        (g2_subset['timestamp'].dt.year-2015)*365-319\n",
    "    y = g2_subset['retweet_count']\n",
    "\n",
    "    plt.scatter(x, y);"
   ]
  },
  {
   "cell_type": "code",
   "execution_count": null,
   "metadata": {},
   "outputs": [],
   "source": []
  },
  {
   "cell_type": "code",
   "execution_count": null,
   "metadata": {},
   "outputs": [],
   "source": [
    "q = df_temp_master.retweet_count.quantile([0.05, 0.95])\n",
    "q.describe()"
   ]
  },
  {
   "cell_type": "code",
   "execution_count": null,
   "metadata": {},
   "outputs": [],
   "source": [
    "df_temp_master.retweet_count.describe()"
   ]
  },
  {
   "cell_type": "code",
   "execution_count": null,
   "metadata": {},
   "outputs": [],
   "source": []
  },
  {
   "cell_type": "code",
   "execution_count": null,
   "metadata": {},
   "outputs": [],
   "source": []
  },
  {
   "cell_type": "code",
   "execution_count": null,
   "metadata": {},
   "outputs": [],
   "source": [
    "plot_retweets_per_tweet_by_day()"
   ]
  },
  {
   "cell_type": "code",
   "execution_count": null,
   "metadata": {},
   "outputs": [],
   "source": []
  },
  {
   "cell_type": "code",
   "execution_count": null,
   "metadata": {},
   "outputs": [],
   "source": []
  },
  {
   "cell_type": "code",
   "execution_count": null,
   "metadata": {},
   "outputs": [],
   "source": []
  },
  {
   "cell_type": "code",
   "execution_count": null,
   "metadata": {},
   "outputs": [],
   "source": [
    "# def plot_retweets_per_tweet_by_day():\n",
    "#     q = df_master.retweet_count.quantile([0.05, 0.95])\n",
    "# \n",
    "#     g2_subset = df_master\n",
    "#     g2_subset = g2_subset.drop(df_master[df_master['retweet_count'] < q[0.05]].index)\n",
    "#     g2_subset = g2_subset.drop(df_master[df_master['retweet_count'] > q[0.95]].index)\n",
    "# \n",
    "#     fig, ax = plt.subplots(1, 1, figsize=(16, 9))\n",
    "# \n",
    "#     ax.spines['top'].set_visible(False)\n",
    "#     ax.spines['bottom'].set_visible(False)\n",
    "#     ax.spines['right'].set_visible(False)\n",
    "#     ax.spines['left'].set_visible(False)\n",
    "# \n",
    "#     x = g2_subset['timestamp'].dt.dayofyear + \\\n",
    "#         (g2_subset['timestamp'].dt.year-2015)*365-319\n",
    "#     y = g2_subset['retweet_count']\n",
    "# \n",
    "#     plt.scatter(x, y);\n",
    "# \n",
    "#     #z = np.polyfit(x, y, 1)\n",
    "#     #p = np.poly1d(z)\n",
    "#     #plt.plot(x,p(x),\"r--\")\n",
    "# \n",
    "#     #label = \"retweets = %.0f * days + %.0f\"%(z[0],z[1])\n",
    "# \n",
    "#     #plt.text(630, 5220, label, fontsize=18, color='red')\n",
    "#     plt.xticks(fontsize=18)\n",
    "#     plt.yticks(fontsize=18)\n",
    "#     plt.xlabel('Days Since First Tweet', fontsize=18)\n",
    "#     plt.ylabel('Retweets per Tweet', fontsize=18)\n",
    "#     # fig.suptitle('Retweets by Days Since First Tweet', fontsize=24, ha='center');"
   ]
  },
  {
   "cell_type": "code",
   "execution_count": null,
   "metadata": {},
   "outputs": [],
   "source": [
    "# def plot_retweets_per_tweet_by_day():\n",
    "#     q = tweets_clean.retweets.quantile([0.05, 0.95])\n",
    "# \n",
    "#     g2_subset = tweets_clean\n",
    "#     g2_subset = g2_subset.drop(tweets_clean[tweets_clean['retweets'] < q[0.05]].index)\n",
    "#     g2_subset = g2_subset.drop(tweets_clean[tweets_clean['retweets'] > q[0.95]].index)\n",
    "# \n",
    "#     fig, ax = plt.subplots(1, 1, figsize=(16, 9))\n",
    "# \n",
    "#     ax.spines['top'].set_visible(False)\n",
    "#     ax.spines['bottom'].set_visible(False)\n",
    "#     ax.spines['right'].set_visible(False)\n",
    "#     ax.spines['left'].set_visible(False)\n",
    "# \n",
    "#     x = g2_subset['timestamp'].dt.dayofyear + \\\n",
    "#         (g2_subset['timestamp'].dt.year-2015)*365-319\n",
    "#     y = g2_subset['retweets']\n",
    "# \n",
    "#     plt.scatter(x, y);\n",
    "# \n",
    "#     z = np.polyfit(x, y, 1)\n",
    "#     p = np.poly1d(z)\n",
    "#     plt.plot(x,p(x),\"r--\")\n",
    "# \n",
    "#     label = \"retweets = %.0f * days + %.0f\"%(z[0],z[1])\n",
    "# \n",
    "#     plt.text(630, 5220, label, fontsize=18, color='red')\n",
    "#     plt.xticks(fontsize=18)\n",
    "#     plt.yticks(fontsize=18)\n",
    "#     plt.xlabel('Days Since First Tweet', fontsize=18)\n",
    "#     plt.ylabel('Retweets per Tweet', fontsize=18)\n",
    "#     # fig.suptitle('Retweets by Days Since First Tweet', fontsize=24, ha='center');"
   ]
  },
  {
   "cell_type": "code",
   "execution_count": null,
   "metadata": {},
   "outputs": [],
   "source": []
  },
  {
   "cell_type": "code",
   "execution_count": null,
   "metadata": {},
   "outputs": [],
   "source": []
  },
  {
   "cell_type": "code",
   "execution_count": null,
   "metadata": {},
   "outputs": [],
   "source": []
  },
  {
   "cell_type": "code",
   "execution_count": null,
   "metadata": {},
   "outputs": [],
   "source": []
  },
  {
   "cell_type": "code",
   "execution_count": null,
   "metadata": {},
   "outputs": [],
   "source": []
  },
  {
   "cell_type": "code",
   "execution_count": null,
   "metadata": {},
   "outputs": [],
   "source": []
  },
  {
   "cell_type": "code",
   "execution_count": null,
   "metadata": {},
   "outputs": [],
   "source": []
  },
  {
   "cell_type": "code",
   "execution_count": null,
   "metadata": {},
   "outputs": [],
   "source": [
    "tweetsKeep = set(df_images_orig.tweet_id)\n",
    "tweetsKeep."
   ]
  },
  {
   "cell_type": "code",
   "execution_count": null,
   "metadata": {},
   "outputs": [],
   "source": []
  },
  {
   "cell_type": "code",
   "execution_count": null,
   "metadata": {},
   "outputs": [],
   "source": []
  },
  {
   "cell_type": "code",
   "execution_count": null,
   "metadata": {},
   "outputs": [],
   "source": [
    "tweetsKeep = set(df_images_orig.tweet_id)\n",
    "print('# of tweets to keep = ' + str(len(tweetsKeep)))\n",
    "\n",
    "# df_archive = df_archive[df_archive.tweet_id.isin(df_images.tweet_id)]\n",
    "# df_tweetInfo = df_tweetInfo[df_tweetInfo.tweet_id.isin(df_images.tweet_id)]\n",
    "# len(df_tweetInfo)\n",
    "\n",
    "numTweets_archive_and_images = len(df_archive[df_archive.tweet_id.isin(df_images.tweet_id)])\n",
    "#numTweets_tweetInfo_and_images = len(df_tweetInfo[df_tweetInfo.tweet_id.isin(df_images.tweet_id)])\n",
    "\n",
    "mask = df_tweetInfo.tweet_id.isin(df_images.tweet_id)\n",
    "numTweets_tweetInfo_and_images = len(df_tweetInfo[mask])\n",
    "\n",
    "tweetsKeep = df_tweetInfo[df_tweetInfo.tweet_id.isin(df_images.tweet_id)]\n",
    "\n",
    "print('len(tweetInfo): ' + str(len(df_tweetInfo)))\n",
    "print(numTweets_archive_and_images)\n",
    "print(numTweets_tweetInfo_and_images)"
   ]
  },
  {
   "cell_type": "code",
   "execution_count": null,
   "metadata": {},
   "outputs": [],
   "source": [
    "df_archive = df_archive_orig.copy(deep=True)\n",
    "df_images = df_images_orig.copy(deep=True)\n",
    "df_tweetInfo = df_tweetInfo_orig.copy(deep=True)\n",
    "print(len(df_archive))\n",
    "print(len(df_images))\n",
    "print(len(df_tweetInfo))"
   ]
  },
  {
   "cell_type": "markdown",
   "metadata": {},
   "source": [
    "Prior to joining the dataframes, check to make sure that they do not share column names."
   ]
  },
  {
   "cell_type": "code",
   "execution_count": null,
   "metadata": {},
   "outputs": [],
   "source": [
    "print(df_archive.columns)\n",
    "print('--------------------------------------------------------')\n",
    "print(df_images.columns)\n",
    "print('--------------------------------------------------------')\n",
    "print(df_tweetInfo.columns)"
   ]
  },
  {
   "cell_type": "markdown",
   "metadata": {},
   "source": [
    "The only shared column name is 'tweet_id'. This will be the column that the dataframes are joined on."
   ]
  },
  {
   "cell_type": "markdown",
   "metadata": {},
   "source": [
    "Reference: StackOverflow post on [how to merge dataframes and avoid duplicating columns](https://stackoverflow.com/questions/19125091/pandas-merge-how-to-avoid-duplicating-columns)"
   ]
  },
  {
   "cell_type": "code",
   "execution_count": null,
   "metadata": {},
   "outputs": [],
   "source": [
    "df_master = pd.merge(df_archive, df_images, how='inner', on='tweet_id')\n",
    "cols_to_use = df_tweetInfo.columns.difference(df_master.columns)\n",
    "print(cols_to_use)\n",
    "\n",
    "df_master = pd.merge(df_master, df_tweetInfo[cols_to_use], left_index=True, right_index=True, how='inner')\n",
    "print('---------------------------------------------------------------------')\n",
    "print(df_master.columns)\n",
    "print(len(df_master))"
   ]
  },
  {
   "cell_type": "code",
   "execution_count": null,
   "metadata": {},
   "outputs": [],
   "source": []
  },
  {
   "cell_type": "code",
   "execution_count": null,
   "metadata": {},
   "outputs": [],
   "source": [
    "df_new = pd.merge(df_archive, df_images, how='inner', on='tweet_id')\n",
    "df_new2 = pd.merge(df_tweetInfo, df_images, how='inner', on='tweet_id')\n",
    "\n",
    "cols_to_use = df_new2.columns.difference(df_new.columns)\n",
    "print(cols_to_use)\n",
    "#print(len(df_new))\n",
    "#print(len(df_new2))\n",
    "#df_new2 = pd.merge(df_tweetInfo, df_images, how='inner', on='tweet_id')\n",
    "#df_new3 = pd.merge(df_new, df_new2[cols_to_use], how='outer', on='tweet_id')\n",
    "df_new3 = pd.merge(df_new, df_new2[cols_to_use], left_index=True, right_index=True, how='outer')\n",
    "print('---------------------------------------------------------------------')\n",
    "print(df_new.columns)\n",
    "print('---------------------------------------------------------------------')\n",
    "print(df_new2.columns)\n",
    "print('---------------------------------------------------------------------')\n",
    "print(df_new3.columns)\n",
    "#df_new2[cols_to_use]"
   ]
  },
  {
   "cell_type": "code",
   "execution_count": null,
   "metadata": {},
   "outputs": [],
   "source": []
  },
  {
   "cell_type": "code",
   "execution_count": null,
   "metadata": {},
   "outputs": [],
   "source": [
    "df_new = pd.merge(df_archive, df_images, how='inner', on='tweet_id')\n",
    "df_new2 = pd.merge(df_tweetInfo, df_images, how='inner', on='tweet_id')\n",
    "df_new3 = pd.merge(df_new, df_new2, how='inner', on='tweet_id')\n",
    "print(len(df_new))\n",
    "print(len(df_new2))\n",
    "print(len(df_new3))\n",
    "#print(df_new3.columns)\n",
    "print(df_new3.columns)\n",
    "df_new3.head()\n",
    "\n",
    "#df_new = df_archive.join(df_images.set_index('tweet_id'),on='tweet_id',how='inner')\n",
    "#df_new2 = df_tweetInfo.join(df_images.set_index('tweet_id'),on='tweet_id',how='inner')\n",
    "#df_new.head()\n",
    "#print(len(df_new))\n",
    "#print(len(df_new2))\n",
    "\n",
    "# df_new3 = df_new2.join(df_new.set_index('tweet_id'),on='tweet_id',how='inner')\n",
    "# print(len(df_new3))"
   ]
  },
  {
   "cell_type": "code",
   "execution_count": null,
   "metadata": {},
   "outputs": [],
   "source": []
  },
  {
   "cell_type": "code",
   "execution_count": null,
   "metadata": {},
   "outputs": [],
   "source": [
    "df_archive = df_archive[df_archive.tweet_id.isin(df_images.tweet_id)]\n",
    "len(df_archive)"
   ]
  },
  {
   "cell_type": "code",
   "execution_count": null,
   "metadata": {},
   "outputs": [],
   "source": [
    "df_tweetInfo = df_tweetInfo[df_tweetInfo.tweet_id.isin(df_images.tweet_id)]\n",
    "len(df_tweetInfo)"
   ]
  },
  {
   "cell_type": "code",
   "execution_count": null,
   "metadata": {},
   "outputs": [],
   "source": [
    "#df_tweetInfo"
   ]
  },
  {
   "cell_type": "code",
   "execution_count": null,
   "metadata": {},
   "outputs": [],
   "source": []
  },
  {
   "cell_type": "code",
   "execution_count": null,
   "metadata": {},
   "outputs": [],
   "source": []
  },
  {
   "cell_type": "code",
   "execution_count": null,
   "metadata": {},
   "outputs": [],
   "source": []
  },
  {
   "cell_type": "code",
   "execution_count": null,
   "metadata": {},
   "outputs": [],
   "source": []
  },
  {
   "cell_type": "code",
   "execution_count": null,
   "metadata": {},
   "outputs": [],
   "source": []
  },
  {
   "cell_type": "code",
   "execution_count": null,
   "metadata": {},
   "outputs": [],
   "source": []
  },
  {
   "cell_type": "code",
   "execution_count": null,
   "metadata": {},
   "outputs": [],
   "source": []
  },
  {
   "cell_type": "code",
   "execution_count": null,
   "metadata": {},
   "outputs": [],
   "source": []
  },
  {
   "cell_type": "code",
   "execution_count": null,
   "metadata": {},
   "outputs": [],
   "source": []
  },
  {
   "cell_type": "code",
   "execution_count": null,
   "metadata": {},
   "outputs": [],
   "source": []
  },
  {
   "cell_type": "markdown",
   "metadata": {},
   "source": [
    "<a id='code_snippets'></a>\n",
    "([Top of Page](#top_of_page))\n",
    "\n",
    "<span style=\"color:red\">\n",
    "\n",
    "## Code Snippets\n",
    "Code templates that were considered, but not used. Left here for future reference\n",
    "</span>"
   ]
  },
  {
   "cell_type": "markdown",
   "metadata": {},
   "source": [
    "<a id='code_snippets_dropping_rows'></a>\n",
    "([Top of Page](#top_of_page))\n",
    "\n",
    "<span style=\"color:red\">\n",
    "\n",
    "### Dropping Rows\n",
    "</span>"
   ]
  },
  {
   "cell_type": "markdown",
   "metadata": {},
   "source": [
    "**Code Snippet (for Future Reference) - dropping a single row:**"
   ]
  },
  {
   "cell_type": "code",
   "execution_count": null,
   "metadata": {},
   "outputs": [],
   "source": [
    "# Delete row with index label 'b' \n",
    "# modDfObj = dfObj.drop('b')\n",
    "\n",
    "# remove the rows where line_race is equal to 0\n",
    "# df = df[df.line_race != 0]"
   ]
  },
  {
   "cell_type": "markdown",
   "metadata": {},
   "source": [
    "**Code Snippet (for Future Reference) - dropping multiple rows based on indices:**"
   ]
  },
  {
   "cell_type": "code",
   "execution_count": null,
   "metadata": {},
   "outputs": [],
   "source": [
    "# <column_values>_to_remove = set()\n",
    "# for i in [index_1, index_2, ... index_N, etc.]:\n",
    "#     <column_values>_to_remove.add(df_archive.loc[i].<column>)\n",
    "\n",
    "# dataframe of specific <column_values> to remove\n",
    "#df['<column>'].isin(<column_values>_to_remove)\n",
    "\n",
    "# remove the <column_values> of interest from the original dataframe\n",
    "# df = df[~df['<column>'].isin(<column_values>_to_remove)]"
   ]
  },
  {
   "cell_type": "markdown",
   "metadata": {},
   "source": [
    "<a id='code_snippets_merging'></a>\n",
    "([Top of Page](#top_of_page))\n",
    "\n",
    "<span style=\"color:red\">\n",
    "\n",
    "### Merging Dataframes\n",
    "</span>"
   ]
  },
  {
   "cell_type": "code",
   "execution_count": null,
   "metadata": {},
   "outputs": [],
   "source": [
    "tweetsKeep = set(df_images_orig.tweet_id)\n",
    "print('# of tweets to keep = ' + str(len(tweetsKeep)))\n",
    "\n",
    "# df_archive = df_archive[df_archive.tweet_id.isin(df_images.tweet_id)]\n",
    "# df_tweetInfo = df_tweetInfo[df_tweetInfo.tweet_id.isin(df_images.tweet_id)]\n",
    "# len(df_tweetInfo)\n",
    "\n",
    "numTweets_archive_and_images = len(df_archive[df_archive.tweet_id.isin(df_images.tweet_id)])\n",
    "#numTweets_tweetInfo_and_images = len(df_tweetInfo[df_tweetInfo.tweet_id.isin(df_images.tweet_id)])\n",
    "\n",
    "mask = df_tweetInfo.tweet_id.isin(df_images.tweet_id)\n",
    "numTweets_tweetInfo_and_images = len(df_tweetInfo[mask])\n",
    "\n",
    "tweetsKeep = df_tweetInfo[df_tweetInfo.tweet_id.isin(df_images.tweet_id)]\n",
    "\n",
    "print('len(tweetInfo): ' + str(len(df_tweetInfo)))\n",
    "print(numTweets_archive_and_images)\n",
    "print(numTweets_tweetInfo_and_images)"
   ]
  },
  {
   "cell_type": "code",
   "execution_count": null,
   "metadata": {},
   "outputs": [],
   "source": [
    "df_archive = df_archive_orig.copy(deep=True)\n",
    "df_images = df_images_orig.copy(deep=True)\n",
    "df_tweetInfo = df_tweetInfo_orig.copy(deep=True)\n",
    "print(len(df_archive))\n",
    "print(len(df_images))\n",
    "print(len(df_tweetInfo))"
   ]
  },
  {
   "cell_type": "markdown",
   "metadata": {},
   "source": [
    "Prior to joining the dataframes, check to make sure that they do not share column names."
   ]
  },
  {
   "cell_type": "code",
   "execution_count": null,
   "metadata": {},
   "outputs": [],
   "source": [
    "print(df_archive.columns)\n",
    "print('--------------------------------------------------------')\n",
    "print(df_images.columns)\n",
    "print('--------------------------------------------------------')\n",
    "print(df_tweetInfo.columns)"
   ]
  },
  {
   "cell_type": "markdown",
   "metadata": {},
   "source": [
    "The only shared column name is 'tweet_id'. This will be the column that the dataframes are joined on."
   ]
  },
  {
   "cell_type": "markdown",
   "metadata": {},
   "source": [
    "Reference: StackOverflow post on [how to merge dataframes and avoid duplicating columns](https://stackoverflow.com/questions/19125091/pandas-merge-how-to-avoid-duplicating-columns)"
   ]
  },
  {
   "cell_type": "code",
   "execution_count": null,
   "metadata": {},
   "outputs": [],
   "source": [
    "df_master = pd.merge(df_archive, df_images, how='inner', on='tweet_id')\n",
    "cols_to_use = df_tweetInfo.columns.difference(df_master.columns)\n",
    "print(cols_to_use)\n",
    "\n",
    "df_master = pd.merge(df_master, df_tweetInfo[cols_to_use], left_index=True, right_index=True, how='inner')\n",
    "print('---------------------------------------------------------------------')\n",
    "print(df_master.columns)\n",
    "print(len(df_master))"
   ]
  },
  {
   "cell_type": "code",
   "execution_count": null,
   "metadata": {},
   "outputs": [],
   "source": []
  },
  {
   "cell_type": "code",
   "execution_count": null,
   "metadata": {},
   "outputs": [],
   "source": [
    "df_new = pd.merge(df_archive, df_images, how='inner', on='tweet_id')\n",
    "df_new2 = pd.merge(df_tweetInfo, df_images, how='inner', on='tweet_id')\n",
    "\n",
    "cols_to_use = df_new2.columns.difference(df_new.columns)\n",
    "print(cols_to_use)\n",
    "#print(len(df_new))\n",
    "#print(len(df_new2))\n",
    "#df_new2 = pd.merge(df_tweetInfo, df_images, how='inner', on='tweet_id')\n",
    "#df_new3 = pd.merge(df_new, df_new2[cols_to_use], how='outer', on='tweet_id')\n",
    "df_new3 = pd.merge(df_new, df_new2[cols_to_use], left_index=True, right_index=True, how='outer')\n",
    "print('---------------------------------------------------------------------')\n",
    "print(df_new.columns)\n",
    "print('---------------------------------------------------------------------')\n",
    "print(df_new2.columns)\n",
    "print('---------------------------------------------------------------------')\n",
    "print(df_new3.columns)\n",
    "#df_new2[cols_to_use]"
   ]
  },
  {
   "cell_type": "code",
   "execution_count": null,
   "metadata": {},
   "outputs": [],
   "source": []
  },
  {
   "cell_type": "code",
   "execution_count": null,
   "metadata": {},
   "outputs": [],
   "source": [
    "df_new = pd.merge(df_archive, df_images, how='inner', on='tweet_id')\n",
    "df_new2 = pd.merge(df_tweetInfo, df_images, how='inner', on='tweet_id')\n",
    "df_new3 = pd.merge(df_new, df_new2, how='inner', on='tweet_id')\n",
    "print(len(df_new))\n",
    "print(len(df_new2))\n",
    "print(len(df_new3))\n",
    "#print(df_new3.columns)\n",
    "df_new3.head()\n",
    "\n",
    "#df_new = df_archive.join(df_images.set_index('tweet_id'),on='tweet_id',how='inner')\n",
    "#df_new2 = df_tweetInfo.join(df_images.set_index('tweet_id'),on='tweet_id',how='inner')\n",
    "#df_new.head()\n",
    "#print(len(df_new))\n",
    "#print(len(df_new2))\n",
    "\n",
    "# df_new3 = df_new2.join(df_new.set_index('tweet_id'),on='tweet_id',how='inner')\n",
    "# print(len(df_new3))"
   ]
  },
  {
   "cell_type": "code",
   "execution_count": null,
   "metadata": {},
   "outputs": [],
   "source": []
  },
  {
   "cell_type": "code",
   "execution_count": null,
   "metadata": {},
   "outputs": [],
   "source": [
    "df_new = pd.merge(df_archive, df_images, how='inner', on='tweet_id')\n",
    "df_new2 = pd.merge(df_tweetInfo, df_images, how='inner', on='tweet_id')\n",
    "df_new3 = pd.merge(df_new, df_new2, how='inner', on='tweet_id')\n",
    "print(len(df_new))\n",
    "print(len(df_new2))\n",
    "print(len(df_new3))\n",
    "#print(df_new3.columns)\n",
    "print(df_new3.columns)\n",
    "df_new3.head()\n",
    "\n",
    "#df_new = df_archive.join(df_images.set_index('tweet_id'),on='tweet_id',how='inner')\n",
    "#df_new2 = df_tweetInfo.join(df_images.set_index('tweet_id'),on='tweet_id',how='inner')\n",
    "#df_new.head()\n",
    "#print(len(df_new))\n",
    "#print(len(df_new2))\n",
    "\n",
    "# df_new3 = df_new2.join(df_new.set_index('tweet_id'),on='tweet_id',how='inner')\n",
    "# print(len(df_new3))"
   ]
  },
  {
   "cell_type": "code",
   "execution_count": null,
   "metadata": {},
   "outputs": [],
   "source": []
  },
  {
   "cell_type": "code",
   "execution_count": null,
   "metadata": {},
   "outputs": [],
   "source": []
  },
  {
   "cell_type": "code",
   "execution_count": null,
   "metadata": {},
   "outputs": [],
   "source": [
    "df_archive = df_archive[df_archive.tweet_id.isin(df_images.tweet_id)]\n",
    "len(df_archive)"
   ]
  },
  {
   "cell_type": "code",
   "execution_count": null,
   "metadata": {},
   "outputs": [],
   "source": [
    "df_tweetInfo = df_tweetInfo[df_tweetInfo.tweet_id.isin(df_images.tweet_id)]\n",
    "len(df_tweetInfo)"
   ]
  },
  {
   "cell_type": "code",
   "execution_count": null,
   "metadata": {},
   "outputs": [],
   "source": [
    "#df_tweetInfo"
   ]
  },
  {
   "cell_type": "code",
   "execution_count": null,
   "metadata": {},
   "outputs": [],
   "source": []
  },
  {
   "cell_type": "code",
   "execution_count": null,
   "metadata": {},
   "outputs": [],
   "source": []
  },
  {
   "cell_type": "code",
   "execution_count": null,
   "metadata": {},
   "outputs": [],
   "source": []
  },
  {
   "cell_type": "code",
   "execution_count": null,
   "metadata": {},
   "outputs": [],
   "source": []
  },
  {
   "cell_type": "code",
   "execution_count": null,
   "metadata": {},
   "outputs": [],
   "source": []
  },
  {
   "cell_type": "markdown",
   "metadata": {},
   "source": [
    "<a id='open_items'></a>\n",
    "([Top of Page](#top_of_page))\n",
    "\n",
    "<span style=\"color:red\">\n",
    "\n",
    "## Open Items\n",
    "</span>"
   ]
  },
  {
   "cell_type": "markdown",
   "metadata": {},
   "source": [
    "<a id='open_items_to_check'></a>\n",
    "([Top of Page](#top_of_page))\n",
    "\n",
    "<span style=\"color:red\">\n",
    "\n",
    "### Issues to check for: \n",
    "\n",
    "* **Accuracy**\n",
    "  * There maybe some entries that are not pictures of dogs (typically rated less than 10?)\n",
    "  * Some names in the name columns can't possibly be dog names. (a, an, the, etc...)\n",
    "\n",
    "* **Completeness**\n",
    "  * Missing data for dog breed predictions:\n",
    "  * Only want original ratings. Make sure we don't have retweets. \n",
    "  \n",
    "* **Validity**\n",
    "  * tweet_id = 680494726643068929, rating = 26, text: \"11.26/10\" --> change rating to 12)\n",
    "  * tweet_id = 786709082849828864, rating = 75, text: \"9.75/10\" --> change rating to 10)\n",
    "  * tweet_id = 778027034220126208, rating = 27, text: \"11.27/10\" --> change rating to 12)\n",
    "  \n",
    "</span>"
   ]
  },
  {
   "cell_type": "markdown",
   "metadata": {},
   "source": [
    "<a id='open_items_prelimCode_doggo_accuracy'></a>\n",
    "([Top of Page](#top_of_page))\n",
    "\n",
    "<span style=\"color:red\">\n",
    "\n",
    "### Preliminary code to check accuracy of **doggo** column in df_archive\n",
    "* This mini-analysis is incomplete, and probably needs revisited.\n",
    "\n",
    "</span>"
   ]
  },
  {
   "cell_type": "code",
   "execution_count": null,
   "metadata": {},
   "outputs": [],
   "source": [
    "# determine how many entries have \"doggo\" in the tweet\n",
    "df_temp = df_archive[df_archive['text'].str.contains(\"doggo\")]\n",
    "#df_temp.doggo.count()\n",
    "\n",
    "# of those entries, determine how many have 'None' in the 'doggo' column\n",
    "df_temp2 = df_temp[df_temp['doggo'].str.contains(\"None\")]\n",
    "#df_temp2.count()\n",
    "#df_temp2.text[0:5].apply(lambda entry: print(entry))\n",
    "df_temp2.head()"
   ]
  },
  {
   "cell_type": "code",
   "execution_count": null,
   "metadata": {},
   "outputs": [],
   "source": [
    "# ----- LEFTOVER CODE SNIPPETS -----\n",
    "#f = lambda x: print(x)\n",
    "#df_temp2.count()\n",
    "#for row2 in df_temp2:\n",
    "#    print(row2)\n",
    "#df_temp3['doggo'] = df_temp2['doggo'].apply(lambda x: x > 0)\n",
    "#df_temp2\n",
    "#     # filter to all entries where the 'doggo' column == 'None'\n",
    "#     # print\n",
    "# df_temp = df_archive[df_archive['text'].str.contains(\"doggo\")]\n",
    "# #df_archive[df_archive['text'].str.contains(\"doggo\")].count()\n",
    "# #df_archive.groupby('doggo').count()\n",
    "# df_archive.groupby('doggo').count()\n",
    "# #df_temp.head()\n",
    "# #df_temp[df]\n",
    "\n",
    "#df_archive.groupby('rating_numerator').rating_numerator.count()\n",
    "#df_archive[df_archive['text'].str.contains(\"doggo\")]\n",
    "#df_archive[df_archive['text'].str.contains(\"doggo\")].iloc[2].text"
   ]
  },
  {
   "cell_type": "markdown",
   "metadata": {},
   "source": [
    "<a id='open_items_to_be_aware_of'></a>\n",
    "([Top of Page](#top_of_page))\n",
    "\n",
    "<span style=\"color:purple\">\n",
    "\n",
    "## Issues to be aware of (don't necessarily have to correct): \n",
    "\n",
    "**Completeness**\n",
    "  * Not all tweet ids in **df_archive** table have images<br><br>\n",
    "\n",
    "**Validity**\n",
    "  * Data have reply tweets in which rating is changed thus making two observations about same dog and also making the first rating obsolete\n",
    "  \n",
    "  \n",
    "</span>"
   ]
  },
  {
   "cell_type": "code",
   "execution_count": null,
   "metadata": {},
   "outputs": [],
   "source": []
  },
  {
   "cell_type": "code",
   "execution_count": null,
   "metadata": {},
   "outputs": [],
   "source": []
  }
 ],
 "metadata": {
  "kernelspec": {
   "display_name": "Python 3",
   "language": "python",
   "name": "python3"
  },
  "language_info": {
   "codemirror_mode": {
    "name": "ipython",
    "version": 3
   },
   "file_extension": ".py",
   "mimetype": "text/x-python",
   "name": "python",
   "nbconvert_exporter": "python",
   "pygments_lexer": "ipython3",
   "version": "3.7.2"
  }
 },
 "nbformat": 4,
 "nbformat_minor": 2
}
